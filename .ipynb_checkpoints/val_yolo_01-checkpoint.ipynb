{
 "cells": [
  {
   "cell_type": "code",
   "execution_count": 159,
   "metadata": {
    "ExecuteTime": {
     "end_time": "2019-02-10T15:01:33.484381Z",
     "start_time": "2019-02-10T15:01:33.481061Z"
    }
   },
   "outputs": [],
   "source": [
    "import json\n",
    "import numpy\n",
    "from collections import defaultdict\n",
    "from PIL import Image\n",
    "import matplotlib.pyplot as plt\n",
    "import pandas as pd\n",
    "import numpy as np\n",
    "import os\n",
    "import time"
   ]
  },
  {
   "cell_type": "code",
   "execution_count": 160,
   "metadata": {},
   "outputs": [],
   "source": [
    "import os\n",
    "import baseline\n",
    "import pandas as pd\n",
    "import numpy as np\n",
    "#TEMPORARILY SUPPRESS WARNINGS\n",
    "import warnings\n",
    "\n",
    "warnings.filterwarnings(\"ignore\")"
   ]
  },
  {
   "cell_type": "markdown",
   "metadata": {},
   "source": [
    "# get the actual labels in the validation set"
   ]
  },
  {
   "cell_type": "code",
   "execution_count": 161,
   "metadata": {
    "ExecuteTime": {
     "end_time": "2019-02-10T15:02:49.241219Z",
     "start_time": "2019-02-10T15:02:47.586565Z"
    }
   },
   "outputs": [],
   "source": [
    "captions_train_path = \"/mnt/muthderd/MIDS/W210/data/annotations_trainval2017/annotations/captions_train2017.json\"\n",
    "captions_val_path = \"/mnt/muthderd/MIDS/W210/data/annotations_trainval2017/annotations/captions_val2017.json\"\n",
    "#captions_train  = json.loads(open(captions_train_path).read())"
   ]
  },
  {
   "cell_type": "code",
   "execution_count": 162,
   "metadata": {
    "ExecuteTime": {
     "end_time": "2019-02-10T15:30:21.837928Z",
     "start_time": "2019-02-10T15:29:52.465683Z"
    }
   },
   "outputs": [],
   "source": [
    "inst_train_path = \"/mnt/muthderd/MIDS/W210/data/annotations_trainval2017/annotations/instances_train2017.json\"\n",
    "inst_val_path = \"/mnt/muthderd/MIDS/W210/data/annotations_trainval2017/annotations/instances_val2017.json\"\n",
    "#inst_train  = json.loads(open(inst_train_path).read())"
   ]
  },
  {
   "cell_type": "code",
   "execution_count": 163,
   "metadata": {},
   "outputs": [],
   "source": [
    "def get_electronics_info(captions_path, inst_path):\n",
    "    captions  = json.loads(open(captions_path).read())\n",
    "    inst  = json.loads(open(inst_path).read())\n",
    "    image_df = pd.DataFrame(inst['images'])\n",
    "    annotation_df = pd.DataFrame(inst['annotations'])\n",
    "    #the 'id' in image_df needs to be changed to 'image_id' in order to join with annotations_df\n",
    "    renamed_image_df = image_df.copy(deep=True)\n",
    "    renamed_image_df.rename(columns={'id':'image_id'}, inplace=True)\n",
    "    images_and_annotations_df = annotation_df.merge(renamed_image_df,on='image_id', how='left')\n",
    "    electronics_only_merged_df = images_and_annotations_df.loc[(images_and_annotations_df['category_id'] >= 72) & (images_and_annotations_df['category_id'] <= 77)]\n",
    "    \n",
    "    #select all images that contain electronics\n",
    "    #all_images_with_electronics = list(pd.Series(electronics_only_merged_df['image_id']).unique())\n",
    "    \n",
    "    return(electronics_only_merged_df)"
   ]
  },
  {
   "cell_type": "code",
   "execution_count": 164,
   "metadata": {},
   "outputs": [],
   "source": [
    "train_electronics = get_electronics_info(captions_train_path, inst_train_path)\n",
    "val_electronics = get_electronics_info(captions_val_path, inst_val_path)"
   ]
  },
  {
   "cell_type": "code",
   "execution_count": 165,
   "metadata": {},
   "outputs": [
    {
     "data": {
      "text/html": [
       "<div>\n",
       "<style scoped>\n",
       "    .dataframe tbody tr th:only-of-type {\n",
       "        vertical-align: middle;\n",
       "    }\n",
       "\n",
       "    .dataframe tbody tr th {\n",
       "        vertical-align: top;\n",
       "    }\n",
       "\n",
       "    .dataframe thead th {\n",
       "        text-align: right;\n",
       "    }\n",
       "</style>\n",
       "<table border=\"1\" class=\"dataframe\">\n",
       "  <thead>\n",
       "    <tr style=\"text-align: right;\">\n",
       "      <th></th>\n",
       "      <th>area</th>\n",
       "      <th>bbox</th>\n",
       "      <th>category_id</th>\n",
       "      <th>id</th>\n",
       "      <th>image_id</th>\n",
       "      <th>iscrowd</th>\n",
       "      <th>segmentation</th>\n",
       "      <th>coco_url</th>\n",
       "      <th>date_captured</th>\n",
       "      <th>file_name</th>\n",
       "      <th>flickr_url</th>\n",
       "      <th>height</th>\n",
       "      <th>license</th>\n",
       "      <th>width</th>\n",
       "    </tr>\n",
       "  </thead>\n",
       "  <tbody>\n",
       "    <tr>\n",
       "      <th>341</th>\n",
       "      <td>9919.64620</td>\n",
       "      <td>[308.43, 35.25, 126.4, 108.71]</td>\n",
       "      <td>72</td>\n",
       "      <td>28405</td>\n",
       "      <td>275781</td>\n",
       "      <td>0</td>\n",
       "      <td>[[316.85, 102.67, 308.43, 63.9, 414.61, 35.25,...</td>\n",
       "      <td>http://images.cocodataset.org/train2017/000000...</td>\n",
       "      <td>2013-11-14 23:31:26</td>\n",
       "      <td>000000275781.jpg</td>\n",
       "      <td>http://farm4.staticflickr.com/3170/2601758661_...</td>\n",
       "      <td>375</td>\n",
       "      <td>3</td>\n",
       "      <td>500</td>\n",
       "    </tr>\n",
       "    <tr>\n",
       "      <th>342</th>\n",
       "      <td>66958.31445</td>\n",
       "      <td>[319.77, 9.19, 319.77, 286.26]</td>\n",
       "      <td>72</td>\n",
       "      <td>28473</td>\n",
       "      <td>403107</td>\n",
       "      <td>0</td>\n",
       "      <td>[[328.39, 10.15, 319.77, 206.42, 616.57, 295.4...</td>\n",
       "      <td>http://images.cocodataset.org/train2017/000000...</td>\n",
       "      <td>2013-11-15 15:01:19</td>\n",
       "      <td>000000403107.jpg</td>\n",
       "      <td>http://farm4.staticflickr.com/3047/3154457418_...</td>\n",
       "      <td>427</td>\n",
       "      <td>3</td>\n",
       "      <td>640</td>\n",
       "    </tr>\n",
       "    <tr>\n",
       "      <th>343</th>\n",
       "      <td>15215.62820</td>\n",
       "      <td>[394.5, 42.74, 143.19, 143.19]</td>\n",
       "      <td>72</td>\n",
       "      <td>28633</td>\n",
       "      <td>203085</td>\n",
       "      <td>0</td>\n",
       "      <td>[[414.41, 46.53, 514.93, 42.74, 513.04, 93.95,...</td>\n",
       "      <td>http://images.cocodataset.org/train2017/000000...</td>\n",
       "      <td>2013-11-15 13:00:53</td>\n",
       "      <td>000000203085.jpg</td>\n",
       "      <td>http://farm9.staticflickr.com/8065/8201625616_...</td>\n",
       "      <td>422</td>\n",
       "      <td>1</td>\n",
       "      <td>600</td>\n",
       "    </tr>\n",
       "    <tr>\n",
       "      <th>344</th>\n",
       "      <td>21650.08250</td>\n",
       "      <td>[48.9, 27.33, 165.39, 149.57]</td>\n",
       "      <td>72</td>\n",
       "      <td>28660</td>\n",
       "      <td>520862</td>\n",
       "      <td>0</td>\n",
       "      <td>[[205.66, 156.76, 179.78, 158.2, 191.28, 169.7...</td>\n",
       "      <td>http://images.cocodataset.org/train2017/000000...</td>\n",
       "      <td>2013-11-14 21:33:34</td>\n",
       "      <td>000000520862.jpg</td>\n",
       "      <td>http://farm4.staticflickr.com/3376/3631630894_...</td>\n",
       "      <td>640</td>\n",
       "      <td>2</td>\n",
       "      <td>480</td>\n",
       "    </tr>\n",
       "    <tr>\n",
       "      <th>345</th>\n",
       "      <td>3906.61265</td>\n",
       "      <td>[516.13, 236.31, 63.95, 67.7]</td>\n",
       "      <td>72</td>\n",
       "      <td>28685</td>\n",
       "      <td>225913</td>\n",
       "      <td>0</td>\n",
       "      <td>[[516.96, 242.13, 516.13, 288.64, 524.02, 291....</td>\n",
       "      <td>http://images.cocodataset.org/train2017/000000...</td>\n",
       "      <td>2013-11-14 22:16:49</td>\n",
       "      <td>000000225913.jpg</td>\n",
       "      <td>http://farm4.staticflickr.com/3152/2642920071_...</td>\n",
       "      <td>480</td>\n",
       "      <td>1</td>\n",
       "      <td>640</td>\n",
       "    </tr>\n",
       "  </tbody>\n",
       "</table>\n",
       "</div>"
      ],
      "text/plain": [
       "            area                            bbox  category_id     id  \\\n",
       "341   9919.64620  [308.43, 35.25, 126.4, 108.71]           72  28405   \n",
       "342  66958.31445  [319.77, 9.19, 319.77, 286.26]           72  28473   \n",
       "343  15215.62820  [394.5, 42.74, 143.19, 143.19]           72  28633   \n",
       "344  21650.08250   [48.9, 27.33, 165.39, 149.57]           72  28660   \n",
       "345   3906.61265   [516.13, 236.31, 63.95, 67.7]           72  28685   \n",
       "\n",
       "     image_id  iscrowd                                       segmentation  \\\n",
       "341    275781        0  [[316.85, 102.67, 308.43, 63.9, 414.61, 35.25,...   \n",
       "342    403107        0  [[328.39, 10.15, 319.77, 206.42, 616.57, 295.4...   \n",
       "343    203085        0  [[414.41, 46.53, 514.93, 42.74, 513.04, 93.95,...   \n",
       "344    520862        0  [[205.66, 156.76, 179.78, 158.2, 191.28, 169.7...   \n",
       "345    225913        0  [[516.96, 242.13, 516.13, 288.64, 524.02, 291....   \n",
       "\n",
       "                                              coco_url        date_captured  \\\n",
       "341  http://images.cocodataset.org/train2017/000000...  2013-11-14 23:31:26   \n",
       "342  http://images.cocodataset.org/train2017/000000...  2013-11-15 15:01:19   \n",
       "343  http://images.cocodataset.org/train2017/000000...  2013-11-15 13:00:53   \n",
       "344  http://images.cocodataset.org/train2017/000000...  2013-11-14 21:33:34   \n",
       "345  http://images.cocodataset.org/train2017/000000...  2013-11-14 22:16:49   \n",
       "\n",
       "            file_name                                         flickr_url  \\\n",
       "341  000000275781.jpg  http://farm4.staticflickr.com/3170/2601758661_...   \n",
       "342  000000403107.jpg  http://farm4.staticflickr.com/3047/3154457418_...   \n",
       "343  000000203085.jpg  http://farm9.staticflickr.com/8065/8201625616_...   \n",
       "344  000000520862.jpg  http://farm4.staticflickr.com/3376/3631630894_...   \n",
       "345  000000225913.jpg  http://farm4.staticflickr.com/3152/2642920071_...   \n",
       "\n",
       "     height  license  width  \n",
       "341     375        3    500  \n",
       "342     427        3    640  \n",
       "343     422        1    600  \n",
       "344     640        2    480  \n",
       "345     480        1    640  "
      ]
     },
     "execution_count": 165,
     "metadata": {},
     "output_type": "execute_result"
    }
   ],
   "source": [
    "train_electronics.head()"
   ]
  },
  {
   "cell_type": "code",
   "execution_count": 166,
   "metadata": {
    "scrolled": true
   },
   "outputs": [
    {
     "data": {
      "text/html": [
       "<div>\n",
       "<style scoped>\n",
       "    .dataframe tbody tr th:only-of-type {\n",
       "        vertical-align: middle;\n",
       "    }\n",
       "\n",
       "    .dataframe tbody tr th {\n",
       "        vertical-align: top;\n",
       "    }\n",
       "\n",
       "    .dataframe thead th {\n",
       "        text-align: right;\n",
       "    }\n",
       "</style>\n",
       "<table border=\"1\" class=\"dataframe\">\n",
       "  <thead>\n",
       "    <tr style=\"text-align: right;\">\n",
       "      <th></th>\n",
       "      <th>area</th>\n",
       "      <th>bbox</th>\n",
       "      <th>category_id</th>\n",
       "      <th>id</th>\n",
       "      <th>image_id</th>\n",
       "      <th>iscrowd</th>\n",
       "      <th>segmentation</th>\n",
       "      <th>coco_url</th>\n",
       "      <th>date_captured</th>\n",
       "      <th>file_name</th>\n",
       "      <th>flickr_url</th>\n",
       "      <th>height</th>\n",
       "      <th>license</th>\n",
       "      <th>width</th>\n",
       "    </tr>\n",
       "  </thead>\n",
       "  <tbody>\n",
       "    <tr>\n",
       "      <th>48</th>\n",
       "      <td>31935.48505</td>\n",
       "      <td>[279.11, 209.81, 206.02, 160.44]</td>\n",
       "      <td>72</td>\n",
       "      <td>29131</td>\n",
       "      <td>464476</td>\n",
       "      <td>0</td>\n",
       "      <td>[[279.11, 370.25, 281.96, 214.56, 283.86, 209....</td>\n",
       "      <td>http://images.cocodataset.org/val2017/00000046...</td>\n",
       "      <td>2013-11-14 18:23:40</td>\n",
       "      <td>000000464476.jpg</td>\n",
       "      <td>http://farm1.staticflickr.com/24/35275654_7d93...</td>\n",
       "      <td>375</td>\n",
       "      <td>3</td>\n",
       "      <td>500</td>\n",
       "    </tr>\n",
       "    <tr>\n",
       "      <th>49</th>\n",
       "      <td>2293.67560</td>\n",
       "      <td>[97.28, 202.37, 60.28, 39.91]</td>\n",
       "      <td>72</td>\n",
       "      <td>29249</td>\n",
       "      <td>68833</td>\n",
       "      <td>0</td>\n",
       "      <td>[[100.23, 203.21, 133.68, 202.93, 155.88, 202....</td>\n",
       "      <td>http://images.cocodataset.org/val2017/00000006...</td>\n",
       "      <td>2013-11-14 16:32:09</td>\n",
       "      <td>000000068833.jpg</td>\n",
       "      <td>http://farm8.staticflickr.com/7152/6427642465_...</td>\n",
       "      <td>480</td>\n",
       "      <td>1</td>\n",
       "      <td>640</td>\n",
       "    </tr>\n",
       "    <tr>\n",
       "      <th>50</th>\n",
       "      <td>265862.40795</td>\n",
       "      <td>[1.08, 1.72, 574.7, 471.39]</td>\n",
       "      <td>72</td>\n",
       "      <td>29555</td>\n",
       "      <td>433915</td>\n",
       "      <td>0</td>\n",
       "      <td>[[388.52, 2.8, 567.17, 15.71, 574.71, 234.19, ...</td>\n",
       "      <td>http://images.cocodataset.org/val2017/00000043...</td>\n",
       "      <td>2013-11-14 19:04:41</td>\n",
       "      <td>000000433915.jpg</td>\n",
       "      <td>http://farm4.staticflickr.com/3519/3243850638_...</td>\n",
       "      <td>480</td>\n",
       "      <td>3</td>\n",
       "      <td>640</td>\n",
       "    </tr>\n",
       "    <tr>\n",
       "      <th>51</th>\n",
       "      <td>61254.97715</td>\n",
       "      <td>[3.88, 0.0, 287.98, 251.13]</td>\n",
       "      <td>72</td>\n",
       "      <td>29829</td>\n",
       "      <td>149222</td>\n",
       "      <td>0</td>\n",
       "      <td>[[4.46, 19.19, 12.67, 95.55, 16.77, 133.31, 33...</td>\n",
       "      <td>http://images.cocodataset.org/val2017/00000014...</td>\n",
       "      <td>2013-11-15 15:11:24</td>\n",
       "      <td>000000149222.jpg</td>\n",
       "      <td>http://farm1.staticflickr.com/23/33195394_22d6...</td>\n",
       "      <td>383</td>\n",
       "      <td>2</td>\n",
       "      <td>500</td>\n",
       "    </tr>\n",
       "    <tr>\n",
       "      <th>52</th>\n",
       "      <td>16606.20565</td>\n",
       "      <td>[145.26, 214.29, 165.39, 107.87]</td>\n",
       "      <td>72</td>\n",
       "      <td>30246</td>\n",
       "      <td>17379</td>\n",
       "      <td>0</td>\n",
       "      <td>[[284.76, 320.72, 267.51, 322.16, 247.37, 322....</td>\n",
       "      <td>http://images.cocodataset.org/val2017/00000001...</td>\n",
       "      <td>2013-11-15 01:16:56</td>\n",
       "      <td>000000017379.jpg</td>\n",
       "      <td>http://farm6.staticflickr.com/5123/5316824279_...</td>\n",
       "      <td>640</td>\n",
       "      <td>1</td>\n",
       "      <td>478</td>\n",
       "    </tr>\n",
       "  </tbody>\n",
       "</table>\n",
       "</div>"
      ],
      "text/plain": [
       "            area                              bbox  category_id     id  \\\n",
       "48   31935.48505  [279.11, 209.81, 206.02, 160.44]           72  29131   \n",
       "49    2293.67560     [97.28, 202.37, 60.28, 39.91]           72  29249   \n",
       "50  265862.40795       [1.08, 1.72, 574.7, 471.39]           72  29555   \n",
       "51   61254.97715       [3.88, 0.0, 287.98, 251.13]           72  29829   \n",
       "52   16606.20565  [145.26, 214.29, 165.39, 107.87]           72  30246   \n",
       "\n",
       "    image_id  iscrowd                                       segmentation  \\\n",
       "48    464476        0  [[279.11, 370.25, 281.96, 214.56, 283.86, 209....   \n",
       "49     68833        0  [[100.23, 203.21, 133.68, 202.93, 155.88, 202....   \n",
       "50    433915        0  [[388.52, 2.8, 567.17, 15.71, 574.71, 234.19, ...   \n",
       "51    149222        0  [[4.46, 19.19, 12.67, 95.55, 16.77, 133.31, 33...   \n",
       "52     17379        0  [[284.76, 320.72, 267.51, 322.16, 247.37, 322....   \n",
       "\n",
       "                                             coco_url        date_captured  \\\n",
       "48  http://images.cocodataset.org/val2017/00000046...  2013-11-14 18:23:40   \n",
       "49  http://images.cocodataset.org/val2017/00000006...  2013-11-14 16:32:09   \n",
       "50  http://images.cocodataset.org/val2017/00000043...  2013-11-14 19:04:41   \n",
       "51  http://images.cocodataset.org/val2017/00000014...  2013-11-15 15:11:24   \n",
       "52  http://images.cocodataset.org/val2017/00000001...  2013-11-15 01:16:56   \n",
       "\n",
       "           file_name                                         flickr_url  \\\n",
       "48  000000464476.jpg  http://farm1.staticflickr.com/24/35275654_7d93...   \n",
       "49  000000068833.jpg  http://farm8.staticflickr.com/7152/6427642465_...   \n",
       "50  000000433915.jpg  http://farm4.staticflickr.com/3519/3243850638_...   \n",
       "51  000000149222.jpg  http://farm1.staticflickr.com/23/33195394_22d6...   \n",
       "52  000000017379.jpg  http://farm6.staticflickr.com/5123/5316824279_...   \n",
       "\n",
       "    height  license  width  \n",
       "48     375        3    500  \n",
       "49     480        1    640  \n",
       "50     480        3    640  \n",
       "51     383        2    500  \n",
       "52     640        1    478  "
      ]
     },
     "execution_count": 166,
     "metadata": {},
     "output_type": "execute_result"
    }
   ],
   "source": [
    "val_electronics.head()"
   ]
  },
  {
   "cell_type": "code",
   "execution_count": 167,
   "metadata": {},
   "outputs": [],
   "source": [
    "#extract electronics IDs in each image\n",
    "eIDs_in_images = val_electronics.groupby('image_id')['category_id'].apply(list).to_dict()"
   ]
  },
  {
   "cell_type": "code",
   "execution_count": 168,
   "metadata": {},
   "outputs": [],
   "source": [
    "#select all images that contain electronics\n",
    "train_images_with_electronics = list(pd.Series(train_electronics['image_id']).unique())\n",
    "val_images_with_electronics = list(pd.Series(val_electronics['image_id']).unique())"
   ]
  },
  {
   "cell_type": "code",
   "execution_count": 169,
   "metadata": {},
   "outputs": [
    {
     "data": {
      "text/plain": [
       "[464476, 68833, 433915, 149222, 17379, 361586, 127987, 186632, 440475, 368900]"
      ]
     },
     "execution_count": 169,
     "metadata": {},
     "output_type": "execute_result"
    }
   ],
   "source": [
    "val_images_with_electronics[:10]"
   ]
  },
  {
   "cell_type": "code",
   "execution_count": 170,
   "metadata": {},
   "outputs": [
    {
     "data": {
      "text/plain": [
       "597"
      ]
     },
     "execution_count": 170,
     "metadata": {},
     "output_type": "execute_result"
    }
   ],
   "source": [
    "len(val_images_with_electronics)"
   ]
  },
  {
   "cell_type": "code",
   "execution_count": null,
   "metadata": {},
   "outputs": [],
   "source": []
  },
  {
   "cell_type": "markdown",
   "metadata": {},
   "source": [
    "# get the validation images with electronics"
   ]
  },
  {
   "cell_type": "code",
   "execution_count": 171,
   "metadata": {},
   "outputs": [],
   "source": [
    "val_folder_name = '/mnt/muthderd/MIDS/W210/data/val2017/'\n",
    "all_val_filenames = os.listdir(val_folder_name)"
   ]
  },
  {
   "cell_type": "code",
   "execution_count": 172,
   "metadata": {},
   "outputs": [],
   "source": [
    "max_file_id_length = len(all_val_filenames[0]) - 4#subtract 4 for the '.jpg' suffix"
   ]
  },
  {
   "cell_type": "code",
   "execution_count": 173,
   "metadata": {},
   "outputs": [],
   "source": [
    "files_to_open = []\n",
    "for image_id in val_images_with_electronics:\n",
    "    file_id = str(image_id)\n",
    "    zeros_to_add = max_file_id_length-len(file_id)\n",
    "    filename = ('0'*zeros_to_add) + file_id + '.jpg'\n",
    "    files_to_open.append(filename)"
   ]
  },
  {
   "cell_type": "code",
   "execution_count": 174,
   "metadata": {},
   "outputs": [
    {
     "data": {
      "text/plain": [
       "['000000464476.jpg',\n",
       " '000000068833.jpg',\n",
       " '000000433915.jpg',\n",
       " '000000149222.jpg',\n",
       " '000000017379.jpg',\n",
       " '000000361586.jpg',\n",
       " '000000127987.jpg',\n",
       " '000000186632.jpg',\n",
       " '000000440475.jpg',\n",
       " '000000368900.jpg']"
      ]
     },
     "execution_count": 174,
     "metadata": {},
     "output_type": "execute_result"
    }
   ],
   "source": [
    "files_to_open[:10]"
   ]
  },
  {
   "cell_type": "markdown",
   "metadata": {},
   "source": [
    "# test the baseline"
   ]
  },
  {
   "cell_type": "code",
   "execution_count": 175,
   "metadata": {},
   "outputs": [],
   "source": [
    "%%capture\n",
    "\n",
    "results_folder = '/mnt/muthderd/MIDS/W210/data/val_results/'\n",
    "data_folder = '/mnt/muthderd/MIDS/W210/data/val2017/'\n",
    "\n",
    "#test_filenames = os.listdir(data_folder)\n",
    "test_filenames = files_to_open#[:25]\n",
    "\n",
    "all_test_annotations = pd.DataFrame(columns=['image_id', 'class_id', 'scores', 1, 2, 3, 4])\n",
    "\n",
    "baseline_model = baseline.BaselineClassifier(model='yolo3_darknet53_coco')\n",
    "\n",
    "pred_start = time.time()\n",
    "\n",
    "for image in test_filenames:\n",
    "    class_ids, scores, bounding_boxes = baseline_model.classify_objects(image, data_folder, results_folder)\n",
    "    \n",
    "    class_id_series = pd.Series(class_ids[0].asnumpy().reshape(len(class_ids[0]),))\n",
    "    score_series = pd.Series(scores[0].asnumpy().reshape(len(scores[0]),))\n",
    "    b_box_DF = pd.DataFrame(bounding_boxes[0].asnumpy().reshape(len(bounding_boxes[0]),4), columns=[1,2,3,4])\n",
    "    \n",
    "    class_id_series[class_id_series>-1]\n",
    "    score_series[class_id_series>-1]\n",
    "    b_box_DF[class_id_series>-1]\n",
    "    \n",
    "    test_annotations = b_box_DF[class_id_series>-1]\n",
    "    test_annotations['class_id'] = class_id_series[class_id_series>-1]\n",
    "    test_annotations['scores'] = score_series[class_id_series>-1]\n",
    "    \n",
    "    test_annotations['image_id'] = [image[:-4]]*len(test_annotations)\n",
    "    test_annotations = test_annotations[['image_id', 'class_id', 'scores', 1, 2, 3, 4]]\n",
    "    \n",
    "    all_test_annotations = pd.concat([all_test_annotations, test_annotations], ignore_index=True)\n",
    "    \n",
    "print(\"Total Annotations: \", str(len(all_test_annotations)))\n",
    "\n",
    "pred_end = time.time()\n",
    "pred_duration = pred_end - pred_start"
   ]
  },
  {
   "cell_type": "code",
   "execution_count": 176,
   "metadata": {},
   "outputs": [
    {
     "data": {
      "text/plain": [
       "3028.059712409973"
      ]
     },
     "execution_count": 176,
     "metadata": {},
     "output_type": "execute_result"
    }
   ],
   "source": [
    "pred_duration"
   ]
  },
  {
   "cell_type": "code",
   "execution_count": 177,
   "metadata": {},
   "outputs": [
    {
     "data": {
      "text/html": [
       "<div>\n",
       "<style scoped>\n",
       "    .dataframe tbody tr th:only-of-type {\n",
       "        vertical-align: middle;\n",
       "    }\n",
       "\n",
       "    .dataframe tbody tr th {\n",
       "        vertical-align: top;\n",
       "    }\n",
       "\n",
       "    .dataframe thead th {\n",
       "        text-align: right;\n",
       "    }\n",
       "</style>\n",
       "<table border=\"1\" class=\"dataframe\">\n",
       "  <thead>\n",
       "    <tr style=\"text-align: right;\">\n",
       "      <th></th>\n",
       "      <th>image_id</th>\n",
       "      <th>class_id</th>\n",
       "      <th>scores</th>\n",
       "      <th>1</th>\n",
       "      <th>2</th>\n",
       "      <th>3</th>\n",
       "      <th>4</th>\n",
       "    </tr>\n",
       "  </thead>\n",
       "  <tbody>\n",
       "    <tr>\n",
       "      <th>0</th>\n",
       "      <td>000000464476</td>\n",
       "      <td>0.0</td>\n",
       "      <td>0.927936</td>\n",
       "      <td>70.859024</td>\n",
       "      <td>81.128845</td>\n",
       "      <td>162.252640</td>\n",
       "      <td>329.081268</td>\n",
       "    </tr>\n",
       "    <tr>\n",
       "      <th>1</th>\n",
       "      <td>000000464476</td>\n",
       "      <td>63.0</td>\n",
       "      <td>0.692063</td>\n",
       "      <td>376.342072</td>\n",
       "      <td>282.334595</td>\n",
       "      <td>660.263550</td>\n",
       "      <td>518.431458</td>\n",
       "    </tr>\n",
       "    <tr>\n",
       "      <th>2</th>\n",
       "      <td>000000464476</td>\n",
       "      <td>62.0</td>\n",
       "      <td>0.356848</td>\n",
       "      <td>376.498962</td>\n",
       "      <td>289.023132</td>\n",
       "      <td>657.539246</td>\n",
       "      <td>509.743530</td>\n",
       "    </tr>\n",
       "    <tr>\n",
       "      <th>3</th>\n",
       "      <td>000000464476</td>\n",
       "      <td>7.0</td>\n",
       "      <td>0.326432</td>\n",
       "      <td>194.305130</td>\n",
       "      <td>31.842560</td>\n",
       "      <td>372.927612</td>\n",
       "      <td>205.119370</td>\n",
       "    </tr>\n",
       "    <tr>\n",
       "      <th>4</th>\n",
       "      <td>000000464476</td>\n",
       "      <td>6.0</td>\n",
       "      <td>0.145672</td>\n",
       "      <td>194.305130</td>\n",
       "      <td>31.842560</td>\n",
       "      <td>372.927612</td>\n",
       "      <td>205.119370</td>\n",
       "    </tr>\n",
       "    <tr>\n",
       "      <th>5</th>\n",
       "      <td>000000464476</td>\n",
       "      <td>62.0</td>\n",
       "      <td>0.126344</td>\n",
       "      <td>206.427979</td>\n",
       "      <td>34.587311</td>\n",
       "      <td>375.598083</td>\n",
       "      <td>202.875259</td>\n",
       "    </tr>\n",
       "    <tr>\n",
       "      <th>6</th>\n",
       "      <td>000000464476</td>\n",
       "      <td>6.0</td>\n",
       "      <td>0.069344</td>\n",
       "      <td>27.974426</td>\n",
       "      <td>10.990707</td>\n",
       "      <td>389.384888</td>\n",
       "      <td>263.213196</td>\n",
       "    </tr>\n",
       "    <tr>\n",
       "      <th>7</th>\n",
       "      <td>000000464476</td>\n",
       "      <td>62.0</td>\n",
       "      <td>0.059397</td>\n",
       "      <td>374.799011</td>\n",
       "      <td>49.534012</td>\n",
       "      <td>609.736023</td>\n",
       "      <td>288.754211</td>\n",
       "    </tr>\n",
       "    <tr>\n",
       "      <th>8</th>\n",
       "      <td>000000464476</td>\n",
       "      <td>26.0</td>\n",
       "      <td>0.021826</td>\n",
       "      <td>72.883919</td>\n",
       "      <td>173.170853</td>\n",
       "      <td>97.293861</td>\n",
       "      <td>224.006027</td>\n",
       "    </tr>\n",
       "    <tr>\n",
       "      <th>9</th>\n",
       "      <td>000000464476</td>\n",
       "      <td>59.0</td>\n",
       "      <td>0.014199</td>\n",
       "      <td>376.342072</td>\n",
       "      <td>282.334595</td>\n",
       "      <td>660.263550</td>\n",
       "      <td>518.431458</td>\n",
       "    </tr>\n",
       "  </tbody>\n",
       "</table>\n",
       "</div>"
      ],
      "text/plain": [
       "       image_id  class_id    scores           1           2           3  \\\n",
       "0  000000464476       0.0  0.927936   70.859024   81.128845  162.252640   \n",
       "1  000000464476      63.0  0.692063  376.342072  282.334595  660.263550   \n",
       "2  000000464476      62.0  0.356848  376.498962  289.023132  657.539246   \n",
       "3  000000464476       7.0  0.326432  194.305130   31.842560  372.927612   \n",
       "4  000000464476       6.0  0.145672  194.305130   31.842560  372.927612   \n",
       "5  000000464476      62.0  0.126344  206.427979   34.587311  375.598083   \n",
       "6  000000464476       6.0  0.069344   27.974426   10.990707  389.384888   \n",
       "7  000000464476      62.0  0.059397  374.799011   49.534012  609.736023   \n",
       "8  000000464476      26.0  0.021826   72.883919  173.170853   97.293861   \n",
       "9  000000464476      59.0  0.014199  376.342072  282.334595  660.263550   \n",
       "\n",
       "            4  \n",
       "0  329.081268  \n",
       "1  518.431458  \n",
       "2  509.743530  \n",
       "3  205.119370  \n",
       "4  205.119370  \n",
       "5  202.875259  \n",
       "6  263.213196  \n",
       "7  288.754211  \n",
       "8  224.006027  \n",
       "9  518.431458  "
      ]
     },
     "execution_count": 177,
     "metadata": {},
     "output_type": "execute_result"
    }
   ],
   "source": [
    "all_test_annotations[:10]"
   ]
  },
  {
   "cell_type": "code",
   "execution_count": 178,
   "metadata": {},
   "outputs": [],
   "source": [
    "all_test_annotations.to_csv('val_result_annotations.csv')"
   ]
  },
  {
   "cell_type": "code",
   "execution_count": 179,
   "metadata": {
    "scrolled": true
   },
   "outputs": [],
   "source": [
    "pred_prob_threshold = 0.5\n",
    "result_annotations = all_test_annotations[all_test_annotations['scores']>pred_prob_threshold]\n",
    "eIDs_in_results = result_annotations.groupby('image_id')['class_id'].apply(list).to_dict()\n",
    "#eIDs_in_results"
   ]
  },
  {
   "cell_type": "code",
   "execution_count": 180,
   "metadata": {},
   "outputs": [],
   "source": [
    "#quick hack to deal with the fact that the class IDs predicted by the baseline model are 10 lower than those in the annotation file\n",
    "#and to throw out non electronics identified\n",
    "predicted_eIDs = {}\n",
    "for image_id in eIDs_in_results.keys():\n",
    "    corrected_IDs = np.add(eIDs_in_results[image_id],10).astype(int)\n",
    "    llimit = corrected_IDs >= 72\n",
    "    ulimit = corrected_IDs <=77\n",
    "    #print(llimit & ulimit)\n",
    "    corrected_IDs = corrected_IDs[llimit & ulimit]\n",
    "    #eIDs_in_results[image_id] = list(corrected_IDs)\n",
    "    predicted_eIDs[int(image_id)] = list(corrected_IDs)\n",
    "#predicted_eIDs"
   ]
  },
  {
   "cell_type": "code",
   "execution_count": 181,
   "metadata": {},
   "outputs": [],
   "source": [
    "total_pred_counts = [0, 0, 0, 0, 0, 0]#can use a smarter structure here\n",
    "total_label_counts = [0, 0, 0, 0, 0, 0]\n",
    "pred_counts = [0, 0, 0, 0, 0, 0]#can use a smarter structure here\n",
    "label_counts = [0, 0, 0, 0, 0, 0]\n",
    "#current counting method will not take into account false positives\n",
    "for image_id in predicted_eIDs.keys():\n",
    "    labels = eIDs_in_images[image_id]\n",
    "    for label in labels:\n",
    "        total_label_counts[label-72] += 1\n",
    "    preds = predicted_eIDs[image_id]\n",
    "    for pred in preds:\n",
    "        total_pred_counts[pred-72] += 1\n",
    "    \n",
    "    unique_labels = list(set(labels))\n",
    "    unique_preds = list(set(preds))\n",
    "    for label in unique_labels:\n",
    "        label_counts[label-72] += 1\n",
    "    for pred in unique_preds:\n",
    "        pred_counts[pred-72] += 1"
   ]
  },
  {
   "cell_type": "code",
   "execution_count": 182,
   "metadata": {},
   "outputs": [
    {
     "data": {
      "text/plain": [
       "[174, 150, 84, 104, 92, 110]"
      ]
     },
     "execution_count": 182,
     "metadata": {},
     "output_type": "execute_result"
    }
   ],
   "source": [
    "total_pred_counts"
   ]
  },
  {
   "cell_type": "code",
   "execution_count": 183,
   "metadata": {},
   "outputs": [
    {
     "data": {
      "text/plain": [
       "[285, 224, 105, 275, 149, 249]"
      ]
     },
     "execution_count": 183,
     "metadata": {},
     "output_type": "execute_result"
    }
   ],
   "source": [
    "total_label_counts"
   ]
  },
  {
   "cell_type": "code",
   "execution_count": 184,
   "metadata": {},
   "outputs": [
    {
     "data": {
      "text/plain": [
       "array([0.61052632, 0.66964286, 0.8       , 0.37818182, 0.61744966,\n",
       "       0.44176707])"
      ]
     },
     "execution_count": 184,
     "metadata": {},
     "output_type": "execute_result"
    }
   ],
   "source": [
    "np.divide(total_pred_counts, total_label_counts)"
   ]
  },
  {
   "cell_type": "code",
   "execution_count": 185,
   "metadata": {},
   "outputs": [
    {
     "data": {
      "text/plain": [
       "[142, 128, 68, 77, 70, 95]"
      ]
     },
     "execution_count": 185,
     "metadata": {},
     "output_type": "execute_result"
    }
   ],
   "source": [
    "pred_counts"
   ]
  },
  {
   "cell_type": "code",
   "execution_count": 186,
   "metadata": {},
   "outputs": [
    {
     "data": {
      "text/plain": [
       "[204, 176, 87, 138, 103, 205]"
      ]
     },
     "execution_count": 186,
     "metadata": {},
     "output_type": "execute_result"
    }
   ],
   "source": [
    "label_counts"
   ]
  },
  {
   "cell_type": "code",
   "execution_count": 187,
   "metadata": {},
   "outputs": [
    {
     "data": {
      "text/plain": [
       "array([0.69607843, 0.72727273, 0.7816092 , 0.55797101, 0.67961165,\n",
       "       0.46341463])"
      ]
     },
     "execution_count": 187,
     "metadata": {},
     "output_type": "execute_result"
    }
   ],
   "source": [
    "np.divide(pred_counts, label_counts)"
   ]
  },
  {
   "cell_type": "code",
   "execution_count": 188,
   "metadata": {},
   "outputs": [
    {
     "data": {
      "text/plain": [
       "0.6352683461117196"
      ]
     },
     "execution_count": 188,
     "metadata": {},
     "output_type": "execute_result"
    }
   ],
   "source": [
    "sum(pred_counts)/sum(label_counts)"
   ]
  },
  {
   "cell_type": "code",
   "execution_count": null,
   "metadata": {},
   "outputs": [],
   "source": []
  },
  {
   "cell_type": "code",
   "execution_count": null,
   "metadata": {},
   "outputs": [],
   "source": []
  },
  {
   "cell_type": "code",
   "execution_count": null,
   "metadata": {},
   "outputs": [],
   "source": []
  },
  {
   "cell_type": "code",
   "execution_count": null,
   "metadata": {},
   "outputs": [],
   "source": []
  },
  {
   "cell_type": "code",
   "execution_count": null,
   "metadata": {},
   "outputs": [],
   "source": []
  }
 ],
 "metadata": {
  "kernelspec": {
   "display_name": "Python 3",
   "language": "python",
   "name": "python3"
  },
  "language_info": {
   "codemirror_mode": {
    "name": "ipython",
    "version": 3
   },
   "file_extension": ".py",
   "mimetype": "text/x-python",
   "name": "python",
   "nbconvert_exporter": "python",
   "pygments_lexer": "ipython3",
   "version": "3.7.1"
  },
  "varInspector": {
   "cols": {
    "lenName": 16,
    "lenType": 16,
    "lenVar": 40
   },
   "kernels_config": {
    "python": {
     "delete_cmd_postfix": "",
     "delete_cmd_prefix": "del ",
     "library": "var_list.py",
     "varRefreshCmd": "print(var_dic_list())"
    },
    "r": {
     "delete_cmd_postfix": ") ",
     "delete_cmd_prefix": "rm(",
     "library": "var_list.r",
     "varRefreshCmd": "cat(var_dic_list()) "
    }
   },
   "types_to_exclude": [
    "module",
    "function",
    "builtin_function_or_method",
    "instance",
    "_Feature"
   ],
   "window_display": true
  }
 },
 "nbformat": 4,
 "nbformat_minor": 2
}
