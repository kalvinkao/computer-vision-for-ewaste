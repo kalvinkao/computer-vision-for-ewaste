{
 "cells": [
  {
   "cell_type": "code",
   "execution_count": 1,
   "metadata": {},
   "outputs": [],
   "source": [
    "from gluoncv import data, utils\n",
    "from matplotlib import pyplot as plt"
   ]
  },
  {
   "cell_type": "code",
   "execution_count": 8,
   "metadata": {},
   "outputs": [],
   "source": [
    "#inst_train_path = \"/mnt/muthderd/MIDS/W210/data/annotations_trainval2017/annotations/instances_train2017_updated.json\"\n",
    "#inst_val_path = \"/mnt/muthderd/MIDS/W210/data/annotations_trainval2017/annotations/instances_val2017.json\"\n",
    "inst_train_path = \"/home/ubuntu/data/annotations/instances_train2017_updated\"\n",
    "inst_val_path = \"/home/ubuntu/data/annotations/instances_val2017\""
   ]
  },
  {
   "cell_type": "code",
   "execution_count": 9,
   "metadata": {},
   "outputs": [],
   "source": [
    "train_data_path = \"/home/ubuntu/data/\"\n",
    "val_data_path = \"/home/ubuntu/data/\""
   ]
  },
  {
   "cell_type": "code",
   "execution_count": 10,
   "metadata": {},
   "outputs": [
    {
     "name": "stdout",
     "output_type": "stream",
     "text": [
      "loading annotations into memory...\n",
      "Done (t=18.32s)\n",
      "creating index...\n",
      "index created!\n",
      "loading annotations into memory...\n",
      "Done (t=0.55s)\n",
      "creating index...\n",
      "index created!\n",
      "Num of training images: 117266\n",
      "Num of validation images: 4952\n"
     ]
    }
   ],
   "source": [
    "train_dataset = data.COCODetection(root=train_data_path, splits=[inst_train_path])\n",
    "val_dataset = data.COCODetection(root=val_data_path, splits=[inst_val_path])\n",
    "print('Num of training images:', len(train_dataset))\n",
    "print('Num of validation images:', len(val_dataset))"
   ]
  },
  {
   "cell_type": "code",
   "execution_count": null,
   "metadata": {},
   "outputs": [],
   "source": []
  },
  {
   "cell_type": "code",
   "execution_count": null,
   "metadata": {},
   "outputs": [],
   "source": []
  },
  {
   "cell_type": "code",
   "execution_count": null,
   "metadata": {},
   "outputs": [],
   "source": []
  },
  {
   "cell_type": "code",
   "execution_count": null,
   "metadata": {},
   "outputs": [],
   "source": []
  },
  {
   "cell_type": "code",
   "execution_count": null,
   "metadata": {},
   "outputs": [],
   "source": []
  }
 ],
 "metadata": {
  "kernelspec": {
   "display_name": "Python 3",
   "language": "python",
   "name": "python3"
  },
  "language_info": {
   "codemirror_mode": {
    "name": "ipython",
    "version": 3
   },
   "file_extension": ".py",
   "mimetype": "text/x-python",
   "name": "python",
   "nbconvert_exporter": "python",
   "pygments_lexer": "ipython3",
   "version": "3.7.0"
  }
 },
 "nbformat": 4,
 "nbformat_minor": 2
}
