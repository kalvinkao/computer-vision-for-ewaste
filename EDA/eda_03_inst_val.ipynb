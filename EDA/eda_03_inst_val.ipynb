{
 "cells": [
  {
   "cell_type": "code",
   "execution_count": 1,
   "metadata": {
    "ExecuteTime": {
     "end_time": "2019-02-10T15:01:33.484381Z",
     "start_time": "2019-02-10T15:01:33.481061Z"
    }
   },
   "outputs": [],
   "source": [
    "import json\n",
    "import numpy\n",
    "from collections import defaultdict\n",
    "from PIL import Image\n",
    "import matplotlib.pyplot as plt\n",
    "import pandas as pd\n",
    "import numpy as np\n",
    "import os"
   ]
  },
  {
   "cell_type": "markdown",
   "metadata": {},
   "source": [
    "# Metadata EDA"
   ]
  },
  {
   "cell_type": "markdown",
   "metadata": {},
   "source": [
    "#### Captions"
   ]
  },
  {
   "cell_type": "code",
   "execution_count": 2,
   "metadata": {
    "ExecuteTime": {
     "end_time": "2019-02-10T15:02:49.241219Z",
     "start_time": "2019-02-10T15:02:47.586565Z"
    }
   },
   "outputs": [],
   "source": [
    "captions_train_path = \"/mnt/muthderd/MIDS/W210/data/annotations_trainval2017/annotations/captions_val2017.json\"\n",
    "captions_train  = json.loads(open(captions_train_path).read())"
   ]
  },
  {
   "cell_type": "code",
   "execution_count": 3,
   "metadata": {
    "ExecuteTime": {
     "end_time": "2019-02-10T15:02:58.437834Z",
     "start_time": "2019-02-10T15:02:58.432078Z"
    }
   },
   "outputs": [
    {
     "data": {
      "text/plain": [
       "dict_keys(['info', 'licenses', 'images', 'annotations'])"
      ]
     },
     "execution_count": 3,
     "metadata": {},
     "output_type": "execute_result"
    }
   ],
   "source": [
    "captions_train.keys()"
   ]
  },
  {
   "cell_type": "code",
   "execution_count": 4,
   "metadata": {
    "ExecuteTime": {
     "end_time": "2019-02-10T15:03:56.090770Z",
     "start_time": "2019-02-10T15:03:56.083123Z"
    }
   },
   "outputs": [
    {
     "data": {
      "text/plain": [
       "{'description': 'COCO 2017 Dataset',\n",
       " 'url': 'http://cocodataset.org',\n",
       " 'version': '1.0',\n",
       " 'year': 2017,\n",
       " 'contributor': 'COCO Consortium',\n",
       " 'date_created': '2017/09/01'}"
      ]
     },
     "execution_count": 4,
     "metadata": {},
     "output_type": "execute_result"
    }
   ],
   "source": [
    "captions_train['info']"
   ]
  },
  {
   "cell_type": "code",
   "execution_count": 5,
   "metadata": {
    "ExecuteTime": {
     "end_time": "2019-02-10T15:03:59.872633Z",
     "start_time": "2019-02-10T15:03:59.865870Z"
    }
   },
   "outputs": [
    {
     "data": {
      "text/plain": [
       "[{'url': 'http://creativecommons.org/licenses/by-nc-sa/2.0/',\n",
       "  'id': 1,\n",
       "  'name': 'Attribution-NonCommercial-ShareAlike License'},\n",
       " {'url': 'http://creativecommons.org/licenses/by-nc/2.0/',\n",
       "  'id': 2,\n",
       "  'name': 'Attribution-NonCommercial License'},\n",
       " {'url': 'http://creativecommons.org/licenses/by-nc-nd/2.0/',\n",
       "  'id': 3,\n",
       "  'name': 'Attribution-NonCommercial-NoDerivs License'},\n",
       " {'url': 'http://creativecommons.org/licenses/by/2.0/',\n",
       "  'id': 4,\n",
       "  'name': 'Attribution License'},\n",
       " {'url': 'http://creativecommons.org/licenses/by-sa/2.0/',\n",
       "  'id': 5,\n",
       "  'name': 'Attribution-ShareAlike License'},\n",
       " {'url': 'http://creativecommons.org/licenses/by-nd/2.0/',\n",
       "  'id': 6,\n",
       "  'name': 'Attribution-NoDerivs License'},\n",
       " {'url': 'http://flickr.com/commons/usage/',\n",
       "  'id': 7,\n",
       "  'name': 'No known copyright restrictions'},\n",
       " {'url': 'http://www.usa.gov/copyright.shtml',\n",
       "  'id': 8,\n",
       "  'name': 'United States Government Work'}]"
      ]
     },
     "execution_count": 5,
     "metadata": {},
     "output_type": "execute_result"
    }
   ],
   "source": [
    "captions_train['licenses']"
   ]
  },
  {
   "cell_type": "code",
   "execution_count": 6,
   "metadata": {
    "ExecuteTime": {
     "end_time": "2019-02-10T15:04:03.478535Z",
     "start_time": "2019-02-10T15:04:03.094538Z"
    }
   },
   "outputs": [
    {
     "data": {
      "text/plain": [
       "{'license': 4,\n",
       " 'file_name': '000000397133.jpg',\n",
       " 'coco_url': 'http://images.cocodataset.org/val2017/000000397133.jpg',\n",
       " 'height': 427,\n",
       " 'width': 640,\n",
       " 'date_captured': '2013-11-14 17:02:52',\n",
       " 'flickr_url': 'http://farm7.staticflickr.com/6116/6255196340_da26cf2c9e_z.jpg',\n",
       " 'id': 397133}"
      ]
     },
     "execution_count": 6,
     "metadata": {},
     "output_type": "execute_result"
    }
   ],
   "source": [
    "captions_train['images'][0]"
   ]
  },
  {
   "cell_type": "code",
   "execution_count": 7,
   "metadata": {
    "ExecuteTime": {
     "end_time": "2019-02-10T15:04:07.447371Z",
     "start_time": "2019-02-10T15:04:07.323338Z"
    }
   },
   "outputs": [
    {
     "data": {
      "text/plain": [
       "{'image_id': 179765,\n",
       " 'id': 38,\n",
       " 'caption': 'A black Honda motorcycle parked in front of a garage.'}"
      ]
     },
     "execution_count": 7,
     "metadata": {},
     "output_type": "execute_result"
    }
   ],
   "source": [
    "captions_train['annotations'][0]"
   ]
  },
  {
   "cell_type": "markdown",
   "metadata": {},
   "source": [
    "#### Instances\n",
    "##### Categories"
   ]
  },
  {
   "cell_type": "code",
   "execution_count": 8,
   "metadata": {
    "ExecuteTime": {
     "end_time": "2019-02-10T15:30:21.837928Z",
     "start_time": "2019-02-10T15:29:52.465683Z"
    }
   },
   "outputs": [],
   "source": [
    "inst_train_path = \"/mnt/muthderd/MIDS/W210/data/annotations_trainval2017/annotations/instances_val2017.json\"\n",
    "inst_train  = json.loads(open(inst_train_path).read())"
   ]
  },
  {
   "cell_type": "code",
   "execution_count": 9,
   "metadata": {
    "ExecuteTime": {
     "end_time": "2019-02-10T15:31:03.314717Z",
     "start_time": "2019-02-10T15:31:03.306707Z"
    }
   },
   "outputs": [
    {
     "data": {
      "text/plain": [
       "dict_keys(['info', 'licenses', 'images', 'annotations', 'categories'])"
      ]
     },
     "execution_count": 9,
     "metadata": {},
     "output_type": "execute_result"
    }
   ],
   "source": [
    "inst_train.keys()"
   ]
  },
  {
   "cell_type": "code",
   "execution_count": 10,
   "metadata": {
    "ExecuteTime": {
     "end_time": "2019-02-10T15:32:35.528086Z",
     "start_time": "2019-02-10T15:32:35.522103Z"
    }
   },
   "outputs": [
    {
     "data": {
      "text/plain": [
       "{'description': 'COCO 2017 Dataset',\n",
       " 'url': 'http://cocodataset.org',\n",
       " 'version': '1.0',\n",
       " 'year': 2017,\n",
       " 'contributor': 'COCO Consortium',\n",
       " 'date_created': '2017/09/01'}"
      ]
     },
     "execution_count": 10,
     "metadata": {},
     "output_type": "execute_result"
    }
   ],
   "source": [
    "inst_train['info']"
   ]
  },
  {
   "cell_type": "code",
   "execution_count": 11,
   "metadata": {
    "ExecuteTime": {
     "end_time": "2019-02-10T15:33:12.939100Z",
     "start_time": "2019-02-10T15:33:12.930424Z"
    }
   },
   "outputs": [
    {
     "data": {
      "text/plain": [
       "[{'url': 'http://creativecommons.org/licenses/by-nc-sa/2.0/',\n",
       "  'id': 1,\n",
       "  'name': 'Attribution-NonCommercial-ShareAlike License'},\n",
       " {'url': 'http://creativecommons.org/licenses/by-nc/2.0/',\n",
       "  'id': 2,\n",
       "  'name': 'Attribution-NonCommercial License'},\n",
       " {'url': 'http://creativecommons.org/licenses/by-nc-nd/2.0/',\n",
       "  'id': 3,\n",
       "  'name': 'Attribution-NonCommercial-NoDerivs License'},\n",
       " {'url': 'http://creativecommons.org/licenses/by/2.0/',\n",
       "  'id': 4,\n",
       "  'name': 'Attribution License'},\n",
       " {'url': 'http://creativecommons.org/licenses/by-sa/2.0/',\n",
       "  'id': 5,\n",
       "  'name': 'Attribution-ShareAlike License'},\n",
       " {'url': 'http://creativecommons.org/licenses/by-nd/2.0/',\n",
       "  'id': 6,\n",
       "  'name': 'Attribution-NoDerivs License'},\n",
       " {'url': 'http://flickr.com/commons/usage/',\n",
       "  'id': 7,\n",
       "  'name': 'No known copyright restrictions'},\n",
       " {'url': 'http://www.usa.gov/copyright.shtml',\n",
       "  'id': 8,\n",
       "  'name': 'United States Government Work'}]"
      ]
     },
     "execution_count": 11,
     "metadata": {},
     "output_type": "execute_result"
    }
   ],
   "source": [
    "inst_train['licenses']"
   ]
  },
  {
   "cell_type": "code",
   "execution_count": 12,
   "metadata": {
    "ExecuteTime": {
     "end_time": "2019-02-10T15:33:45.320722Z",
     "start_time": "2019-02-10T15:33:45.311717Z"
    }
   },
   "outputs": [
    {
     "data": {
      "text/plain": [
       "{'license': 4,\n",
       " 'file_name': '000000397133.jpg',\n",
       " 'coco_url': 'http://images.cocodataset.org/val2017/000000397133.jpg',\n",
       " 'height': 427,\n",
       " 'width': 640,\n",
       " 'date_captured': '2013-11-14 17:02:52',\n",
       " 'flickr_url': 'http://farm7.staticflickr.com/6116/6255196340_da26cf2c9e_z.jpg',\n",
       " 'id': 397133}"
      ]
     },
     "execution_count": 12,
     "metadata": {},
     "output_type": "execute_result"
    }
   ],
   "source": [
    "inst_train['images'][0]"
   ]
  },
  {
   "cell_type": "code",
   "execution_count": 13,
   "metadata": {},
   "outputs": [
    {
     "data": {
      "text/plain": [
       "{'segmentation': [[510.66,\n",
       "   423.01,\n",
       "   511.72,\n",
       "   420.03,\n",
       "   510.45,\n",
       "   416.0,\n",
       "   510.34,\n",
       "   413.02,\n",
       "   510.77,\n",
       "   410.26,\n",
       "   510.77,\n",
       "   407.5,\n",
       "   510.34,\n",
       "   405.16,\n",
       "   511.51,\n",
       "   402.83,\n",
       "   511.41,\n",
       "   400.49,\n",
       "   510.24,\n",
       "   398.16,\n",
       "   509.39,\n",
       "   397.31,\n",
       "   504.61,\n",
       "   399.22,\n",
       "   502.17,\n",
       "   399.64,\n",
       "   500.89,\n",
       "   401.66,\n",
       "   500.47,\n",
       "   402.08,\n",
       "   499.09,\n",
       "   401.87,\n",
       "   495.79,\n",
       "   401.98,\n",
       "   490.59,\n",
       "   401.77,\n",
       "   488.79,\n",
       "   401.77,\n",
       "   485.39,\n",
       "   398.58,\n",
       "   483.9,\n",
       "   397.31,\n",
       "   481.56,\n",
       "   396.35,\n",
       "   478.48,\n",
       "   395.93,\n",
       "   476.68,\n",
       "   396.03,\n",
       "   475.4,\n",
       "   396.77,\n",
       "   473.92,\n",
       "   398.79,\n",
       "   473.28,\n",
       "   399.96,\n",
       "   473.49,\n",
       "   401.87,\n",
       "   474.56,\n",
       "   403.47,\n",
       "   473.07,\n",
       "   405.59,\n",
       "   473.39,\n",
       "   407.71,\n",
       "   476.68,\n",
       "   409.41,\n",
       "   479.23,\n",
       "   409.73,\n",
       "   481.56,\n",
       "   410.69,\n",
       "   480.4,\n",
       "   411.85,\n",
       "   481.35,\n",
       "   414.93,\n",
       "   479.86,\n",
       "   418.65,\n",
       "   477.32,\n",
       "   420.03,\n",
       "   476.04,\n",
       "   422.58,\n",
       "   479.02,\n",
       "   422.58,\n",
       "   480.29,\n",
       "   423.01,\n",
       "   483.79,\n",
       "   419.93,\n",
       "   486.66,\n",
       "   416.21,\n",
       "   490.06,\n",
       "   415.57,\n",
       "   492.18,\n",
       "   416.85,\n",
       "   491.65,\n",
       "   420.24,\n",
       "   492.82,\n",
       "   422.9,\n",
       "   493.56,\n",
       "   424.39,\n",
       "   496.43,\n",
       "   424.6,\n",
       "   498.02,\n",
       "   423.01,\n",
       "   498.13,\n",
       "   421.31,\n",
       "   497.07,\n",
       "   420.03,\n",
       "   497.07,\n",
       "   415.15,\n",
       "   496.33,\n",
       "   414.51,\n",
       "   501.1,\n",
       "   411.96,\n",
       "   502.06,\n",
       "   411.32,\n",
       "   503.02,\n",
       "   415.04,\n",
       "   503.33,\n",
       "   418.12,\n",
       "   501.1,\n",
       "   420.24,\n",
       "   498.98,\n",
       "   421.63,\n",
       "   500.47,\n",
       "   424.39,\n",
       "   505.03,\n",
       "   423.32,\n",
       "   506.2,\n",
       "   421.31,\n",
       "   507.69,\n",
       "   419.5,\n",
       "   506.31,\n",
       "   423.32,\n",
       "   510.03,\n",
       "   423.01,\n",
       "   510.45,\n",
       "   423.01]],\n",
       " 'area': 702.1057499999998,\n",
       " 'iscrowd': 0,\n",
       " 'image_id': 289343,\n",
       " 'bbox': [473.07, 395.93, 38.65, 28.67],\n",
       " 'category_id': 18,\n",
       " 'id': 1768}"
      ]
     },
     "execution_count": 13,
     "metadata": {},
     "output_type": "execute_result"
    }
   ],
   "source": [
    "inst_train['annotations'][0]"
   ]
  },
  {
   "cell_type": "code",
   "execution_count": 14,
   "metadata": {
    "ExecuteTime": {
     "end_time": "2019-02-10T15:34:21.346715Z",
     "start_time": "2019-02-10T15:34:21.339771Z"
    }
   },
   "outputs": [
    {
     "data": {
      "text/plain": [
       "18"
      ]
     },
     "execution_count": 14,
     "metadata": {},
     "output_type": "execute_result"
    }
   ],
   "source": [
    "inst_train['annotations'][0]['category_id']"
   ]
  },
  {
   "cell_type": "code",
   "execution_count": 15,
   "metadata": {
    "ExecuteTime": {
     "end_time": "2019-02-10T15:34:59.237371Z",
     "start_time": "2019-02-10T15:34:59.219374Z"
    },
    "scrolled": true
   },
   "outputs": [
    {
     "data": {
      "text/plain": [
       "[{'supercategory': 'person', 'id': 1, 'name': 'person'},\n",
       " {'supercategory': 'vehicle', 'id': 2, 'name': 'bicycle'},\n",
       " {'supercategory': 'vehicle', 'id': 3, 'name': 'car'},\n",
       " {'supercategory': 'vehicle', 'id': 4, 'name': 'motorcycle'},\n",
       " {'supercategory': 'vehicle', 'id': 5, 'name': 'airplane'},\n",
       " {'supercategory': 'vehicle', 'id': 6, 'name': 'bus'},\n",
       " {'supercategory': 'vehicle', 'id': 7, 'name': 'train'},\n",
       " {'supercategory': 'vehicle', 'id': 8, 'name': 'truck'},\n",
       " {'supercategory': 'vehicle', 'id': 9, 'name': 'boat'},\n",
       " {'supercategory': 'outdoor', 'id': 10, 'name': 'traffic light'},\n",
       " {'supercategory': 'outdoor', 'id': 11, 'name': 'fire hydrant'},\n",
       " {'supercategory': 'outdoor', 'id': 13, 'name': 'stop sign'},\n",
       " {'supercategory': 'outdoor', 'id': 14, 'name': 'parking meter'},\n",
       " {'supercategory': 'outdoor', 'id': 15, 'name': 'bench'},\n",
       " {'supercategory': 'animal', 'id': 16, 'name': 'bird'},\n",
       " {'supercategory': 'animal', 'id': 17, 'name': 'cat'},\n",
       " {'supercategory': 'animal', 'id': 18, 'name': 'dog'},\n",
       " {'supercategory': 'animal', 'id': 19, 'name': 'horse'},\n",
       " {'supercategory': 'animal', 'id': 20, 'name': 'sheep'},\n",
       " {'supercategory': 'animal', 'id': 21, 'name': 'cow'},\n",
       " {'supercategory': 'animal', 'id': 22, 'name': 'elephant'},\n",
       " {'supercategory': 'animal', 'id': 23, 'name': 'bear'},\n",
       " {'supercategory': 'animal', 'id': 24, 'name': 'zebra'},\n",
       " {'supercategory': 'animal', 'id': 25, 'name': 'giraffe'},\n",
       " {'supercategory': 'accessory', 'id': 27, 'name': 'backpack'},\n",
       " {'supercategory': 'accessory', 'id': 28, 'name': 'umbrella'},\n",
       " {'supercategory': 'accessory', 'id': 31, 'name': 'handbag'},\n",
       " {'supercategory': 'accessory', 'id': 32, 'name': 'tie'},\n",
       " {'supercategory': 'accessory', 'id': 33, 'name': 'suitcase'},\n",
       " {'supercategory': 'sports', 'id': 34, 'name': 'frisbee'},\n",
       " {'supercategory': 'sports', 'id': 35, 'name': 'skis'},\n",
       " {'supercategory': 'sports', 'id': 36, 'name': 'snowboard'},\n",
       " {'supercategory': 'sports', 'id': 37, 'name': 'sports ball'},\n",
       " {'supercategory': 'sports', 'id': 38, 'name': 'kite'},\n",
       " {'supercategory': 'sports', 'id': 39, 'name': 'baseball bat'},\n",
       " {'supercategory': 'sports', 'id': 40, 'name': 'baseball glove'},\n",
       " {'supercategory': 'sports', 'id': 41, 'name': 'skateboard'},\n",
       " {'supercategory': 'sports', 'id': 42, 'name': 'surfboard'},\n",
       " {'supercategory': 'sports', 'id': 43, 'name': 'tennis racket'},\n",
       " {'supercategory': 'kitchen', 'id': 44, 'name': 'bottle'},\n",
       " {'supercategory': 'kitchen', 'id': 46, 'name': 'wine glass'},\n",
       " {'supercategory': 'kitchen', 'id': 47, 'name': 'cup'},\n",
       " {'supercategory': 'kitchen', 'id': 48, 'name': 'fork'},\n",
       " {'supercategory': 'kitchen', 'id': 49, 'name': 'knife'},\n",
       " {'supercategory': 'kitchen', 'id': 50, 'name': 'spoon'},\n",
       " {'supercategory': 'kitchen', 'id': 51, 'name': 'bowl'},\n",
       " {'supercategory': 'food', 'id': 52, 'name': 'banana'},\n",
       " {'supercategory': 'food', 'id': 53, 'name': 'apple'},\n",
       " {'supercategory': 'food', 'id': 54, 'name': 'sandwich'},\n",
       " {'supercategory': 'food', 'id': 55, 'name': 'orange'},\n",
       " {'supercategory': 'food', 'id': 56, 'name': 'broccoli'},\n",
       " {'supercategory': 'food', 'id': 57, 'name': 'carrot'},\n",
       " {'supercategory': 'food', 'id': 58, 'name': 'hot dog'},\n",
       " {'supercategory': 'food', 'id': 59, 'name': 'pizza'},\n",
       " {'supercategory': 'food', 'id': 60, 'name': 'donut'},\n",
       " {'supercategory': 'food', 'id': 61, 'name': 'cake'},\n",
       " {'supercategory': 'furniture', 'id': 62, 'name': 'chair'},\n",
       " {'supercategory': 'furniture', 'id': 63, 'name': 'couch'},\n",
       " {'supercategory': 'furniture', 'id': 64, 'name': 'potted plant'},\n",
       " {'supercategory': 'furniture', 'id': 65, 'name': 'bed'},\n",
       " {'supercategory': 'furniture', 'id': 67, 'name': 'dining table'},\n",
       " {'supercategory': 'furniture', 'id': 70, 'name': 'toilet'},\n",
       " {'supercategory': 'electronic', 'id': 72, 'name': 'tv'},\n",
       " {'supercategory': 'electronic', 'id': 73, 'name': 'laptop'},\n",
       " {'supercategory': 'electronic', 'id': 74, 'name': 'mouse'},\n",
       " {'supercategory': 'electronic', 'id': 75, 'name': 'remote'},\n",
       " {'supercategory': 'electronic', 'id': 76, 'name': 'keyboard'},\n",
       " {'supercategory': 'electronic', 'id': 77, 'name': 'cell phone'},\n",
       " {'supercategory': 'appliance', 'id': 78, 'name': 'microwave'},\n",
       " {'supercategory': 'appliance', 'id': 79, 'name': 'oven'},\n",
       " {'supercategory': 'appliance', 'id': 80, 'name': 'toaster'},\n",
       " {'supercategory': 'appliance', 'id': 81, 'name': 'sink'},\n",
       " {'supercategory': 'appliance', 'id': 82, 'name': 'refrigerator'},\n",
       " {'supercategory': 'indoor', 'id': 84, 'name': 'book'},\n",
       " {'supercategory': 'indoor', 'id': 85, 'name': 'clock'},\n",
       " {'supercategory': 'indoor', 'id': 86, 'name': 'vase'},\n",
       " {'supercategory': 'indoor', 'id': 87, 'name': 'scissors'},\n",
       " {'supercategory': 'indoor', 'id': 88, 'name': 'teddy bear'},\n",
       " {'supercategory': 'indoor', 'id': 89, 'name': 'hair drier'},\n",
       " {'supercategory': 'indoor', 'id': 90, 'name': 'toothbrush'}]"
      ]
     },
     "execution_count": 15,
     "metadata": {},
     "output_type": "execute_result"
    }
   ],
   "source": [
    "inst_train['categories']"
   ]
  },
  {
   "cell_type": "code",
   "execution_count": null,
   "metadata": {},
   "outputs": [],
   "source": []
  },
  {
   "cell_type": "markdown",
   "metadata": {},
   "source": [
    "## Pandas for Image Metadata"
   ]
  },
  {
   "cell_type": "code",
   "execution_count": 16,
   "metadata": {},
   "outputs": [
    {
     "data": {
      "text/plain": [
       "{'license': 4,\n",
       " 'file_name': '000000397133.jpg',\n",
       " 'coco_url': 'http://images.cocodataset.org/val2017/000000397133.jpg',\n",
       " 'height': 427,\n",
       " 'width': 640,\n",
       " 'date_captured': '2013-11-14 17:02:52',\n",
       " 'flickr_url': 'http://farm7.staticflickr.com/6116/6255196340_da26cf2c9e_z.jpg',\n",
       " 'id': 397133}"
      ]
     },
     "execution_count": 16,
     "metadata": {},
     "output_type": "execute_result"
    }
   ],
   "source": [
    "inst_train['images'][0]"
   ]
  },
  {
   "cell_type": "code",
   "execution_count": 17,
   "metadata": {},
   "outputs": [],
   "source": [
    "image_df = pd.DataFrame(inst_train['images'])"
   ]
  },
  {
   "cell_type": "code",
   "execution_count": 18,
   "metadata": {},
   "outputs": [
    {
     "data": {
      "text/html": [
       "<div>\n",
       "<style scoped>\n",
       "    .dataframe tbody tr th:only-of-type {\n",
       "        vertical-align: middle;\n",
       "    }\n",
       "\n",
       "    .dataframe tbody tr th {\n",
       "        vertical-align: top;\n",
       "    }\n",
       "\n",
       "    .dataframe thead th {\n",
       "        text-align: right;\n",
       "    }\n",
       "</style>\n",
       "<table border=\"1\" class=\"dataframe\">\n",
       "  <thead>\n",
       "    <tr style=\"text-align: right;\">\n",
       "      <th></th>\n",
       "      <th>coco_url</th>\n",
       "      <th>date_captured</th>\n",
       "      <th>file_name</th>\n",
       "      <th>flickr_url</th>\n",
       "      <th>height</th>\n",
       "      <th>id</th>\n",
       "      <th>license</th>\n",
       "      <th>width</th>\n",
       "    </tr>\n",
       "  </thead>\n",
       "  <tbody>\n",
       "    <tr>\n",
       "      <th>0</th>\n",
       "      <td>http://images.cocodataset.org/val2017/00000039...</td>\n",
       "      <td>2013-11-14 17:02:52</td>\n",
       "      <td>000000397133.jpg</td>\n",
       "      <td>http://farm7.staticflickr.com/6116/6255196340_...</td>\n",
       "      <td>427</td>\n",
       "      <td>397133</td>\n",
       "      <td>4</td>\n",
       "      <td>640</td>\n",
       "    </tr>\n",
       "    <tr>\n",
       "      <th>1</th>\n",
       "      <td>http://images.cocodataset.org/val2017/00000003...</td>\n",
       "      <td>2013-11-14 20:55:31</td>\n",
       "      <td>000000037777.jpg</td>\n",
       "      <td>http://farm9.staticflickr.com/8429/7839199426_...</td>\n",
       "      <td>230</td>\n",
       "      <td>37777</td>\n",
       "      <td>1</td>\n",
       "      <td>352</td>\n",
       "    </tr>\n",
       "    <tr>\n",
       "      <th>2</th>\n",
       "      <td>http://images.cocodataset.org/val2017/00000025...</td>\n",
       "      <td>2013-11-14 22:32:02</td>\n",
       "      <td>000000252219.jpg</td>\n",
       "      <td>http://farm4.staticflickr.com/3446/3232237447_...</td>\n",
       "      <td>428</td>\n",
       "      <td>252219</td>\n",
       "      <td>4</td>\n",
       "      <td>640</td>\n",
       "    </tr>\n",
       "    <tr>\n",
       "      <th>3</th>\n",
       "      <td>http://images.cocodataset.org/val2017/00000008...</td>\n",
       "      <td>2013-11-14 23:11:37</td>\n",
       "      <td>000000087038.jpg</td>\n",
       "      <td>http://farm8.staticflickr.com/7355/8825114508_...</td>\n",
       "      <td>480</td>\n",
       "      <td>87038</td>\n",
       "      <td>1</td>\n",
       "      <td>640</td>\n",
       "    </tr>\n",
       "    <tr>\n",
       "      <th>4</th>\n",
       "      <td>http://images.cocodataset.org/val2017/00000017...</td>\n",
       "      <td>2013-11-14 23:16:55</td>\n",
       "      <td>000000174482.jpg</td>\n",
       "      <td>http://farm8.staticflickr.com/7020/6478877255_...</td>\n",
       "      <td>388</td>\n",
       "      <td>174482</td>\n",
       "      <td>6</td>\n",
       "      <td>640</td>\n",
       "    </tr>\n",
       "  </tbody>\n",
       "</table>\n",
       "</div>"
      ],
      "text/plain": [
       "                                            coco_url        date_captured  \\\n",
       "0  http://images.cocodataset.org/val2017/00000039...  2013-11-14 17:02:52   \n",
       "1  http://images.cocodataset.org/val2017/00000003...  2013-11-14 20:55:31   \n",
       "2  http://images.cocodataset.org/val2017/00000025...  2013-11-14 22:32:02   \n",
       "3  http://images.cocodataset.org/val2017/00000008...  2013-11-14 23:11:37   \n",
       "4  http://images.cocodataset.org/val2017/00000017...  2013-11-14 23:16:55   \n",
       "\n",
       "          file_name                                         flickr_url  \\\n",
       "0  000000397133.jpg  http://farm7.staticflickr.com/6116/6255196340_...   \n",
       "1  000000037777.jpg  http://farm9.staticflickr.com/8429/7839199426_...   \n",
       "2  000000252219.jpg  http://farm4.staticflickr.com/3446/3232237447_...   \n",
       "3  000000087038.jpg  http://farm8.staticflickr.com/7355/8825114508_...   \n",
       "4  000000174482.jpg  http://farm8.staticflickr.com/7020/6478877255_...   \n",
       "\n",
       "   height      id  license  width  \n",
       "0     427  397133        4    640  \n",
       "1     230   37777        1    352  \n",
       "2     428  252219        4    640  \n",
       "3     480   87038        1    640  \n",
       "4     388  174482        6    640  "
      ]
     },
     "execution_count": 18,
     "metadata": {},
     "output_type": "execute_result"
    }
   ],
   "source": [
    "image_df.head()"
   ]
  },
  {
   "cell_type": "code",
   "execution_count": 19,
   "metadata": {},
   "outputs": [
    {
     "data": {
      "text/html": [
       "<div>\n",
       "<style scoped>\n",
       "    .dataframe tbody tr th:only-of-type {\n",
       "        vertical-align: middle;\n",
       "    }\n",
       "\n",
       "    .dataframe tbody tr th {\n",
       "        vertical-align: top;\n",
       "    }\n",
       "\n",
       "    .dataframe thead th {\n",
       "        text-align: right;\n",
       "    }\n",
       "</style>\n",
       "<table border=\"1\" class=\"dataframe\">\n",
       "  <thead>\n",
       "    <tr style=\"text-align: right;\">\n",
       "      <th></th>\n",
       "      <th>height</th>\n",
       "      <th>id</th>\n",
       "      <th>license</th>\n",
       "      <th>width</th>\n",
       "    </tr>\n",
       "  </thead>\n",
       "  <tbody>\n",
       "    <tr>\n",
       "      <th>count</th>\n",
       "      <td>5000.000000</td>\n",
       "      <td>5000.000000</td>\n",
       "      <td>5000.00000</td>\n",
       "      <td>5000.000000</td>\n",
       "    </tr>\n",
       "    <tr>\n",
       "      <th>mean</th>\n",
       "      <td>483.543000</td>\n",
       "      <td>289562.336600</td>\n",
       "      <td>2.79140</td>\n",
       "      <td>573.754800</td>\n",
       "    </tr>\n",
       "    <tr>\n",
       "      <th>std</th>\n",
       "      <td>98.765315</td>\n",
       "      <td>167613.417537</td>\n",
       "      <td>1.48038</td>\n",
       "      <td>94.003704</td>\n",
       "    </tr>\n",
       "    <tr>\n",
       "      <th>min</th>\n",
       "      <td>145.000000</td>\n",
       "      <td>139.000000</td>\n",
       "      <td>1.00000</td>\n",
       "      <td>200.000000</td>\n",
       "    </tr>\n",
       "    <tr>\n",
       "      <th>25%</th>\n",
       "      <td>426.000000</td>\n",
       "      <td>147728.000000</td>\n",
       "      <td>1.00000</td>\n",
       "      <td>500.000000</td>\n",
       "    </tr>\n",
       "    <tr>\n",
       "      <th>50%</th>\n",
       "      <td>480.000000</td>\n",
       "      <td>289590.000000</td>\n",
       "      <td>3.00000</td>\n",
       "      <td>640.000000</td>\n",
       "    </tr>\n",
       "    <tr>\n",
       "      <th>75%</th>\n",
       "      <td>517.750000</td>\n",
       "      <td>435205.250000</td>\n",
       "      <td>4.00000</td>\n",
       "      <td>640.000000</td>\n",
       "    </tr>\n",
       "    <tr>\n",
       "      <th>max</th>\n",
       "      <td>640.000000</td>\n",
       "      <td>581781.000000</td>\n",
       "      <td>7.00000</td>\n",
       "      <td>640.000000</td>\n",
       "    </tr>\n",
       "  </tbody>\n",
       "</table>\n",
       "</div>"
      ],
      "text/plain": [
       "            height             id     license        width\n",
       "count  5000.000000    5000.000000  5000.00000  5000.000000\n",
       "mean    483.543000  289562.336600     2.79140   573.754800\n",
       "std      98.765315  167613.417537     1.48038    94.003704\n",
       "min     145.000000     139.000000     1.00000   200.000000\n",
       "25%     426.000000  147728.000000     1.00000   500.000000\n",
       "50%     480.000000  289590.000000     3.00000   640.000000\n",
       "75%     517.750000  435205.250000     4.00000   640.000000\n",
       "max     640.000000  581781.000000     7.00000   640.000000"
      ]
     },
     "execution_count": 19,
     "metadata": {},
     "output_type": "execute_result"
    }
   ],
   "source": [
    "image_df.describe()"
   ]
  },
  {
   "cell_type": "code",
   "execution_count": 20,
   "metadata": {},
   "outputs": [
    {
     "data": {
      "text/plain": [
       "5000"
      ]
     },
     "execution_count": 20,
     "metadata": {},
     "output_type": "execute_result"
    }
   ],
   "source": [
    "len(image_df)"
   ]
  },
  {
   "cell_type": "code",
   "execution_count": null,
   "metadata": {},
   "outputs": [],
   "source": []
  },
  {
   "cell_type": "markdown",
   "metadata": {},
   "source": [
    "## Counts / Integrity Checks"
   ]
  },
  {
   "cell_type": "code",
   "execution_count": 21,
   "metadata": {},
   "outputs": [
    {
     "data": {
      "text/plain": [
       "5000"
      ]
     },
     "execution_count": 21,
     "metadata": {},
     "output_type": "execute_result"
    }
   ],
   "source": [
    "len(pd.Series(image_df['file_name']).unique())"
   ]
  },
  {
   "cell_type": "code",
   "execution_count": 22,
   "metadata": {},
   "outputs": [
    {
     "data": {
      "text/plain": [
       "5000"
      ]
     },
     "execution_count": 22,
     "metadata": {},
     "output_type": "execute_result"
    }
   ],
   "source": [
    "len(pd.Series(image_df['flickr_url']).unique())"
   ]
  },
  {
   "cell_type": "code",
   "execution_count": 23,
   "metadata": {},
   "outputs": [
    {
     "data": {
      "text/plain": [
       "5000"
      ]
     },
     "execution_count": 23,
     "metadata": {},
     "output_type": "execute_result"
    }
   ],
   "source": [
    "len(pd.Series(image_df['id']).unique())"
   ]
  },
  {
   "cell_type": "code",
   "execution_count": 24,
   "metadata": {},
   "outputs": [
    {
     "data": {
      "text/plain": [
       "7"
      ]
     },
     "execution_count": 24,
     "metadata": {},
     "output_type": "execute_result"
    }
   ],
   "source": [
    "len(pd.Series(image_df['license']).unique())"
   ]
  },
  {
   "cell_type": "code",
   "execution_count": 25,
   "metadata": {},
   "outputs": [
    {
     "data": {
      "text/plain": [
       "5000"
      ]
     },
     "execution_count": 25,
     "metadata": {},
     "output_type": "execute_result"
    }
   ],
   "source": [
    "len(pd.Series(image_df['coco_url']).unique())"
   ]
  },
  {
   "cell_type": "code",
   "execution_count": 26,
   "metadata": {},
   "outputs": [
    {
     "data": {
      "text/plain": [
       "4986"
      ]
     },
     "execution_count": 26,
     "metadata": {},
     "output_type": "execute_result"
    }
   ],
   "source": [
    "len(pd.Series(image_df['date_captured']).unique())\n",
    "#is the fact that there are duplicate dates worth investigating?\n",
    "#are these missing dates?"
   ]
  },
  {
   "cell_type": "code",
   "execution_count": 27,
   "metadata": {},
   "outputs": [
    {
     "data": {
      "text/plain": [
       "302"
      ]
     },
     "execution_count": 27,
     "metadata": {},
     "output_type": "execute_result"
    }
   ],
   "source": [
    "len(pd.Series(image_df['height']).unique())"
   ]
  },
  {
   "cell_type": "code",
   "execution_count": 28,
   "metadata": {},
   "outputs": [
    {
     "data": {
      "text/plain": [
       "221"
      ]
     },
     "execution_count": 28,
     "metadata": {},
     "output_type": "execute_result"
    }
   ],
   "source": [
    "len(pd.Series(image_df['width']).unique())"
   ]
  },
  {
   "cell_type": "markdown",
   "metadata": {},
   "source": [
    "## License Distribution"
   ]
  },
  {
   "cell_type": "code",
   "execution_count": 29,
   "metadata": {},
   "outputs": [
    {
     "data": {
      "text/plain": [
       "<matplotlib.axes._subplots.AxesSubplot at 0x7f6d2bbad438>"
      ]
     },
     "execution_count": 29,
     "metadata": {},
     "output_type": "execute_result"
    },
    {
     "data": {
      "image/png": "[encoded data removed]",
      "text/plain": [
       "<Figure size 432x288 with 1 Axes>"
      ]
     },
     "metadata": {
      "needs_background": "light"
     },
     "output_type": "display_data"
    }
   ],
   "source": [
    "image_df['license'].hist()"
   ]
  },
  {
   "cell_type": "markdown",
   "metadata": {},
   "source": [
    "## Image Size Distribution"
   ]
  },
  {
   "cell_type": "code",
   "execution_count": 30,
   "metadata": {},
   "outputs": [
    {
     "data": {
      "image/png": "[encoded data removed]",
      "text/plain": [
       "<Figure size 432x288 with 1 Axes>"
      ]
     },
     "metadata": {
      "needs_background": "light"
     },
     "output_type": "display_data"
    }
   ],
   "source": [
    "plt.scatter(image_df['width'], image_df['height'])\n",
    "plt.ylabel('Image Heights')\n",
    "plt.xlabel('Image Widths')\n",
    "plt.show()"
   ]
  },
  {
   "cell_type": "markdown",
   "metadata": {},
   "source": [
    "### Distribution of Aspect Ratio"
   ]
  },
  {
   "cell_type": "code",
   "execution_count": 31,
   "metadata": {},
   "outputs": [
    {
     "data": {
      "image/png": "[encoded data removed]",
      "text/plain": [
       "<Figure size 432x288 with 1 Axes>"
      ]
     },
     "metadata": {
      "needs_background": "light"
     },
     "output_type": "display_data"
    }
   ],
   "source": [
    "plt.hist(np.divide(image_df['width'],image_df['height']), bins=100)\n",
    "plt.ylabel('Image Heights')\n",
    "plt.xlabel('Image Widths')\n",
    "plt.show()"
   ]
  },
  {
   "cell_type": "markdown",
   "metadata": {},
   "source": [
    "- Lots of images at a weird aspect ratio.  Might want to check that there is no distortion for these images."
   ]
  },
  {
   "cell_type": "markdown",
   "metadata": {},
   "source": [
    "### Distribution of Widths"
   ]
  },
  {
   "cell_type": "code",
   "execution_count": 32,
   "metadata": {},
   "outputs": [
    {
     "data": {
      "text/plain": [
       "<matplotlib.axes._subplots.AxesSubplot at 0x7f6d2b9479b0>"
      ]
     },
     "execution_count": 32,
     "metadata": {},
     "output_type": "execute_result"
    },
    {
     "data": {
      "image/png": "[encoded data removed]",
      "text/plain": [
       "<Figure size 432x288 with 1 Axes>"
      ]
     },
     "metadata": {
      "needs_background": "light"
     },
     "output_type": "display_data"
    }
   ],
   "source": [
    "image_df['width'].hist(bins=100)"
   ]
  },
  {
   "cell_type": "markdown",
   "metadata": {},
   "source": [
    "### Distribution of Image Heights"
   ]
  },
  {
   "cell_type": "code",
   "execution_count": 33,
   "metadata": {},
   "outputs": [
    {
     "data": {
      "text/plain": [
       "<matplotlib.axes._subplots.AxesSubplot at 0x7f6d2b7ed2e8>"
      ]
     },
     "execution_count": 33,
     "metadata": {},
     "output_type": "execute_result"
    },
    {
     "data": {
      "image/png": "[encoded data removed]",
      "text/plain": [
       "<Figure size 432x288 with 1 Axes>"
      ]
     },
     "metadata": {
      "needs_background": "light"
     },
     "output_type": "display_data"
    }
   ],
   "source": [
    "image_df['width'].hist(bins=100)"
   ]
  },
  {
   "cell_type": "markdown",
   "metadata": {},
   "source": [
    "## Annotation Counts"
   ]
  },
  {
   "cell_type": "code",
   "execution_count": 34,
   "metadata": {},
   "outputs": [],
   "source": [
    "from collections import defaultdict\n",
    "\n",
    "cat_ids = defaultdict(int)"
   ]
  },
  {
   "cell_type": "code",
   "execution_count": 35,
   "metadata": {},
   "outputs": [],
   "source": [
    "electronics = 0\n",
    "tv = 0 # id:72\n",
    "laptop = 0 # id: 73\n",
    "mouse = 0 # id: 74\n",
    "remote = 0 # id: remote\n",
    "keyboard = 0 # id: 76\n",
    "cell = 0 # id: 77\n",
    "\n",
    "for annotation in inst_train['annotations']:\n",
    "    cat_id = annotation['category_id']\n",
    "    \n",
    "    cat_ids[str(cat_id)] += 1\n"
   ]
  },
  {
   "cell_type": "code",
   "execution_count": 36,
   "metadata": {},
   "outputs": [
    {
     "name": "stdout",
     "output_type": "stream",
     "text": [
      "TVs: 288\n",
      "Laptops: 231\n",
      "Mousess: 106\n",
      "Remotess: 283\n",
      "Keyboards: 153\n",
      "Cell Phones: 262\n",
      "Total eletronics: 1323\n"
     ]
    }
   ],
   "source": [
    "tvs = cat_ids['72']\n",
    "print (\"TVs: \" + str(tvs))\n",
    "\n",
    "laptops = cat_ids['73']\n",
    "print (\"Laptops: \" + str(laptops))\n",
    "\n",
    "mouses = cat_ids['74']\n",
    "print (\"Mousess: \" + str(mouses))\n",
    "\n",
    "remotes = cat_ids['75']\n",
    "print (\"Remotess: \" + str(remotes))\n",
    "\n",
    "keyboards = cat_ids['76']\n",
    "print (\"Keyboards: \" + str(keyboards))\n",
    "\n",
    "cells  = cat_ids['77']\n",
    "print (\"Cell Phones: \" + str(cells))\n",
    "\n",
    "electronics = tvs + laptops + mouses + remotes + keyboards + cells\n",
    "print (\"Total eletronics: \" + str(electronics))"
   ]
  },
  {
   "cell_type": "markdown",
   "metadata": {},
   "source": [
    "## Pandas for Annotation\n",
    "### Annotation Counts"
   ]
  },
  {
   "cell_type": "code",
   "execution_count": 37,
   "metadata": {},
   "outputs": [],
   "source": [
    "#annotation_df = pd.DataFrame(dict(cat_ids), index=dict(cat_ids).keys())"
   ]
  },
  {
   "cell_type": "code",
   "execution_count": 38,
   "metadata": {},
   "outputs": [],
   "source": [
    "annotation_counts = pd.Series(cat_ids)"
   ]
  },
  {
   "cell_type": "code",
   "execution_count": 39,
   "metadata": {},
   "outputs": [
    {
     "data": {
      "text/plain": [
       "<matplotlib.axes._subplots.AxesSubplot at 0x7f6d2b9f0a20>"
      ]
     },
     "execution_count": 39,
     "metadata": {},
     "output_type": "execute_result"
    },
    {
     "data": {
      "image/png": "[encoded data removed]",
      "text/plain": [
       "<Figure size 1152x648 with 1 Axes>"
      ]
     },
     "metadata": {
      "needs_background": "light"
     },
     "output_type": "display_data"
    }
   ],
   "source": [
    "annotation_counts.plot.bar(figsize=(16,9))"
   ]
  },
  {
   "cell_type": "code",
   "execution_count": 40,
   "metadata": {},
   "outputs": [
    {
     "data": {
      "image/png": "[encoded data removed]",
      "text/plain": [
       "<Figure size 432x288 with 1 Axes>"
      ]
     },
     "metadata": {
      "needs_background": "light"
     },
     "output_type": "display_data"
    }
   ],
   "source": [
    "electronics_names = ['tv','laptop','mouse','remote','keyboard','cell']\n",
    "electronics_ids = ['72', '73', '74', '75', '76', '77']\n",
    "annotation_counts[electronics_ids].plot.bar()\n",
    "plt.title(\"Distribution of Electronics Annotations\")\n",
    "plt.xlabel(electronics_names)\n",
    "plt.show()"
   ]
  },
  {
   "cell_type": "markdown",
   "metadata": {},
   "source": [
    "### Other Annotation EDA"
   ]
  },
  {
   "cell_type": "code",
   "execution_count": 41,
   "metadata": {},
   "outputs": [],
   "source": [
    "annotation_df = pd.DataFrame(inst_train['annotations'])"
   ]
  },
  {
   "cell_type": "code",
   "execution_count": 42,
   "metadata": {},
   "outputs": [
    {
     "data": {
      "text/html": [
       "<div>\n",
       "<style scoped>\n",
       "    .dataframe tbody tr th:only-of-type {\n",
       "        vertical-align: middle;\n",
       "    }\n",
       "\n",
       "    .dataframe tbody tr th {\n",
       "        vertical-align: top;\n",
       "    }\n",
       "\n",
       "    .dataframe thead th {\n",
       "        text-align: right;\n",
       "    }\n",
       "</style>\n",
       "<table border=\"1\" class=\"dataframe\">\n",
       "  <thead>\n",
       "    <tr style=\"text-align: right;\">\n",
       "      <th></th>\n",
       "      <th>area</th>\n",
       "      <th>bbox</th>\n",
       "      <th>category_id</th>\n",
       "      <th>id</th>\n",
       "      <th>image_id</th>\n",
       "      <th>iscrowd</th>\n",
       "      <th>segmentation</th>\n",
       "    </tr>\n",
       "  </thead>\n",
       "  <tbody>\n",
       "    <tr>\n",
       "      <th>0</th>\n",
       "      <td>702.10575</td>\n",
       "      <td>[473.07, 395.93, 38.65, 28.67]</td>\n",
       "      <td>18</td>\n",
       "      <td>1768</td>\n",
       "      <td>289343</td>\n",
       "      <td>0</td>\n",
       "      <td>[[510.66, 423.01, 511.72, 420.03, 510.45, 416....</td>\n",
       "    </tr>\n",
       "    <tr>\n",
       "      <th>1</th>\n",
       "      <td>27718.47630</td>\n",
       "      <td>[272.1, 200.23, 151.97, 279.77]</td>\n",
       "      <td>18</td>\n",
       "      <td>1773</td>\n",
       "      <td>61471</td>\n",
       "      <td>0</td>\n",
       "      <td>[[289.74, 443.39, 302.29, 445.32, 308.09, 427....</td>\n",
       "    </tr>\n",
       "    <tr>\n",
       "      <th>2</th>\n",
       "      <td>78969.31690</td>\n",
       "      <td>[124.71, 196.18, 372.85, 356.81]</td>\n",
       "      <td>18</td>\n",
       "      <td>2551</td>\n",
       "      <td>472375</td>\n",
       "      <td>0</td>\n",
       "      <td>[[147.76, 396.11, 158.48, 355.91, 153.12, 347....</td>\n",
       "    </tr>\n",
       "    <tr>\n",
       "      <th>3</th>\n",
       "      <td>108316.66515</td>\n",
       "      <td>[112.71, 154.82, 367.29, 479.35]</td>\n",
       "      <td>18</td>\n",
       "      <td>3186</td>\n",
       "      <td>520301</td>\n",
       "      <td>0</td>\n",
       "      <td>[[260.4, 231.26, 215.06, 274.01, 194.33, 307.6...</td>\n",
       "    </tr>\n",
       "    <tr>\n",
       "      <th>4</th>\n",
       "      <td>75864.53530</td>\n",
       "      <td>[200.61, 89.65, 400.22, 251.02]</td>\n",
       "      <td>18</td>\n",
       "      <td>3419</td>\n",
       "      <td>579321</td>\n",
       "      <td>0</td>\n",
       "      <td>[[200.61, 253.97, 273.19, 318.49, 302.43, 336....</td>\n",
       "    </tr>\n",
       "  </tbody>\n",
       "</table>\n",
       "</div>"
      ],
      "text/plain": [
       "           area                              bbox  category_id    id  \\\n",
       "0     702.10575    [473.07, 395.93, 38.65, 28.67]           18  1768   \n",
       "1   27718.47630   [272.1, 200.23, 151.97, 279.77]           18  1773   \n",
       "2   78969.31690  [124.71, 196.18, 372.85, 356.81]           18  2551   \n",
       "3  108316.66515  [112.71, 154.82, 367.29, 479.35]           18  3186   \n",
       "4   75864.53530   [200.61, 89.65, 400.22, 251.02]           18  3419   \n",
       "\n",
       "   image_id  iscrowd                                       segmentation  \n",
       "0    289343        0  [[510.66, 423.01, 511.72, 420.03, 510.45, 416....  \n",
       "1     61471        0  [[289.74, 443.39, 302.29, 445.32, 308.09, 427....  \n",
       "2    472375        0  [[147.76, 396.11, 158.48, 355.91, 153.12, 347....  \n",
       "3    520301        0  [[260.4, 231.26, 215.06, 274.01, 194.33, 307.6...  \n",
       "4    579321        0  [[200.61, 253.97, 273.19, 318.49, 302.43, 336....  "
      ]
     },
     "execution_count": 42,
     "metadata": {},
     "output_type": "execute_result"
    }
   ],
   "source": [
    "annotation_df.head()"
   ]
  },
  {
   "cell_type": "code",
   "execution_count": 43,
   "metadata": {},
   "outputs": [
    {
     "data": {
      "text/html": [
       "<div>\n",
       "<style scoped>\n",
       "    .dataframe tbody tr th:only-of-type {\n",
       "        vertical-align: middle;\n",
       "    }\n",
       "\n",
       "    .dataframe tbody tr th {\n",
       "        vertical-align: top;\n",
       "    }\n",
       "\n",
       "    .dataframe thead th {\n",
       "        text-align: right;\n",
       "    }\n",
       "</style>\n",
       "<table border=\"1\" class=\"dataframe\">\n",
       "  <thead>\n",
       "    <tr style=\"text-align: right;\">\n",
       "      <th></th>\n",
       "      <th>area</th>\n",
       "      <th>category_id</th>\n",
       "      <th>id</th>\n",
       "      <th>image_id</th>\n",
       "      <th>iscrowd</th>\n",
       "    </tr>\n",
       "  </thead>\n",
       "  <tbody>\n",
       "    <tr>\n",
       "      <th>count</th>\n",
       "      <td>36781.000000</td>\n",
       "      <td>36781.000000</td>\n",
       "      <td>3.678100e+04</td>\n",
       "      <td>36781.000000</td>\n",
       "      <td>36781.000000</td>\n",
       "    </tr>\n",
       "    <tr>\n",
       "      <th>mean</th>\n",
       "      <td>11979.108476</td>\n",
       "      <td>29.914847</td>\n",
       "      <td>1.094137e+10</td>\n",
       "      <td>288668.543623</td>\n",
       "      <td>0.012126</td>\n",
       "    </tr>\n",
       "    <tr>\n",
       "      <th>std</th>\n",
       "      <td>29416.673999</td>\n",
       "      <td>28.551477</td>\n",
       "      <td>9.874851e+10</td>\n",
       "      <td>166597.296736</td>\n",
       "      <td>0.109449</td>\n",
       "    </tr>\n",
       "    <tr>\n",
       "      <th>min</th>\n",
       "      <td>1.000450</td>\n",
       "      <td>1.000000</td>\n",
       "      <td>2.830000e+02</td>\n",
       "      <td>139.000000</td>\n",
       "      <td>0.000000</td>\n",
       "    </tr>\n",
       "    <tr>\n",
       "      <th>25%</th>\n",
       "      <td>377.362950</td>\n",
       "      <td>1.000000</td>\n",
       "      <td>4.499100e+05</td>\n",
       "      <td>147725.000000</td>\n",
       "      <td>0.000000</td>\n",
       "    </tr>\n",
       "    <tr>\n",
       "      <th>50%</th>\n",
       "      <td>1681.000000</td>\n",
       "      <td>22.000000</td>\n",
       "      <td>1.239569e+06</td>\n",
       "      <td>289741.000000</td>\n",
       "      <td>0.000000</td>\n",
       "    </tr>\n",
       "    <tr>\n",
       "      <th>75%</th>\n",
       "      <td>8647.652050</td>\n",
       "      <td>55.000000</td>\n",
       "      <td>1.724596e+06</td>\n",
       "      <td>433515.000000</td>\n",
       "      <td>0.000000</td>\n",
       "    </tr>\n",
       "    <tr>\n",
       "      <th>max</th>\n",
       "      <td>393093.964200</td>\n",
       "      <td>90.000000</td>\n",
       "      <td>9.088005e+11</td>\n",
       "      <td>581781.000000</td>\n",
       "      <td>1.000000</td>\n",
       "    </tr>\n",
       "  </tbody>\n",
       "</table>\n",
       "</div>"
      ],
      "text/plain": [
       "                area   category_id            id       image_id       iscrowd\n",
       "count   36781.000000  36781.000000  3.678100e+04   36781.000000  36781.000000\n",
       "mean    11979.108476     29.914847  1.094137e+10  288668.543623      0.012126\n",
       "std     29416.673999     28.551477  9.874851e+10  166597.296736      0.109449\n",
       "min         1.000450      1.000000  2.830000e+02     139.000000      0.000000\n",
       "25%       377.362950      1.000000  4.499100e+05  147725.000000      0.000000\n",
       "50%      1681.000000     22.000000  1.239569e+06  289741.000000      0.000000\n",
       "75%      8647.652050     55.000000  1.724596e+06  433515.000000      0.000000\n",
       "max    393093.964200     90.000000  9.088005e+11  581781.000000      1.000000"
      ]
     },
     "execution_count": 43,
     "metadata": {},
     "output_type": "execute_result"
    }
   ],
   "source": [
    "annotation_df.describe()"
   ]
  },
  {
   "cell_type": "code",
   "execution_count": 44,
   "metadata": {},
   "outputs": [
    {
     "data": {
      "image/png": "[encoded data removed]",
      "text/plain": [
       "<Figure size 432x288 with 1 Axes>"
      ]
     },
     "metadata": {
      "needs_background": "light"
     },
     "output_type": "display_data"
    }
   ],
   "source": [
    "annotation_df['area'].hist(bins=100)\n",
    "plt.title(\"Distribution of Annotation Area\")\n",
    "plt.show()"
   ]
  },
  {
   "cell_type": "markdown",
   "metadata": {},
   "source": [
    "### Merging Annotations with Image Metadata"
   ]
  },
  {
   "cell_type": "code",
   "execution_count": 45,
   "metadata": {},
   "outputs": [],
   "source": [
    "#the 'id' in image_df needs to be changed to 'image_id' in order to join with annotations_df\n",
    "renamed_image_df = image_df.copy(deep=True)\n",
    "renamed_image_df.rename(columns={'id':'image_id'}, inplace=True)"
   ]
  },
  {
   "cell_type": "code",
   "execution_count": 46,
   "metadata": {},
   "outputs": [
    {
     "data": {
      "text/html": [
       "<div>\n",
       "<style scoped>\n",
       "    .dataframe tbody tr th:only-of-type {\n",
       "        vertical-align: middle;\n",
       "    }\n",
       "\n",
       "    .dataframe tbody tr th {\n",
       "        vertical-align: top;\n",
       "    }\n",
       "\n",
       "    .dataframe thead th {\n",
       "        text-align: right;\n",
       "    }\n",
       "</style>\n",
       "<table border=\"1\" class=\"dataframe\">\n",
       "  <thead>\n",
       "    <tr style=\"text-align: right;\">\n",
       "      <th></th>\n",
       "      <th>coco_url</th>\n",
       "      <th>date_captured</th>\n",
       "      <th>file_name</th>\n",
       "      <th>flickr_url</th>\n",
       "      <th>height</th>\n",
       "      <th>image_id</th>\n",
       "      <th>license</th>\n",
       "      <th>width</th>\n",
       "    </tr>\n",
       "  </thead>\n",
       "  <tbody>\n",
       "    <tr>\n",
       "      <th>0</th>\n",
       "      <td>http://images.cocodataset.org/val2017/00000039...</td>\n",
       "      <td>2013-11-14 17:02:52</td>\n",
       "      <td>000000397133.jpg</td>\n",
       "      <td>http://farm7.staticflickr.com/6116/6255196340_...</td>\n",
       "      <td>427</td>\n",
       "      <td>397133</td>\n",
       "      <td>4</td>\n",
       "      <td>640</td>\n",
       "    </tr>\n",
       "    <tr>\n",
       "      <th>1</th>\n",
       "      <td>http://images.cocodataset.org/val2017/00000003...</td>\n",
       "      <td>2013-11-14 20:55:31</td>\n",
       "      <td>000000037777.jpg</td>\n",
       "      <td>http://farm9.staticflickr.com/8429/7839199426_...</td>\n",
       "      <td>230</td>\n",
       "      <td>37777</td>\n",
       "      <td>1</td>\n",
       "      <td>352</td>\n",
       "    </tr>\n",
       "    <tr>\n",
       "      <th>2</th>\n",
       "      <td>http://images.cocodataset.org/val2017/00000025...</td>\n",
       "      <td>2013-11-14 22:32:02</td>\n",
       "      <td>000000252219.jpg</td>\n",
       "      <td>http://farm4.staticflickr.com/3446/3232237447_...</td>\n",
       "      <td>428</td>\n",
       "      <td>252219</td>\n",
       "      <td>4</td>\n",
       "      <td>640</td>\n",
       "    </tr>\n",
       "    <tr>\n",
       "      <th>3</th>\n",
       "      <td>http://images.cocodataset.org/val2017/00000008...</td>\n",
       "      <td>2013-11-14 23:11:37</td>\n",
       "      <td>000000087038.jpg</td>\n",
       "      <td>http://farm8.staticflickr.com/7355/8825114508_...</td>\n",
       "      <td>480</td>\n",
       "      <td>87038</td>\n",
       "      <td>1</td>\n",
       "      <td>640</td>\n",
       "    </tr>\n",
       "    <tr>\n",
       "      <th>4</th>\n",
       "      <td>http://images.cocodataset.org/val2017/00000017...</td>\n",
       "      <td>2013-11-14 23:16:55</td>\n",
       "      <td>000000174482.jpg</td>\n",
       "      <td>http://farm8.staticflickr.com/7020/6478877255_...</td>\n",
       "      <td>388</td>\n",
       "      <td>174482</td>\n",
       "      <td>6</td>\n",
       "      <td>640</td>\n",
       "    </tr>\n",
       "  </tbody>\n",
       "</table>\n",
       "</div>"
      ],
      "text/plain": [
       "                                            coco_url        date_captured  \\\n",
       "0  http://images.cocodataset.org/val2017/00000039...  2013-11-14 17:02:52   \n",
       "1  http://images.cocodataset.org/val2017/00000003...  2013-11-14 20:55:31   \n",
       "2  http://images.cocodataset.org/val2017/00000025...  2013-11-14 22:32:02   \n",
       "3  http://images.cocodataset.org/val2017/00000008...  2013-11-14 23:11:37   \n",
       "4  http://images.cocodataset.org/val2017/00000017...  2013-11-14 23:16:55   \n",
       "\n",
       "          file_name                                         flickr_url  \\\n",
       "0  000000397133.jpg  http://farm7.staticflickr.com/6116/6255196340_...   \n",
       "1  000000037777.jpg  http://farm9.staticflickr.com/8429/7839199426_...   \n",
       "2  000000252219.jpg  http://farm4.staticflickr.com/3446/3232237447_...   \n",
       "3  000000087038.jpg  http://farm8.staticflickr.com/7355/8825114508_...   \n",
       "4  000000174482.jpg  http://farm8.staticflickr.com/7020/6478877255_...   \n",
       "\n",
       "   height  image_id  license  width  \n",
       "0     427    397133        4    640  \n",
       "1     230     37777        1    352  \n",
       "2     428    252219        4    640  \n",
       "3     480     87038        1    640  \n",
       "4     388    174482        6    640  "
      ]
     },
     "execution_count": 46,
     "metadata": {},
     "output_type": "execute_result"
    }
   ],
   "source": [
    "renamed_image_df.head()"
   ]
  },
  {
   "cell_type": "code",
   "execution_count": 47,
   "metadata": {},
   "outputs": [],
   "source": [
    "sorted_image_ids_from_image = pd.Series(renamed_image_df['image_id']).sort_values().reset_index(drop=True)\n",
    "sorted_image_ids_from_anno = pd.Series(pd.Series(annotation_df['image_id']).unique()).sort_values().reset_index(drop=True)"
   ]
  },
  {
   "cell_type": "code",
   "execution_count": 48,
   "metadata": {},
   "outputs": [
    {
     "data": {
      "text/plain": [
       "False"
      ]
     },
     "execution_count": 48,
     "metadata": {},
     "output_type": "execute_result"
    }
   ],
   "source": [
    "sorted_image_ids_from_image.equals(sorted_image_ids_from_anno)"
   ]
  },
  {
   "cell_type": "code",
   "execution_count": 49,
   "metadata": {},
   "outputs": [
    {
     "data": {
      "text/plain": [
       "4995    581317\n",
       "4996    581357\n",
       "4997    581482\n",
       "4998    581615\n",
       "4999    581781\n",
       "Name: image_id, dtype: int64"
      ]
     },
     "execution_count": 49,
     "metadata": {},
     "output_type": "execute_result"
    }
   ],
   "source": [
    "sorted_image_ids_from_image.tail()"
   ]
  },
  {
   "cell_type": "code",
   "execution_count": 50,
   "metadata": {},
   "outputs": [
    {
     "data": {
      "text/plain": [
       "4947    581317\n",
       "4948    581357\n",
       "4949    581482\n",
       "4950    581615\n",
       "4951    581781\n",
       "dtype: int64"
      ]
     },
     "execution_count": 50,
     "metadata": {},
     "output_type": "execute_result"
    }
   ],
   "source": [
    "sorted_image_ids_from_anno.tail()"
   ]
  },
  {
   "cell_type": "markdown",
   "metadata": {},
   "source": [
    "- Looks like not every image has annotations."
   ]
  },
  {
   "cell_type": "code",
   "execution_count": 51,
   "metadata": {},
   "outputs": [],
   "source": [
    "images_and_annotations_df = annotation_df.merge(renamed_image_df,on='image_id', how='left')"
   ]
  },
  {
   "cell_type": "code",
   "execution_count": 52,
   "metadata": {},
   "outputs": [
    {
     "data": {
      "text/html": [
       "<div>\n",
       "<style scoped>\n",
       "    .dataframe tbody tr th:only-of-type {\n",
       "        vertical-align: middle;\n",
       "    }\n",
       "\n",
       "    .dataframe tbody tr th {\n",
       "        vertical-align: top;\n",
       "    }\n",
       "\n",
       "    .dataframe thead th {\n",
       "        text-align: right;\n",
       "    }\n",
       "</style>\n",
       "<table border=\"1\" class=\"dataframe\">\n",
       "  <thead>\n",
       "    <tr style=\"text-align: right;\">\n",
       "      <th></th>\n",
       "      <th>area</th>\n",
       "      <th>bbox</th>\n",
       "      <th>category_id</th>\n",
       "      <th>id</th>\n",
       "      <th>image_id</th>\n",
       "      <th>iscrowd</th>\n",
       "      <th>segmentation</th>\n",
       "      <th>coco_url</th>\n",
       "      <th>date_captured</th>\n",
       "      <th>file_name</th>\n",
       "      <th>flickr_url</th>\n",
       "      <th>height</th>\n",
       "      <th>license</th>\n",
       "      <th>width</th>\n",
       "    </tr>\n",
       "  </thead>\n",
       "  <tbody>\n",
       "    <tr>\n",
       "      <th>0</th>\n",
       "      <td>702.10575</td>\n",
       "      <td>[473.07, 395.93, 38.65, 28.67]</td>\n",
       "      <td>18</td>\n",
       "      <td>1768</td>\n",
       "      <td>289343</td>\n",
       "      <td>0</td>\n",
       "      <td>[[510.66, 423.01, 511.72, 420.03, 510.45, 416....</td>\n",
       "      <td>http://images.cocodataset.org/val2017/00000028...</td>\n",
       "      <td>2013-11-15 00:35:14</td>\n",
       "      <td>000000289343.jpg</td>\n",
       "      <td>http://farm5.staticflickr.com/4029/4669549715_...</td>\n",
       "      <td>640</td>\n",
       "      <td>2</td>\n",
       "      <td>529</td>\n",
       "    </tr>\n",
       "    <tr>\n",
       "      <th>1</th>\n",
       "      <td>27718.47630</td>\n",
       "      <td>[272.1, 200.23, 151.97, 279.77]</td>\n",
       "      <td>18</td>\n",
       "      <td>1773</td>\n",
       "      <td>61471</td>\n",
       "      <td>0</td>\n",
       "      <td>[[289.74, 443.39, 302.29, 445.32, 308.09, 427....</td>\n",
       "      <td>http://images.cocodataset.org/val2017/00000006...</td>\n",
       "      <td>2013-11-15 01:18:25</td>\n",
       "      <td>000000061471.jpg</td>\n",
       "      <td>http://farm1.staticflickr.com/11/12252917_d009...</td>\n",
       "      <td>480</td>\n",
       "      <td>1</td>\n",
       "      <td>640</td>\n",
       "    </tr>\n",
       "    <tr>\n",
       "      <th>2</th>\n",
       "      <td>78969.31690</td>\n",
       "      <td>[124.71, 196.18, 372.85, 356.81]</td>\n",
       "      <td>18</td>\n",
       "      <td>2551</td>\n",
       "      <td>472375</td>\n",
       "      <td>0</td>\n",
       "      <td>[[147.76, 396.11, 158.48, 355.91, 153.12, 347....</td>\n",
       "      <td>http://images.cocodataset.org/val2017/00000047...</td>\n",
       "      <td>2013-11-15 12:52:52</td>\n",
       "      <td>000000472375.jpg</td>\n",
       "      <td>http://farm6.staticflickr.com/5333/8941457326_...</td>\n",
       "      <td>612</td>\n",
       "      <td>3</td>\n",
       "      <td>612</td>\n",
       "    </tr>\n",
       "    <tr>\n",
       "      <th>3</th>\n",
       "      <td>108316.66515</td>\n",
       "      <td>[112.71, 154.82, 367.29, 479.35]</td>\n",
       "      <td>18</td>\n",
       "      <td>3186</td>\n",
       "      <td>520301</td>\n",
       "      <td>0</td>\n",
       "      <td>[[260.4, 231.26, 215.06, 274.01, 194.33, 307.6...</td>\n",
       "      <td>http://images.cocodataset.org/val2017/00000052...</td>\n",
       "      <td>2013-11-15 07:45:44</td>\n",
       "      <td>000000520301.jpg</td>\n",
       "      <td>http://farm3.staticflickr.com/2556/4134376909_...</td>\n",
       "      <td>640</td>\n",
       "      <td>3</td>\n",
       "      <td>480</td>\n",
       "    </tr>\n",
       "    <tr>\n",
       "      <th>4</th>\n",
       "      <td>75864.53530</td>\n",
       "      <td>[200.61, 89.65, 400.22, 251.02]</td>\n",
       "      <td>18</td>\n",
       "      <td>3419</td>\n",
       "      <td>579321</td>\n",
       "      <td>0</td>\n",
       "      <td>[[200.61, 253.97, 273.19, 318.49, 302.43, 336....</td>\n",
       "      <td>http://images.cocodataset.org/val2017/00000057...</td>\n",
       "      <td>2013-11-14 17:38:30</td>\n",
       "      <td>000000579321.jpg</td>\n",
       "      <td>http://farm5.staticflickr.com/4114/4737904204_...</td>\n",
       "      <td>498</td>\n",
       "      <td>5</td>\n",
       "      <td>640</td>\n",
       "    </tr>\n",
       "  </tbody>\n",
       "</table>\n",
       "</div>"
      ],
      "text/plain": [
       "           area                              bbox  category_id    id  \\\n",
       "0     702.10575    [473.07, 395.93, 38.65, 28.67]           18  1768   \n",
       "1   27718.47630   [272.1, 200.23, 151.97, 279.77]           18  1773   \n",
       "2   78969.31690  [124.71, 196.18, 372.85, 356.81]           18  2551   \n",
       "3  108316.66515  [112.71, 154.82, 367.29, 479.35]           18  3186   \n",
       "4   75864.53530   [200.61, 89.65, 400.22, 251.02]           18  3419   \n",
       "\n",
       "   image_id  iscrowd                                       segmentation  \\\n",
       "0    289343        0  [[510.66, 423.01, 511.72, 420.03, 510.45, 416....   \n",
       "1     61471        0  [[289.74, 443.39, 302.29, 445.32, 308.09, 427....   \n",
       "2    472375        0  [[147.76, 396.11, 158.48, 355.91, 153.12, 347....   \n",
       "3    520301        0  [[260.4, 231.26, 215.06, 274.01, 194.33, 307.6...   \n",
       "4    579321        0  [[200.61, 253.97, 273.19, 318.49, 302.43, 336....   \n",
       "\n",
       "                                            coco_url        date_captured  \\\n",
       "0  http://images.cocodataset.org/val2017/00000028...  2013-11-15 00:35:14   \n",
       "1  http://images.cocodataset.org/val2017/00000006...  2013-11-15 01:18:25   \n",
       "2  http://images.cocodataset.org/val2017/00000047...  2013-11-15 12:52:52   \n",
       "3  http://images.cocodataset.org/val2017/00000052...  2013-11-15 07:45:44   \n",
       "4  http://images.cocodataset.org/val2017/00000057...  2013-11-14 17:38:30   \n",
       "\n",
       "          file_name                                         flickr_url  \\\n",
       "0  000000289343.jpg  http://farm5.staticflickr.com/4029/4669549715_...   \n",
       "1  000000061471.jpg  http://farm1.staticflickr.com/11/12252917_d009...   \n",
       "2  000000472375.jpg  http://farm6.staticflickr.com/5333/8941457326_...   \n",
       "3  000000520301.jpg  http://farm3.staticflickr.com/2556/4134376909_...   \n",
       "4  000000579321.jpg  http://farm5.staticflickr.com/4114/4737904204_...   \n",
       "\n",
       "   height  license  width  \n",
       "0     640        2    529  \n",
       "1     480        1    640  \n",
       "2     612        3    612  \n",
       "3     640        3    480  \n",
       "4     498        5    640  "
      ]
     },
     "execution_count": 52,
     "metadata": {},
     "output_type": "execute_result"
    }
   ],
   "source": [
    "images_and_annotations_df.head()"
   ]
  },
  {
   "cell_type": "code",
   "execution_count": 53,
   "metadata": {
    "scrolled": true
   },
   "outputs": [
    {
     "data": {
      "text/html": [
       "<div>\n",
       "<style scoped>\n",
       "    .dataframe tbody tr th:only-of-type {\n",
       "        vertical-align: middle;\n",
       "    }\n",
       "\n",
       "    .dataframe tbody tr th {\n",
       "        vertical-align: top;\n",
       "    }\n",
       "\n",
       "    .dataframe thead th {\n",
       "        text-align: right;\n",
       "    }\n",
       "</style>\n",
       "<table border=\"1\" class=\"dataframe\">\n",
       "  <thead>\n",
       "    <tr style=\"text-align: right;\">\n",
       "      <th></th>\n",
       "      <th>area</th>\n",
       "      <th>category_id</th>\n",
       "      <th>id</th>\n",
       "      <th>image_id</th>\n",
       "      <th>iscrowd</th>\n",
       "      <th>height</th>\n",
       "      <th>license</th>\n",
       "      <th>width</th>\n",
       "    </tr>\n",
       "  </thead>\n",
       "  <tbody>\n",
       "    <tr>\n",
       "      <th>count</th>\n",
       "      <td>36781.000000</td>\n",
       "      <td>36781.000000</td>\n",
       "      <td>3.678100e+04</td>\n",
       "      <td>36781.000000</td>\n",
       "      <td>36781.000000</td>\n",
       "      <td>36781.000000</td>\n",
       "      <td>36781.000000</td>\n",
       "      <td>36781.000000</td>\n",
       "    </tr>\n",
       "    <tr>\n",
       "      <th>mean</th>\n",
       "      <td>11979.108476</td>\n",
       "      <td>29.914847</td>\n",
       "      <td>1.094137e+10</td>\n",
       "      <td>288668.543623</td>\n",
       "      <td>0.012126</td>\n",
       "      <td>475.939915</td>\n",
       "      <td>2.789592</td>\n",
       "      <td>584.324597</td>\n",
       "    </tr>\n",
       "    <tr>\n",
       "      <th>std</th>\n",
       "      <td>29416.673999</td>\n",
       "      <td>28.551477</td>\n",
       "      <td>9.874851e+10</td>\n",
       "      <td>166597.296736</td>\n",
       "      <td>0.109449</td>\n",
       "      <td>93.882787</td>\n",
       "      <td>1.480714</td>\n",
       "      <td>88.026946</td>\n",
       "    </tr>\n",
       "    <tr>\n",
       "      <th>min</th>\n",
       "      <td>1.000450</td>\n",
       "      <td>1.000000</td>\n",
       "      <td>2.830000e+02</td>\n",
       "      <td>139.000000</td>\n",
       "      <td>0.000000</td>\n",
       "      <td>145.000000</td>\n",
       "      <td>1.000000</td>\n",
       "      <td>200.000000</td>\n",
       "    </tr>\n",
       "    <tr>\n",
       "      <th>25%</th>\n",
       "      <td>377.362950</td>\n",
       "      <td>1.000000</td>\n",
       "      <td>4.499100e+05</td>\n",
       "      <td>147725.000000</td>\n",
       "      <td>0.000000</td>\n",
       "      <td>426.000000</td>\n",
       "      <td>1.000000</td>\n",
       "      <td>500.000000</td>\n",
       "    </tr>\n",
       "    <tr>\n",
       "      <th>50%</th>\n",
       "      <td>1681.000000</td>\n",
       "      <td>22.000000</td>\n",
       "      <td>1.239569e+06</td>\n",
       "      <td>289741.000000</td>\n",
       "      <td>0.000000</td>\n",
       "      <td>480.000000</td>\n",
       "      <td>3.000000</td>\n",
       "      <td>640.000000</td>\n",
       "    </tr>\n",
       "    <tr>\n",
       "      <th>75%</th>\n",
       "      <td>8647.652050</td>\n",
       "      <td>55.000000</td>\n",
       "      <td>1.724596e+06</td>\n",
       "      <td>433515.000000</td>\n",
       "      <td>0.000000</td>\n",
       "      <td>500.000000</td>\n",
       "      <td>4.000000</td>\n",
       "      <td>640.000000</td>\n",
       "    </tr>\n",
       "    <tr>\n",
       "      <th>max</th>\n",
       "      <td>393093.964200</td>\n",
       "      <td>90.000000</td>\n",
       "      <td>9.088005e+11</td>\n",
       "      <td>581781.000000</td>\n",
       "      <td>1.000000</td>\n",
       "      <td>640.000000</td>\n",
       "      <td>7.000000</td>\n",
       "      <td>640.000000</td>\n",
       "    </tr>\n",
       "  </tbody>\n",
       "</table>\n",
       "</div>"
      ],
      "text/plain": [
       "                area   category_id            id       image_id       iscrowd  \\\n",
       "count   36781.000000  36781.000000  3.678100e+04   36781.000000  36781.000000   \n",
       "mean    11979.108476     29.914847  1.094137e+10  288668.543623      0.012126   \n",
       "std     29416.673999     28.551477  9.874851e+10  166597.296736      0.109449   \n",
       "min         1.000450      1.000000  2.830000e+02     139.000000      0.000000   \n",
       "25%       377.362950      1.000000  4.499100e+05  147725.000000      0.000000   \n",
       "50%      1681.000000     22.000000  1.239569e+06  289741.000000      0.000000   \n",
       "75%      8647.652050     55.000000  1.724596e+06  433515.000000      0.000000   \n",
       "max    393093.964200     90.000000  9.088005e+11  581781.000000      1.000000   \n",
       "\n",
       "             height       license         width  \n",
       "count  36781.000000  36781.000000  36781.000000  \n",
       "mean     475.939915      2.789592    584.324597  \n",
       "std       93.882787      1.480714     88.026946  \n",
       "min      145.000000      1.000000    200.000000  \n",
       "25%      426.000000      1.000000    500.000000  \n",
       "50%      480.000000      3.000000    640.000000  \n",
       "75%      500.000000      4.000000    640.000000  \n",
       "max      640.000000      7.000000    640.000000  "
      ]
     },
     "execution_count": 53,
     "metadata": {},
     "output_type": "execute_result"
    }
   ],
   "source": [
    "images_and_annotations_df.describe()"
   ]
  },
  {
   "cell_type": "markdown",
   "metadata": {},
   "source": [
    "### Distribution of Annotations per Image"
   ]
  },
  {
   "cell_type": "code",
   "execution_count": null,
   "metadata": {},
   "outputs": [],
   "source": []
  },
  {
   "cell_type": "code",
   "execution_count": null,
   "metadata": {},
   "outputs": [],
   "source": []
  },
  {
   "cell_type": "code",
   "execution_count": null,
   "metadata": {},
   "outputs": [],
   "source": []
  },
  {
   "cell_type": "markdown",
   "metadata": {},
   "source": [
    "### Select the entries for electronics only:"
   ]
  },
  {
   "cell_type": "code",
   "execution_count": 54,
   "metadata": {},
   "outputs": [],
   "source": [
    "electronics_only_merged_df = images_and_annotations_df.loc[(images_and_annotations_df['category_id'] >= 72) & (images_and_annotations_df['category_id'] <= 77)]"
   ]
  },
  {
   "cell_type": "code",
   "execution_count": 55,
   "metadata": {},
   "outputs": [
    {
     "data": {
      "text/html": [
       "<div>\n",
       "<style scoped>\n",
       "    .dataframe tbody tr th:only-of-type {\n",
       "        vertical-align: middle;\n",
       "    }\n",
       "\n",
       "    .dataframe tbody tr th {\n",
       "        vertical-align: top;\n",
       "    }\n",
       "\n",
       "    .dataframe thead th {\n",
       "        text-align: right;\n",
       "    }\n",
       "</style>\n",
       "<table border=\"1\" class=\"dataframe\">\n",
       "  <thead>\n",
       "    <tr style=\"text-align: right;\">\n",
       "      <th></th>\n",
       "      <th>area</th>\n",
       "      <th>category_id</th>\n",
       "      <th>id</th>\n",
       "      <th>image_id</th>\n",
       "      <th>iscrowd</th>\n",
       "      <th>height</th>\n",
       "      <th>license</th>\n",
       "      <th>width</th>\n",
       "    </tr>\n",
       "  </thead>\n",
       "  <tbody>\n",
       "    <tr>\n",
       "      <th>count</th>\n",
       "      <td>1323.000000</td>\n",
       "      <td>1323.000000</td>\n",
       "      <td>1.323000e+03</td>\n",
       "      <td>1323.000000</td>\n",
       "      <td>1323.0</td>\n",
       "      <td>1323.000000</td>\n",
       "      <td>1323.000000</td>\n",
       "      <td>1323.000000</td>\n",
       "    </tr>\n",
       "    <tr>\n",
       "      <th>mean</th>\n",
       "      <td>12748.312920</td>\n",
       "      <td>74.429327</td>\n",
       "      <td>1.111126e+06</td>\n",
       "      <td>292781.323507</td>\n",
       "      <td>0.0</td>\n",
       "      <td>459.445200</td>\n",
       "      <td>2.810280</td>\n",
       "      <td>587.922902</td>\n",
       "    </tr>\n",
       "    <tr>\n",
       "      <th>std</th>\n",
       "      <td>26644.342120</td>\n",
       "      <td>1.822731</td>\n",
       "      <td>6.773934e+05</td>\n",
       "      <td>170926.585920</td>\n",
       "      <td>0.0</td>\n",
       "      <td>80.704879</td>\n",
       "      <td>1.499718</td>\n",
       "      <td>83.725237</td>\n",
       "    </tr>\n",
       "    <tr>\n",
       "      <th>min</th>\n",
       "      <td>3.453100</td>\n",
       "      <td>72.000000</td>\n",
       "      <td>2.822400e+04</td>\n",
       "      <td>139.000000</td>\n",
       "      <td>0.0</td>\n",
       "      <td>169.000000</td>\n",
       "      <td>1.000000</td>\n",
       "      <td>240.000000</td>\n",
       "    </tr>\n",
       "    <tr>\n",
       "      <th>25%</th>\n",
       "      <td>413.949125</td>\n",
       "      <td>73.000000</td>\n",
       "      <td>3.277755e+05</td>\n",
       "      <td>149222.000000</td>\n",
       "      <td>0.0</td>\n",
       "      <td>425.000000</td>\n",
       "      <td>1.000000</td>\n",
       "      <td>500.000000</td>\n",
       "    </tr>\n",
       "    <tr>\n",
       "      <th>50%</th>\n",
       "      <td>2247.999550</td>\n",
       "      <td>75.000000</td>\n",
       "      <td>1.109441e+06</td>\n",
       "      <td>316015.000000</td>\n",
       "      <td>0.0</td>\n",
       "      <td>479.000000</td>\n",
       "      <td>3.000000</td>\n",
       "      <td>640.000000</td>\n",
       "    </tr>\n",
       "    <tr>\n",
       "      <th>75%</th>\n",
       "      <td>13195.127450</td>\n",
       "      <td>76.000000</td>\n",
       "      <td>1.634121e+06</td>\n",
       "      <td>435208.000000</td>\n",
       "      <td>0.0</td>\n",
       "      <td>480.000000</td>\n",
       "      <td>4.000000</td>\n",
       "      <td>640.000000</td>\n",
       "    </tr>\n",
       "    <tr>\n",
       "      <th>max</th>\n",
       "      <td>273069.516600</td>\n",
       "      <td>77.000000</td>\n",
       "      <td>2.231612e+06</td>\n",
       "      <td>581317.000000</td>\n",
       "      <td>0.0</td>\n",
       "      <td>640.000000</td>\n",
       "      <td>6.000000</td>\n",
       "      <td>640.000000</td>\n",
       "    </tr>\n",
       "  </tbody>\n",
       "</table>\n",
       "</div>"
      ],
      "text/plain": [
       "                area  category_id            id       image_id  iscrowd  \\\n",
       "count    1323.000000  1323.000000  1.323000e+03    1323.000000   1323.0   \n",
       "mean    12748.312920    74.429327  1.111126e+06  292781.323507      0.0   \n",
       "std     26644.342120     1.822731  6.773934e+05  170926.585920      0.0   \n",
       "min         3.453100    72.000000  2.822400e+04     139.000000      0.0   \n",
       "25%       413.949125    73.000000  3.277755e+05  149222.000000      0.0   \n",
       "50%      2247.999550    75.000000  1.109441e+06  316015.000000      0.0   \n",
       "75%     13195.127450    76.000000  1.634121e+06  435208.000000      0.0   \n",
       "max    273069.516600    77.000000  2.231612e+06  581317.000000      0.0   \n",
       "\n",
       "            height      license        width  \n",
       "count  1323.000000  1323.000000  1323.000000  \n",
       "mean    459.445200     2.810280   587.922902  \n",
       "std      80.704879     1.499718    83.725237  \n",
       "min     169.000000     1.000000   240.000000  \n",
       "25%     425.000000     1.000000   500.000000  \n",
       "50%     479.000000     3.000000   640.000000  \n",
       "75%     480.000000     4.000000   640.000000  \n",
       "max     640.000000     6.000000   640.000000  "
      ]
     },
     "execution_count": 55,
     "metadata": {},
     "output_type": "execute_result"
    }
   ],
   "source": [
    "electronics_only_merged_df.describe()"
   ]
  },
  {
   "cell_type": "markdown",
   "metadata": {},
   "source": [
    "- All the image ids in 'electronics_only_merged_df' are the ones with electronics"
   ]
  },
  {
   "cell_type": "markdown",
   "metadata": {},
   "source": [
    "### Distribution of Annotations per Image for Electronics Only"
   ]
  },
  {
   "cell_type": "code",
   "execution_count": null,
   "metadata": {},
   "outputs": [],
   "source": []
  },
  {
   "cell_type": "code",
   "execution_count": null,
   "metadata": {},
   "outputs": [],
   "source": []
  },
  {
   "cell_type": "code",
   "execution_count": null,
   "metadata": {},
   "outputs": [],
   "source": []
  },
  {
   "cell_type": "code",
   "execution_count": null,
   "metadata": {},
   "outputs": [],
   "source": []
  },
  {
   "cell_type": "code",
   "execution_count": null,
   "metadata": {},
   "outputs": [],
   "source": []
  },
  {
   "cell_type": "markdown",
   "metadata": {},
   "source": [
    "## Image EDA"
   ]
  },
  {
   "cell_type": "code",
   "execution_count": 56,
   "metadata": {},
   "outputs": [],
   "source": [
    "path = \"/home/muthderd/MIDS/W210/data/train2017/000000000030.jpg\""
   ]
  },
  {
   "cell_type": "code",
   "execution_count": 57,
   "metadata": {},
   "outputs": [
    {
     "ename": "FileNotFoundError",
     "evalue": "[Errno 2] No such file or directory: '/home/muthderd/MIDS/W210/data/train2017/000000000030.jpg'",
     "output_type": "error",
     "traceback": [
      "\u001b[0;31m---------------------------------------------------------------------------\u001b[0m",
      "\u001b[0;31mFileNotFoundError\u001b[0m                         Traceback (most recent call last)",
      "\u001b[0;32m<ipython-input-57-878a9672ca0f>\u001b[0m in \u001b[0;36m<module>\u001b[0;34m\u001b[0m\n\u001b[0;32m----> 1\u001b[0;31m \u001b[0mimg\u001b[0m \u001b[0;34m=\u001b[0m \u001b[0mImage\u001b[0m\u001b[0;34m.\u001b[0m\u001b[0mopen\u001b[0m\u001b[0;34m(\u001b[0m\u001b[0mpath\u001b[0m\u001b[0;34m)\u001b[0m\u001b[0;34m\u001b[0m\u001b[0;34m\u001b[0m\u001b[0m\n\u001b[0m",
      "\u001b[0;32m~/anaconda3/lib/python3.7/site-packages/PIL/Image.py\u001b[0m in \u001b[0;36mopen\u001b[0;34m(fp, mode)\u001b[0m\n\u001b[1;32m   2607\u001b[0m \u001b[0;34m\u001b[0m\u001b[0m\n\u001b[1;32m   2608\u001b[0m     \u001b[0;32mif\u001b[0m \u001b[0mfilename\u001b[0m\u001b[0;34m:\u001b[0m\u001b[0;34m\u001b[0m\u001b[0;34m\u001b[0m\u001b[0m\n\u001b[0;32m-> 2609\u001b[0;31m         \u001b[0mfp\u001b[0m \u001b[0;34m=\u001b[0m \u001b[0mbuiltins\u001b[0m\u001b[0;34m.\u001b[0m\u001b[0mopen\u001b[0m\u001b[0;34m(\u001b[0m\u001b[0mfilename\u001b[0m\u001b[0;34m,\u001b[0m \u001b[0;34m\"rb\"\u001b[0m\u001b[0;34m)\u001b[0m\u001b[0;34m\u001b[0m\u001b[0;34m\u001b[0m\u001b[0m\n\u001b[0m\u001b[1;32m   2610\u001b[0m         \u001b[0mexclusive_fp\u001b[0m \u001b[0;34m=\u001b[0m \u001b[0;32mTrue\u001b[0m\u001b[0;34m\u001b[0m\u001b[0;34m\u001b[0m\u001b[0m\n\u001b[1;32m   2611\u001b[0m \u001b[0;34m\u001b[0m\u001b[0m\n",
      "\u001b[0;31mFileNotFoundError\u001b[0m: [Errno 2] No such file or directory: '/home/muthderd/MIDS/W210/data/train2017/000000000030.jpg'"
     ]
    }
   ],
   "source": [
    "img = Image.open(path)"
   ]
  },
  {
   "cell_type": "code",
   "execution_count": null,
   "metadata": {},
   "outputs": [],
   "source": [
    "img.show()"
   ]
  },
  {
   "cell_type": "code",
   "execution_count": null,
   "metadata": {},
   "outputs": [],
   "source": [
    "width, height = img.size\n",
    "print(width, height)"
   ]
  },
  {
   "cell_type": "code",
   "execution_count": null,
   "metadata": {},
   "outputs": [],
   "source": [
    "len(img.histogram())"
   ]
  },
  {
   "cell_type": "code",
   "execution_count": null,
   "metadata": {},
   "outputs": [],
   "source": [
    "pixel_vals = [value for value in range(1,len(img.histogram())+1)]"
   ]
  },
  {
   "cell_type": "code",
   "execution_count": null,
   "metadata": {},
   "outputs": [],
   "source": [
    "plt.bar(pixel_vals, img.histogram())\n",
    "plt.title(\"Distribution of RGB Values for Training Pic 30\")\n",
    "plt.ylabel('Count')\n",
    "plt.xlabel('RGB Value')\n",
    "plt.show()"
   ]
  },
  {
   "cell_type": "code",
   "execution_count": null,
   "metadata": {},
   "outputs": [],
   "source": [
    "##my guess is that the 3 peaks represent red, white, and green"
   ]
  },
  {
   "cell_type": "code",
   "execution_count": null,
   "metadata": {},
   "outputs": [],
   "source": [
    "#select all images that contain electronics\n",
    "all_images_with_electronics = list(pd.Series(electronics_only_merged_df['image_id']).unique())"
   ]
  },
  {
   "cell_type": "code",
   "execution_count": null,
   "metadata": {},
   "outputs": [],
   "source": [
    "len(all_images_with_electronics)"
   ]
  },
  {
   "cell_type": "code",
   "execution_count": null,
   "metadata": {
    "scrolled": true
   },
   "outputs": [],
   "source": [
    "all_images_with_electronics[0]"
   ]
  },
  {
   "cell_type": "markdown",
   "metadata": {},
   "source": [
    "### Do all the training filenames have the same string length?"
   ]
  },
  {
   "cell_type": "code",
   "execution_count": null,
   "metadata": {},
   "outputs": [],
   "source": [
    "training_folder_name = '/home/muthderd/MIDS/W210/data/train2017/'\n",
    "all_training_filenames = os.listdir(training_folder_name)"
   ]
  },
  {
   "cell_type": "code",
   "execution_count": null,
   "metadata": {},
   "outputs": [],
   "source": [
    "len(all_training_filenames[0])"
   ]
  },
  {
   "cell_type": "code",
   "execution_count": null,
   "metadata": {},
   "outputs": [],
   "source": [
    "max_file_id_length = len(all_training_filenames[0]) - 4#subtract 4 for the '.jpg' suffix"
   ]
  },
  {
   "cell_type": "code",
   "execution_count": null,
   "metadata": {},
   "outputs": [],
   "source": [
    "wrong_length = 0\n",
    "for filename in all_training_filenames:\n",
    "    if len(filename) != 16:\n",
    "        wrong_length += 1\n",
    "        \n",
    "print(wrong_length)"
   ]
  },
  {
   "cell_type": "markdown",
   "metadata": {},
   "source": [
    "- All filenames in train2017 have the same length."
   ]
  },
  {
   "cell_type": "code",
   "execution_count": null,
   "metadata": {},
   "outputs": [],
   "source": [
    "all_training_filenames[0]"
   ]
  },
  {
   "cell_type": "code",
   "execution_count": null,
   "metadata": {},
   "outputs": [],
   "source": [
    "all_training_filenames[0][:12]"
   ]
  },
  {
   "cell_type": "code",
   "execution_count": null,
   "metadata": {},
   "outputs": [],
   "source": [
    "files_to_open = []\n",
    "for image_id in all_images_with_electronics:\n",
    "    file_id = str(image_id)\n",
    "    zeros_to_add = max_file_id_length-len(file_id)\n",
    "    filename = ('0'*zeros_to_add) + file_id + '.jpg'\n",
    "    files_to_open.append(filename)"
   ]
  },
  {
   "cell_type": "code",
   "execution_count": null,
   "metadata": {},
   "outputs": [],
   "source": [
    "summed_rgb_vals_768 = np.array([0]*768)\n",
    "total_768 = 0\n",
    "summed_rgb_vals_256 = np.array([0]*256)\n",
    "total_256 = 0\n",
    "total_other = 0\n",
    "for filename in files_to_open:\n",
    "    path = training_folder_name+filename\n",
    "    with Image.open(path) as image:\n",
    "        rgb_counts = image.histogram()\n",
    "        #width, height = image.size #actual width and height can be checked for data integrity\n",
    "        if len(rgb_counts) == 768:\n",
    "            summed_rgb_vals_768 = np.add(np.array(rgb_counts), summed_rgb_vals_768)\n",
    "            total_768 += 1\n",
    "        elif len(rgb_counts) == 256:\n",
    "            summed_rgb_vals_256 = np.add(np.array(rgb_counts), summed_rgb_vals_256)\n",
    "            total_256 += 1\n",
    "        else:\n",
    "            total_other += 1"
   ]
  },
  {
   "cell_type": "code",
   "execution_count": null,
   "metadata": {},
   "outputs": [],
   "source": [
    "#img.show()"
   ]
  },
  {
   "cell_type": "code",
   "execution_count": null,
   "metadata": {},
   "outputs": [],
   "source": [
    "len(img.histogram())"
   ]
  },
  {
   "cell_type": "code",
   "execution_count": null,
   "metadata": {},
   "outputs": [],
   "source": [
    "total_768"
   ]
  },
  {
   "cell_type": "code",
   "execution_count": null,
   "metadata": {},
   "outputs": [],
   "source": [
    "total_256"
   ]
  },
  {
   "cell_type": "code",
   "execution_count": null,
   "metadata": {},
   "outputs": [],
   "source": [
    "total_other"
   ]
  },
  {
   "cell_type": "code",
   "execution_count": null,
   "metadata": {},
   "outputs": [],
   "source": [
    "pixel_vals = [value for value in range(1,len(img.histogram())+1)]"
   ]
  },
  {
   "cell_type": "code",
   "execution_count": null,
   "metadata": {},
   "outputs": [],
   "source": [
    "plt.bar(pixel_vals, summed_rgb_vals_768)\n",
    "plt.title(\"Distribution of RGB Values (n=768) for Images with Electronics\")\n",
    "plt.ylabel('Count')\n",
    "plt.xlabel('RGB Value')\n",
    "plt.show()"
   ]
  },
  {
   "cell_type": "markdown",
   "metadata": {},
   "source": [
    "- Definitely a pattern in the distribution of RGB values."
   ]
  },
  {
   "cell_type": "code",
   "execution_count": null,
   "metadata": {},
   "outputs": [],
   "source": [
    "plt.bar(pixel_vals, summed_rgb_vals_256)\n",
    "plt.title(\"Distribution of RGB Values (n=256) for Images with Electronics\")\n",
    "plt.ylabel('Count')\n",
    "plt.xlabel('RGB Value')\n",
    "plt.show()"
   ]
  },
  {
   "cell_type": "markdown",
   "metadata": {},
   "source": [
    "# Questions\n",
    "- Is the class imbalance a problem?\n",
    "  - Relatively fewer keyboard and mouse annotations\n",
    "- What does the license mean for us?\n",
    "- How is the distribution of dates?\n",
    "  - is the fact that there are duplicate dates worth investigating?\n",
    "  - are these missing dates?\n",
    "- How is the distribution of color?\n",
    "  - definitely want histograms of all RGB counts by class and for whole dataset\n",
    "  - complicated to do it by class, since some images will have multiple classes\n",
    "- Why do some images have such an abnormal aspect ratio?\n",
    "  - could be worthwhile to check these for distortion or other quality issues.\n",
    "- What is the distribution of bbox sizes and segmentations?\n",
    "- What is the significance of the area?\n",
    "- Is it really the case the not every image has annotations?\n",
    "  - The images whose IDs don't appear in the annotations should be checked to confirm.\n",
    "- Distribution of annotations per image can be investigated\n",
    "  - Includes counts of other objects in images with electronics\n",
    "- There is definitely a pattern in the distribution of RGB values for images with electronics.\n",
    "  - Is there a difference by class?\n",
    "  - Do non-electronics share this pattern?\n",
    "- There are 3 images with a color range of only 256\n",
    "  - Which images are those and is this a problem?\n",
    "  - Would fixing this simply be a matter of multiplying each RGB value by 3?\n",
    "- Data Integrity Checks\n",
    "  - image resolution of actual files vs metadata"
   ]
  }
 ],
 "metadata": {
  "kernelspec": {
   "display_name": "Python 3",
   "language": "python",
   "name": "python3"
  },
  "language_info": {
   "codemirror_mode": {
    "name": "ipython",
    "version": 3
   },
   "file_extension": ".py",
   "mimetype": "text/x-python",
   "name": "python",
   "nbconvert_exporter": "python",
   "pygments_lexer": "ipython3",
   "version": "3.7.1"
  },
  "varInspector": {
   "cols": {
    "lenName": 16,
    "lenType": 16,
    "lenVar": 40
   },
   "kernels_config": {
    "python": {
     "delete_cmd_postfix": "",
     "delete_cmd_prefix": "del ",
     "library": "var_list.py",
     "varRefreshCmd": "print(var_dic_list())"
    },
    "r": {
     "delete_cmd_postfix": ") ",
     "delete_cmd_prefix": "rm(",
     "library": "var_list.r",
     "varRefreshCmd": "cat(var_dic_list()) "
    }
   },
   "types_to_exclude": [
    "module",
    "function",
    "builtin_function_or_method",
    "instance",
    "_Feature"
   ],
   "window_display": true
  }
 },
 "nbformat": 4,
 "nbformat_minor": 2
}
