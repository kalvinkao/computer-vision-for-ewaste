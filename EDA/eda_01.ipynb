{
 "cells": [
  {
   "cell_type": "code",
   "execution_count": 7,
   "metadata": {},
   "outputs": [
    {
     "ename": "ModuleNotFoundError",
     "evalue": "No module named 'cv2'",
     "output_type": "error",
     "traceback": [
      "\u001b[0;31m---------------------------------------------------------------------------\u001b[0m",
      "\u001b[0;31mModuleNotFoundError\u001b[0m                       Traceback (most recent call last)",
      "\u001b[0;32m<ipython-input-7-67731c7e2e89>\u001b[0m in \u001b[0;36m<module>\u001b[0;34m()\u001b[0m\n\u001b[0;32m----> 1\u001b[0;31m \u001b[0;32mimport\u001b[0m \u001b[0mcv2\u001b[0m \u001b[0;32mas\u001b[0m \u001b[0mcv\u001b[0m\u001b[0;34m\u001b[0m\u001b[0m\n\u001b[0m\u001b[1;32m      2\u001b[0m \u001b[0mprint\u001b[0m\u001b[0;34m(\u001b[0m\u001b[0mcv\u001b[0m\u001b[0;34m.\u001b[0m\u001b[0m__version__\u001b[0m\u001b[0;34m)\u001b[0m\u001b[0;34m\u001b[0m\u001b[0m\n",
      "\u001b[0;31mModuleNotFoundError\u001b[0m: No module named 'cv2'"
     ]
    }
   ],
   "source": [
    "#import cv2 as cv\n",
    "#print(cv.__version__)"
   ]
  },
  {
   "cell_type": "code",
   "execution_count": 6,
   "metadata": {},
   "outputs": [
    {
     "name": "stdout",
     "output_type": "stream",
     "text": [
      "\n",
      "Please wait a moment while I gather a list of all available modules...\n",
      "\n"
     ]
    },
    {
     "name": "stderr",
     "output_type": "stream",
     "text": [
      "/home/muthderd/anaconda3/lib/python3.7/site-packages/IPython/kernel/__init__.py:13: ShimWarning: The `IPython.kernel` package has been deprecated since IPython 4.0.You should import from ipykernel or jupyter_client instead.\n",
      "  \"You should import from ipykernel or jupyter_client instead.\", ShimWarning)\n",
      "WARNING: AstropyDeprecationWarning: astropy.utils.compat.futures is now deprecated - use concurrent.futures instead [astropy.utils.compat.futures]\n",
      "/home/muthderd/anaconda3/lib/python3.7/site-packages/odo/backends/pandas.py:102: FutureWarning: pandas.tslib is deprecated and will be removed in a future version.\n",
      "You can access NaTType as type(pandas.NaT)\n",
      "  @convert.register((pd.Timestamp, pd.Timedelta), (pd.tslib.NaTType, type(None)))\n"
     ]
    },
    {
     "name": "stdout",
     "output_type": "stream",
     "text": [
      "DEBUG:matplotlib.backends:backend module://ipykernel.pylab.backend_inline version unknown\n"
     ]
    },
    {
     "name": "stderr",
     "output_type": "stream",
     "text": [
      "/home/muthderd/anaconda3/lib/python3.7/site-packages/nltk/twitter/__init__.py:20: UserWarning: The twython library has not been installed. Some functionality from the twitter package will not be available.\n",
      "  warnings.warn(\"The twython library has not been installed. \"\n"
     ]
    },
    {
     "name": "stdout",
     "output_type": "stream",
     "text": [
      "cc1plus: warning: command line option ‘-Wstrict-prototypes’ is valid for C/ObjC but not for C++\n",
      "DEBUG:pip._internal.vcs:Registered VCS backend: git\n",
      "DEBUG:pip._internal.vcs:Registered VCS backend: hg\n",
      "DEBUG:pip._internal.vcs:Registered VCS backend: svn\n",
      "DEBUG:pip._internal.vcs:Registered VCS backend: bzr\n"
     ]
    },
    {
     "name": "stderr",
     "output_type": "stream",
     "text": [
      "/home/muthderd/anaconda3/lib/python3.7/site-packages/skimage/novice/__init__.py:103: UserWarning: The `skimage.novice` module was deprecated in version 0.14. It will be removed in 0.16.\n",
      "  warnings.warn(\"The `skimage.novice` module was deprecated in version 0.14. \"\n",
      "/home/muthderd/anaconda3/lib/python3.7/site-packages/skimage/viewer/utils/core.py:10: UserWarning: Recommended matplotlib backend is `Agg` for full skimage.viewer functionality.\n",
      "  warn(\"Recommended matplotlib backend is `Agg` for full \"\n",
      "/home/muthderd/anaconda3/lib/python3.7/site-packages/tqdm/autonotebook/__init__.py:14: TqdmExperimentalWarning: Using `tqdm.autonotebook.tqdm` in notebook mode. Use `tqdm.tqdm` instead to force console mode (e.g. in jupyter console)\n",
      "  \" (e.g. in jupyter console)\", TqdmExperimentalWarning)\n"
     ]
    },
    {
     "name": "stdout",
     "output_type": "stream",
     "text": [
      "Crypto              brain_nose          jedi                resource\n",
      "Cython              brain_numpy         jeepney             rlcompleter\n",
      "IPython             brain_pkg_resources jinja2              rmagic\n",
      "OpenSSL             brain_pytest        json                rope\n",
      "PIL                 brain_qt            jsonschema          rsa\n",
      "PyQt5               brain_random        jupyter             ruamel_yaml\n",
      "__future__          brain_re            jupyter_client      runpy\n",
      "_abc                brain_six           jupyter_console     sched\n",
      "_ast                brain_ssl           jupyter_core        scipy\n",
      "_asyncio            brain_subprocess    jupyterlab          scripts\n",
      "_bisect             brain_threading     jupyterlab_launcher seaborn\n",
      "_blake2             brain_typing        keyring             secrets\n",
      "_bootlocale         brain_uuid          keyword             secretstorage\n",
      "_bz2                bs4                 kiwisolver          select\n",
      "_cffi_backend       builtins            lazy_object_proxy   selectors\n",
      "_codecs             bz2                 lib2to3             send2trash\n",
      "_codecs_cn          cProfile            libfuturize         service_identity\n",
      "_codecs_hk          cachetools          libpasteurize       setuptools\n",
      "_codecs_iso2022     calendar            linecache           shelve\n",
      "_codecs_jp          certifi             llvmlite            shlex\n",
      "_codecs_kr          cffi                locale              shutil\n",
      "_codecs_tw          cgi                 locket              signal\n",
      "_collections        cgitb               logging             simplegeneric\n",
      "_collections_abc    chardet             lxml                singledispatch\n",
      "_compat_pickle      chunk               lzma                singledispatch_helpers\n",
      "_compression        click               macpath             sip\n",
      "_contextvars        cloudpickle         mailbox             sipconfig\n",
      "_crypt              clyent              mailcap             sipdistutils\n",
      "_csv                cmath               markupsafe          site\n",
      "_ctypes             cmd                 marshal             six\n",
      "_ctypes_test        code                math                skimage\n",
      "_curses             codecs              matplotlib          sklearn\n",
      "_curses_panel       codeop              mccabe              smtpd\n",
      "_datetime           collections         mimetypes           smtplib\n",
      "_decimal            colorama            mistune             sndhdr\n",
      "_dummy_thread       colorsys            mkl                 snowballstemmer\n",
      "_elementtree        compileall          mkl_fft             socket\n",
      "_functools          concurrent          mkl_random          socketserver\n",
      "_hashlib            conda               mmap                socks\n",
      "_heapq              conda_build         modulefinder        sockshandler\n",
      "_imp                conda_env           more_itertools      sortedcollections\n",
      "_io                 configparser        mpmath              sortedcontainers\n",
      "_json               constantly          msgpack             sphinx\n",
      "_locale             contextlib          multipledispatch    sphinxcontrib\n",
      "_lsprof             contextlib2         multiprocessing     spwd\n",
      "_lzma               contextvars         mxnet               spyder\n",
      "_markupbase         copy                navigator_updater   spyder_breakpoints\n",
      "_md5                copyreg             nbconvert           spyder_io_dcm\n",
      "_multibytecodec     crypt               nbformat            spyder_io_hdf5\n",
      "_multiprocessing    cryptography        netrc               spyder_kernels\n",
      "_opcode             csv                 networkx            spyder_profiler\n",
      "_operator           ctypes              nis                 spyder_pylint\n",
      "_osx_support        curl                nltk                sqlalchemy\n",
      "_pickle             curses              nntplib             sqlite3\n",
      "_posixsubprocess    cycler              nose                sre_compile\n",
      "_py_abc             cython              notebook            sre_constants\n",
      "_pydecimal          cythonmagic         ntpath              sre_parse\n",
      "_pyio               cytoolz             nturl2path          ssl\n",
      "_pytest             dask                numba               stat\n",
      "_queue              dataclasses         numbers             statistics\n",
      "_random             datashape           numexpr             statsmodels\n",
      "_sha1               datetime            numpy               storemagic\n",
      "_sha256             dateutil            numpydoc            string\n",
      "_sha3               dbm                 oauth2client        stringprep\n",
      "_sha512             decimal             odo                 struct\n",
      "_signal             decorator           olefile             subprocess\n",
      "_sitebuiltins       defusedxml          opcode              sunau\n",
      "_socket             difflib             openpyxl            symbol\n",
      "_sqlite3            dill                operator            sympy\n",
      "_sre                dis                 optparse            sympyprinting\n",
      "_ssl                distributed         os                  symtable\n",
      "_stat               distutils           ossaudiodev         sys\n",
      "_string             dmlc_tracker        packaging           sysconfig\n",
      "_strptime           doctest             pandas              syslog\n",
      "_struct             docutils            pandocfilters       tables\n",
      "_symtable           dummy_threading     parser              tabnanny\n",
      "_sysconfigdata_i686_conda_cos6_linux_gnu easy_install        parso               tarfile\n",
      "_sysconfigdata_m_linux_x86_64-linux-gnu email               partd               tblib\n",
      "_sysconfigdata_powerpc64le_conda_cos7_linux_gnu encodings           past                telnetlib\n",
      "_sysconfigdata_x86_64_apple_darwin13_4_0 ensurepip           path                tempfile\n",
      "_sysconfigdata_x86_64_conda_cos6_linux_gnu entrypoints         pathlib             terminado\n",
      "_testbuffer         enum                pathlib2            termios\n",
      "_testcapi           errno               patsy               test\n",
      "_testimportmultiple et_xmlfile          pdb                 test_path\n",
      "_testmultiphase     fastcache           pep8                test_pycosat\n",
      "_thread             faulthandler        pexpect             testpath\n",
      "_threading_local    fcntl               pickle              tests\n",
      "_tkinter            filecmp             pickleshare         textwrap\n",
      "_tracemalloc        fileinput           pickletools         this\n",
      "_warnings           filelock            pip                 threading\n",
      "_weakref            flask               pipes               time\n",
      "_weakrefset         flask_cors          pkg_resources       timeit\n",
      "_xxtestfuzz         fnmatch             pkginfo             tkinter\n",
      "_yaml               formatter           pkgutil             tlz\n",
      "abc                 fractions           platform            token\n",
      "aifc                ftplib              plistlib            tokenize\n",
      "alabaster           functools           pluggy              toolz\n",
      "anaconda_navigator  future              ply                 tornado\n",
      "anaconda_project    gc                  poplib              tqdm\n",
      "antigravity         genericpath         posix               trace\n",
      "apiclient           getopt              posixpath           traceback\n",
      "appdirs             getpass             pprint              tracemalloc\n",
      "argparse            gettext             profile             traitlets\n",
      "array               gevent              prometheus_client   tty\n",
      "asn1crypto          glob                prompt_toolkit      turtle\n",
      "ast                 glob2               pstats              turtledemo\n",
      "astroid             gluoncv             psutil              twisted\n",
      "astropy             gmpy2               pty                 types\n",
      "asynchat            google_auth_httplib2 ptyprocess          typing\n",
      "asyncio             googleapiclient     pwd                 unicodecsv\n",
      "asyncore            graphviz            py                  unicodedata\n",
      "atexit              greenlet            py_compile          unittest\n",
      "atomicwrites        grp                 pyasn1              uritemplate\n",
      "attr                grpc                pyasn1_modules      urllib\n",
      "audioop             gzip                pyclbr              urllib3\n",
      "automat             h5py                pycodestyle         uu\n",
      "autoreload          hashlib             pycosat             uuid\n",
      "babel               heapdict            pycparser           venv\n",
      "backcall            heapq               pycurl              warnings\n",
      "backports           hmac                pydoc               wave\n",
      "base64              html                pydoc_data          wcwidth\n",
      "bdb                 html5lib            pyexpat             weakref\n",
      "binascii            http                pyflakes            webbrowser\n",
      "binhex              httplib2            pygments            webencodings\n",
      "binstar_client      hyperlink           pylab               werkzeug\n",
      "bisect              idlelib             pylint              wheel\n",
      "bitarray            idna                pyodbc              widgetsnbextension\n",
      "bkcharts            imageio             pyparsing           wrapt\n",
      "blaze               imagesize           pytest              wsgiref\n",
      "bleach              imaplib             pytest_arraydiff    xdrlib\n",
      "bokeh               imghdr              pytest_doctestplus  xlrd\n",
      "boto                imp                 pytest_openfiles    xlsxwriter\n",
      "bottleneck          importlib           pytest_remotedata   xlwt\n",
      "brain_attrs         incremental         pytz                xml\n",
      "brain_builtin_inference inspect             pywt                xmlrpc\n",
      "brain_collections   io                  pyximport           xxlimited\n",
      "brain_curses        ipaddress           qtawesome           xxsubtype\n",
      "brain_dateutil      ipykernel           qtconsole           yaml\n",
      "brain_fstrings      ipykernel_launcher  qtpy                zict\n",
      "brain_functools     ipython_genutils    queue               zipapp\n",
      "brain_gi            ipywidgets          quopri              zipfile\n",
      "brain_hashlib       isort               random              zipimport\n",
      "brain_io            isympy              re                  zlib\n",
      "brain_mechanize     itertools           readline            zmq\n",
      "brain_multiprocessing itsdangerous        reprlib             zope\n",
      "brain_namedtuple_enum jdcal               requests            \n",
      "\n",
      "Enter any module name to get more help.  Or, type \"modules spam\" to search\n",
      "for modules whose name or summary contain the string \"spam\".\n",
      "\n",
      "DEBUG:matplotlib.backends:backend module://ipykernel.pylab.backend_inline version unknown\n"
     ]
    },
    {
     "name": "stderr",
     "output_type": "stream",
     "text": [
      "/home/muthderd/anaconda3/lib/python3.7/pkgutil.py:107: VisibleDeprecationWarning: zmq.eventloop.minitornado is deprecated in pyzmq 14.0 and will be removed.\n",
      "    Install tornado itself to use zmq with the tornado IOLoop.\n",
      "    \n",
      "  yield from walk_packages(path, info.name+'.', onerror)\n"
     ]
    }
   ],
   "source": [
    "#help(\"modules\")"
   ]
  },
  {
   "cell_type": "code",
   "execution_count": 8,
   "metadata": {},
   "outputs": [],
   "source": [
    "from PIL import Image\n",
    "import matplotlib.pyplot as plt"
   ]
  },
  {
   "cell_type": "code",
   "execution_count": 9,
   "metadata": {},
   "outputs": [],
   "source": [
    "path = \"/home/muthderd/MIDS/W210/data/train2017/000000000030.jpg\"\n",
    "try:\n",
    "    img = Image.open(path)  \n",
    "except IOError:\n",
    "    pass"
   ]
  },
  {
   "cell_type": "code",
   "execution_count": 28,
   "metadata": {},
   "outputs": [],
   "source": [
    "img.show()"
   ]
  },
  {
   "cell_type": "code",
   "execution_count": 15,
   "metadata": {},
   "outputs": [
    {
     "name": "stdout",
     "output_type": "stream",
     "text": [
      "640 428\n"
     ]
    }
   ],
   "source": [
    "width, height = img.size\n",
    "print(width, height)"
   ]
  },
  {
   "cell_type": "code",
   "execution_count": 20,
   "metadata": {},
   "outputs": [
    {
     "data": {
      "text/plain": [
       "768"
      ]
     },
     "execution_count": 20,
     "metadata": {},
     "output_type": "execute_result"
    }
   ],
   "source": [
    "len(img.histogram())"
   ]
  },
  {
   "cell_type": "code",
   "execution_count": 26,
   "metadata": {},
   "outputs": [],
   "source": [
    "pixel_vals = [value for value in range(1,len(img.histogram())+1)]"
   ]
  },
  {
   "cell_type": "code",
   "execution_count": 27,
   "metadata": {},
   "outputs": [
    {
     "name": "stdout",
     "output_type": "stream",
     "text": [
      "DEBUG:matplotlib.font_manager:findfont: Matching :family=sans-serif:style=normal:variant=normal:weight=normal:stretch=normal:size=10.0 to DejaVu Sans ('/home/muthderd/anaconda3/lib/python3.7/site-packages/matplotlib/mpl-data/fonts/ttf/DejaVuSans.ttf') with score of 0.050000\n"
     ]
    },
    {
     "data": {
      "image/png": "[encoded data removed]",
      "text/plain": [
       "<Figure size 432x288 with 1 Axes>"
      ]
     },
     "metadata": {
      "needs_background": "light"
     },
     "output_type": "display_data"
    }
   ],
   "source": [
    "\n",
    "plt.bar(pixel_vals, img.histogram())\n",
    "plt.ylabel('Count')\n",
    "plt.xlabel('Pixel Value')\n",
    "plt.show()"
   ]
  },
  {
   "cell_type": "code",
   "execution_count": 18,
   "metadata": {},
   "outputs": [
    {
     "data": {
      "text/plain": [
       "768"
      ]
     },
     "execution_count": 18,
     "metadata": {},
     "output_type": "execute_result"
    }
   ],
   "source": [
    "len(img.histogram())"
   ]
  },
  {
   "cell_type": "code",
   "execution_count": 10,
   "metadata": {},
   "outputs": [
    {
     "data": {
      "text/plain": [
       "['ADAPTIVE',\n",
       " 'AFFINE',\n",
       " 'ANTIALIAS',\n",
       " 'BICUBIC',\n",
       " 'BILINEAR',\n",
       " 'BOX',\n",
       " 'CONTAINER',\n",
       " 'CUBIC',\n",
       " 'Callable',\n",
       " 'DECODERS',\n",
       " 'DEFAULT_STRATEGY',\n",
       " 'DecompressionBombError',\n",
       " 'DecompressionBombWarning',\n",
       " 'ENCODERS',\n",
       " 'EXTENSION',\n",
       " 'EXTENT',\n",
       " 'FASTOCTREE',\n",
       " 'FILTERED',\n",
       " 'FIXED',\n",
       " 'FLIP_LEFT_RIGHT',\n",
       " 'FLIP_TOP_BOTTOM',\n",
       " 'FLOYDSTEINBERG',\n",
       " 'HAMMING',\n",
       " 'HAS_CFFI',\n",
       " 'HAS_PATHLIB',\n",
       " 'HUFFMAN_ONLY',\n",
       " 'ID',\n",
       " 'Image',\n",
       " 'ImageMode',\n",
       " 'ImagePointHandler',\n",
       " 'ImageTransformHandler',\n",
       " 'LANCZOS',\n",
       " 'LIBIMAGEQUANT',\n",
       " 'LINEAR',\n",
       " 'MAXCOVERAGE',\n",
       " 'MAX_IMAGE_PIXELS',\n",
       " 'MEDIANCUT',\n",
       " 'MESH',\n",
       " 'MIME',\n",
       " 'MODES',\n",
       " 'NEAREST',\n",
       " 'NONE',\n",
       " 'NORMAL',\n",
       " 'OPEN',\n",
       " 'ORDERED',\n",
       " 'PERSPECTIVE',\n",
       " 'PILLOW_VERSION',\n",
       " 'Path',\n",
       " 'QUAD',\n",
       " 'RASTERIZE',\n",
       " 'RLE',\n",
       " 'ROTATE_180',\n",
       " 'ROTATE_270',\n",
       " 'ROTATE_90',\n",
       " 'SAVE',\n",
       " 'SAVE_ALL',\n",
       " 'SEQUENCE',\n",
       " 'TRANSPOSE',\n",
       " 'TRANSVERSE',\n",
       " 'USE_CFFI_ACCESS',\n",
       " 'VERSION',\n",
       " 'WEB',\n",
       " '_E',\n",
       " '_ENDIAN',\n",
       " '_MAPMODES',\n",
       " '_MODEINFO',\n",
       " '_MODE_CONV',\n",
       " '__builtins__',\n",
       " '__cached__',\n",
       " '__doc__',\n",
       " '__file__',\n",
       " '__loader__',\n",
       " '__name__',\n",
       " '__package__',\n",
       " '__spec__',\n",
       " '__version__',\n",
       " '_apply_env_variables',\n",
       " '_check_size',\n",
       " '_conv_type_shape',\n",
       " '_decompression_bomb_check',\n",
       " '_fromarray_typemap',\n",
       " '_getdecoder',\n",
       " '_getencoder',\n",
       " '_getscaleoffset',\n",
       " '_imaging_not_installed',\n",
       " '_initialized',\n",
       " '_plugins',\n",
       " '_show',\n",
       " '_showxv',\n",
       " '_wedge',\n",
       " 'alpha_composite',\n",
       " 'atexit',\n",
       " 'blend',\n",
       " 'builtins',\n",
       " 'cffi',\n",
       " 'coerce_e',\n",
       " 'composite',\n",
       " 'core',\n",
       " 'deferred_error',\n",
       " 'effect_mandelbrot',\n",
       " 'effect_noise',\n",
       " 'eval',\n",
       " 'fromarray',\n",
       " 'frombuffer',\n",
       " 'frombytes',\n",
       " 'fromqimage',\n",
       " 'fromqpixmap',\n",
       " 'fromstring',\n",
       " 'getmodebandnames',\n",
       " 'getmodebands',\n",
       " 'getmodebase',\n",
       " 'getmodetype',\n",
       " 'i8',\n",
       " 'init',\n",
       " 'io',\n",
       " 'isImageType',\n",
       " 'isPath',\n",
       " 'isStringType',\n",
       " 'linear_gradient',\n",
       " 'logger',\n",
       " 'logging',\n",
       " 'math',\n",
       " 'merge',\n",
       " 'new',\n",
       " 'numbers',\n",
       " 'open',\n",
       " 'os',\n",
       " 'preinit',\n",
       " 'py3',\n",
       " 'radial_gradient',\n",
       " 'register_decoder',\n",
       " 'register_encoder',\n",
       " 'register_extension',\n",
       " 'register_extensions',\n",
       " 'register_mime',\n",
       " 'register_open',\n",
       " 'register_save',\n",
       " 'register_save_all',\n",
       " 'registered_extensions',\n",
       " 'struct',\n",
       " 'sys',\n",
       " 'warnings']"
      ]
     },
     "execution_count": 10,
     "metadata": {},
     "output_type": "execute_result"
    }
   ],
   "source": [
    "dir(Image)"
   ]
  }
 ],
 "metadata": {
  "kernelspec": {
   "display_name": "Python 3",
   "language": "python",
   "name": "python3"
  },
  "language_info": {
   "codemirror_mode": {
    "name": "ipython",
    "version": 3
   },
   "file_extension": ".py",
   "mimetype": "text/x-python",
   "name": "python",
   "nbconvert_exporter": "python",
   "pygments_lexer": "ipython3",
   "version": "3.7.1"
  }
 },
 "nbformat": 4,
 "nbformat_minor": 2
}
