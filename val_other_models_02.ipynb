{
 "cells": [
  {
   "cell_type": "code",
   "execution_count": 109,
   "metadata": {
    "ExecuteTime": {
     "end_time": "2019-02-10T15:01:33.484381Z",
     "start_time": "2019-02-10T15:01:33.481061Z"
    }
   },
   "outputs": [],
   "source": [
    "import json\n",
    "import numpy\n",
    "from collections import defaultdict\n",
    "from PIL import Image\n",
    "import matplotlib.pyplot as plt\n",
    "import pandas as pd\n",
    "import numpy as np\n",
    "import os\n",
    "import time"
   ]
  },
  {
   "cell_type": "code",
   "execution_count": 110,
   "metadata": {},
   "outputs": [],
   "source": [
    "import os\n",
    "import baseline\n",
    "import pandas as pd\n",
    "import numpy as np\n",
    "#TEMPORARILY SUPPRESS WARNINGS\n",
    "import warnings\n",
    "\n",
    "warnings.filterwarnings(\"ignore\")"
   ]
  },
  {
   "cell_type": "markdown",
   "metadata": {},
   "source": [
    "# get the actual labels in the validation set"
   ]
  },
  {
   "cell_type": "code",
   "execution_count": 3,
   "metadata": {
    "ExecuteTime": {
     "end_time": "2019-02-10T15:02:49.241219Z",
     "start_time": "2019-02-10T15:02:47.586565Z"
    }
   },
   "outputs": [],
   "source": [
    "captions_train_path = \"/mnt/muthderd/MIDS/W210/data/annotations_trainval2017/annotations/captions_train2017.json\"\n",
    "captions_val_path = \"/mnt/muthderd/MIDS/W210/data/annotations_trainval2017/annotations/captions_val2017.json\"\n",
    "#captions_train  = json.loads(open(captions_train_path).read())"
   ]
  },
  {
   "cell_type": "code",
   "execution_count": 4,
   "metadata": {
    "ExecuteTime": {
     "end_time": "2019-02-10T15:30:21.837928Z",
     "start_time": "2019-02-10T15:29:52.465683Z"
    }
   },
   "outputs": [],
   "source": [
    "inst_train_path = \"/mnt/muthderd/MIDS/W210/data/annotations_trainval2017/annotations/instances_train2017.json\"\n",
    "inst_val_path = \"/mnt/muthderd/MIDS/W210/data/annotations_trainval2017/annotations/instances_val2017.json\"\n",
    "#inst_train  = json.loads(open(inst_train_path).read())"
   ]
  },
  {
   "cell_type": "code",
   "execution_count": 5,
   "metadata": {},
   "outputs": [],
   "source": [
    "def get_electronics_info(captions_path, inst_path):\n",
    "    captions  = json.loads(open(captions_path).read())\n",
    "    inst  = json.loads(open(inst_path).read())\n",
    "    image_df = pd.DataFrame(inst['images'])\n",
    "    annotation_df = pd.DataFrame(inst['annotations'])\n",
    "    #the 'id' in image_df needs to be changed to 'image_id' in order to join with annotations_df\n",
    "    renamed_image_df = image_df.copy(deep=True)\n",
    "    renamed_image_df.rename(columns={'id':'image_id'}, inplace=True)\n",
    "    images_and_annotations_df = annotation_df.merge(renamed_image_df,on='image_id', how='left')\n",
    "    electronics_only_merged_df = images_and_annotations_df.loc[(images_and_annotations_df['category_id'] >= 72) & (images_and_annotations_df['category_id'] <= 77)]\n",
    "    \n",
    "    #select all images that contain electronics\n",
    "    #all_images_with_electronics = list(pd.Series(electronics_only_merged_df['image_id']).unique())\n",
    "    \n",
    "    return(electronics_only_merged_df)"
   ]
  },
  {
   "cell_type": "code",
   "execution_count": 6,
   "metadata": {},
   "outputs": [],
   "source": [
    "train_electronics = get_electronics_info(captions_train_path, inst_train_path)\n",
    "val_electronics = get_electronics_info(captions_val_path, inst_val_path)"
   ]
  },
  {
   "cell_type": "code",
   "execution_count": 7,
   "metadata": {},
   "outputs": [],
   "source": [
    "#train_electronics.head()"
   ]
  },
  {
   "cell_type": "code",
   "execution_count": 99,
   "metadata": {
    "scrolled": true
   },
   "outputs": [
    {
     "data": {
      "text/html": [
       "<div>\n",
       "<style scoped>\n",
       "    .dataframe tbody tr th:only-of-type {\n",
       "        vertical-align: middle;\n",
       "    }\n",
       "\n",
       "    .dataframe tbody tr th {\n",
       "        vertical-align: top;\n",
       "    }\n",
       "\n",
       "    .dataframe thead th {\n",
       "        text-align: right;\n",
       "    }\n",
       "</style>\n",
       "<table border=\"1\" class=\"dataframe\">\n",
       "  <thead>\n",
       "    <tr style=\"text-align: right;\">\n",
       "      <th></th>\n",
       "      <th>area</th>\n",
       "      <th>bbox</th>\n",
       "      <th>category_id</th>\n",
       "      <th>id</th>\n",
       "      <th>image_id</th>\n",
       "      <th>iscrowd</th>\n",
       "      <th>segmentation</th>\n",
       "      <th>coco_url</th>\n",
       "      <th>date_captured</th>\n",
       "      <th>file_name</th>\n",
       "      <th>flickr_url</th>\n",
       "      <th>height</th>\n",
       "      <th>license</th>\n",
       "      <th>width</th>\n",
       "    </tr>\n",
       "  </thead>\n",
       "  <tbody>\n",
       "    <tr>\n",
       "      <th>48</th>\n",
       "      <td>31935.48505</td>\n",
       "      <td>[279.11, 209.81, 206.02, 160.44]</td>\n",
       "      <td>72</td>\n",
       "      <td>29131</td>\n",
       "      <td>464476</td>\n",
       "      <td>0</td>\n",
       "      <td>[[279.11, 370.25, 281.96, 214.56, 283.86, 209....</td>\n",
       "      <td>http://images.cocodataset.org/val2017/00000046...</td>\n",
       "      <td>2013-11-14 18:23:40</td>\n",
       "      <td>000000464476.jpg</td>\n",
       "      <td>http://farm1.staticflickr.com/24/35275654_7d93...</td>\n",
       "      <td>375</td>\n",
       "      <td>3</td>\n",
       "      <td>500</td>\n",
       "    </tr>\n",
       "    <tr>\n",
       "      <th>49</th>\n",
       "      <td>2293.67560</td>\n",
       "      <td>[97.28, 202.37, 60.28, 39.91]</td>\n",
       "      <td>72</td>\n",
       "      <td>29249</td>\n",
       "      <td>68833</td>\n",
       "      <td>0</td>\n",
       "      <td>[[100.23, 203.21, 133.68, 202.93, 155.88, 202....</td>\n",
       "      <td>http://images.cocodataset.org/val2017/00000006...</td>\n",
       "      <td>2013-11-14 16:32:09</td>\n",
       "      <td>000000068833.jpg</td>\n",
       "      <td>http://farm8.staticflickr.com/7152/6427642465_...</td>\n",
       "      <td>480</td>\n",
       "      <td>1</td>\n",
       "      <td>640</td>\n",
       "    </tr>\n",
       "    <tr>\n",
       "      <th>50</th>\n",
       "      <td>265862.40795</td>\n",
       "      <td>[1.08, 1.72, 574.7, 471.39]</td>\n",
       "      <td>72</td>\n",
       "      <td>29555</td>\n",
       "      <td>433915</td>\n",
       "      <td>0</td>\n",
       "      <td>[[388.52, 2.8, 567.17, 15.71, 574.71, 234.19, ...</td>\n",
       "      <td>http://images.cocodataset.org/val2017/00000043...</td>\n",
       "      <td>2013-11-14 19:04:41</td>\n",
       "      <td>000000433915.jpg</td>\n",
       "      <td>http://farm4.staticflickr.com/3519/3243850638_...</td>\n",
       "      <td>480</td>\n",
       "      <td>3</td>\n",
       "      <td>640</td>\n",
       "    </tr>\n",
       "    <tr>\n",
       "      <th>51</th>\n",
       "      <td>61254.97715</td>\n",
       "      <td>[3.88, 0.0, 287.98, 251.13]</td>\n",
       "      <td>72</td>\n",
       "      <td>29829</td>\n",
       "      <td>149222</td>\n",
       "      <td>0</td>\n",
       "      <td>[[4.46, 19.19, 12.67, 95.55, 16.77, 133.31, 33...</td>\n",
       "      <td>http://images.cocodataset.org/val2017/00000014...</td>\n",
       "      <td>2013-11-15 15:11:24</td>\n",
       "      <td>000000149222.jpg</td>\n",
       "      <td>http://farm1.staticflickr.com/23/33195394_22d6...</td>\n",
       "      <td>383</td>\n",
       "      <td>2</td>\n",
       "      <td>500</td>\n",
       "    </tr>\n",
       "    <tr>\n",
       "      <th>52</th>\n",
       "      <td>16606.20565</td>\n",
       "      <td>[145.26, 214.29, 165.39, 107.87]</td>\n",
       "      <td>72</td>\n",
       "      <td>30246</td>\n",
       "      <td>17379</td>\n",
       "      <td>0</td>\n",
       "      <td>[[284.76, 320.72, 267.51, 322.16, 247.37, 322....</td>\n",
       "      <td>http://images.cocodataset.org/val2017/00000001...</td>\n",
       "      <td>2013-11-15 01:16:56</td>\n",
       "      <td>000000017379.jpg</td>\n",
       "      <td>http://farm6.staticflickr.com/5123/5316824279_...</td>\n",
       "      <td>640</td>\n",
       "      <td>1</td>\n",
       "      <td>478</td>\n",
       "    </tr>\n",
       "  </tbody>\n",
       "</table>\n",
       "</div>"
      ],
      "text/plain": [
       "            area                              bbox  category_id     id  \\\n",
       "48   31935.48505  [279.11, 209.81, 206.02, 160.44]           72  29131   \n",
       "49    2293.67560     [97.28, 202.37, 60.28, 39.91]           72  29249   \n",
       "50  265862.40795       [1.08, 1.72, 574.7, 471.39]           72  29555   \n",
       "51   61254.97715       [3.88, 0.0, 287.98, 251.13]           72  29829   \n",
       "52   16606.20565  [145.26, 214.29, 165.39, 107.87]           72  30246   \n",
       "\n",
       "    image_id  iscrowd                                       segmentation  \\\n",
       "48    464476        0  [[279.11, 370.25, 281.96, 214.56, 283.86, 209....   \n",
       "49     68833        0  [[100.23, 203.21, 133.68, 202.93, 155.88, 202....   \n",
       "50    433915        0  [[388.52, 2.8, 567.17, 15.71, 574.71, 234.19, ...   \n",
       "51    149222        0  [[4.46, 19.19, 12.67, 95.55, 16.77, 133.31, 33...   \n",
       "52     17379        0  [[284.76, 320.72, 267.51, 322.16, 247.37, 322....   \n",
       "\n",
       "                                             coco_url        date_captured  \\\n",
       "48  http://images.cocodataset.org/val2017/00000046...  2013-11-14 18:23:40   \n",
       "49  http://images.cocodataset.org/val2017/00000006...  2013-11-14 16:32:09   \n",
       "50  http://images.cocodataset.org/val2017/00000043...  2013-11-14 19:04:41   \n",
       "51  http://images.cocodataset.org/val2017/00000014...  2013-11-15 15:11:24   \n",
       "52  http://images.cocodataset.org/val2017/00000001...  2013-11-15 01:16:56   \n",
       "\n",
       "           file_name                                         flickr_url  \\\n",
       "48  000000464476.jpg  http://farm1.staticflickr.com/24/35275654_7d93...   \n",
       "49  000000068833.jpg  http://farm8.staticflickr.com/7152/6427642465_...   \n",
       "50  000000433915.jpg  http://farm4.staticflickr.com/3519/3243850638_...   \n",
       "51  000000149222.jpg  http://farm1.staticflickr.com/23/33195394_22d6...   \n",
       "52  000000017379.jpg  http://farm6.staticflickr.com/5123/5316824279_...   \n",
       "\n",
       "    height  license  width  \n",
       "48     375        3    500  \n",
       "49     480        1    640  \n",
       "50     480        3    640  \n",
       "51     383        2    500  \n",
       "52     640        1    478  "
      ]
     },
     "execution_count": 99,
     "metadata": {},
     "output_type": "execute_result"
    }
   ],
   "source": [
    "#val_electronics.head()"
   ]
  },
  {
   "cell_type": "code",
   "execution_count": 101,
   "metadata": {},
   "outputs": [
    {
     "data": {
      "text/html": [
       "<div>\n",
       "<style scoped>\n",
       "    .dataframe tbody tr th:only-of-type {\n",
       "        vertical-align: middle;\n",
       "    }\n",
       "\n",
       "    .dataframe tbody tr th {\n",
       "        vertical-align: top;\n",
       "    }\n",
       "\n",
       "    .dataframe thead th {\n",
       "        text-align: right;\n",
       "    }\n",
       "</style>\n",
       "<table border=\"1\" class=\"dataframe\">\n",
       "  <thead>\n",
       "    <tr style=\"text-align: right;\">\n",
       "      <th></th>\n",
       "      <th>area</th>\n",
       "      <th>bbox</th>\n",
       "      <th>category_id</th>\n",
       "      <th>id</th>\n",
       "      <th>image_id</th>\n",
       "      <th>iscrowd</th>\n",
       "      <th>segmentation</th>\n",
       "      <th>coco_url</th>\n",
       "      <th>date_captured</th>\n",
       "      <th>file_name</th>\n",
       "      <th>flickr_url</th>\n",
       "      <th>height</th>\n",
       "      <th>license</th>\n",
       "      <th>width</th>\n",
       "    </tr>\n",
       "  </thead>\n",
       "  <tbody>\n",
       "    <tr>\n",
       "      <th>48</th>\n",
       "      <td>31935.48505</td>\n",
       "      <td>[279.11, 209.81, 206.02, 160.44]</td>\n",
       "      <td>72</td>\n",
       "      <td>29131</td>\n",
       "      <td>464476</td>\n",
       "      <td>0</td>\n",
       "      <td>[[279.11, 370.25, 281.96, 214.56, 283.86, 209....</td>\n",
       "      <td>http://images.cocodataset.org/val2017/00000046...</td>\n",
       "      <td>2013-11-14 18:23:40</td>\n",
       "      <td>000000464476.jpg</td>\n",
       "      <td>http://farm1.staticflickr.com/24/35275654_7d93...</td>\n",
       "      <td>375</td>\n",
       "      <td>3</td>\n",
       "      <td>500</td>\n",
       "    </tr>\n",
       "    <tr>\n",
       "      <th>2863</th>\n",
       "      <td>22237.67500</td>\n",
       "      <td>[281.13, 40.81, 165.48, 166.35]</td>\n",
       "      <td>72</td>\n",
       "      <td>1624484</td>\n",
       "      <td>464476</td>\n",
       "      <td>0</td>\n",
       "      <td>[[283.29, 44.28, 288.06, 40.81, 441.84, 41.68,...</td>\n",
       "      <td>http://images.cocodataset.org/val2017/00000046...</td>\n",
       "      <td>2013-11-14 18:23:40</td>\n",
       "      <td>000000464476.jpg</td>\n",
       "      <td>http://farm1.staticflickr.com/24/35275654_7d93...</td>\n",
       "      <td>375</td>\n",
       "      <td>3</td>\n",
       "      <td>500</td>\n",
       "    </tr>\n",
       "  </tbody>\n",
       "</table>\n",
       "</div>"
      ],
      "text/plain": [
       "             area                              bbox  category_id       id  \\\n",
       "48    31935.48505  [279.11, 209.81, 206.02, 160.44]           72    29131   \n",
       "2863  22237.67500   [281.13, 40.81, 165.48, 166.35]           72  1624484   \n",
       "\n",
       "      image_id  iscrowd                                       segmentation  \\\n",
       "48      464476        0  [[279.11, 370.25, 281.96, 214.56, 283.86, 209....   \n",
       "2863    464476        0  [[283.29, 44.28, 288.06, 40.81, 441.84, 41.68,...   \n",
       "\n",
       "                                               coco_url        date_captured  \\\n",
       "48    http://images.cocodataset.org/val2017/00000046...  2013-11-14 18:23:40   \n",
       "2863  http://images.cocodataset.org/val2017/00000046...  2013-11-14 18:23:40   \n",
       "\n",
       "             file_name                                         flickr_url  \\\n",
       "48    000000464476.jpg  http://farm1.staticflickr.com/24/35275654_7d93...   \n",
       "2863  000000464476.jpg  http://farm1.staticflickr.com/24/35275654_7d93...   \n",
       "\n",
       "      height  license  width  \n",
       "48       375        3    500  \n",
       "2863     375        3    500  "
      ]
     },
     "execution_count": 101,
     "metadata": {},
     "output_type": "execute_result"
    }
   ],
   "source": [
    "#val_electronics[val_electronics['image_id']==464476]"
   ]
  },
  {
   "cell_type": "code",
   "execution_count": 126,
   "metadata": {},
   "outputs": [
    {
     "data": {
      "text/plain": [
       "2"
      ]
     },
     "execution_count": 126,
     "metadata": {},
     "output_type": "execute_result"
    }
   ],
   "source": [
    "len(val_electronics[val_electronics['image_id']==464476]['bbox'])"
   ]
  },
  {
   "cell_type": "code",
   "execution_count": 125,
   "metadata": {},
   "outputs": [
    {
     "data": {
      "text/plain": [
       "array([[[279.11, 209.81, 206.02, 160.44],\n",
       "        [281.13,  40.81, 165.48, 166.35]]])"
      ]
     },
     "execution_count": 125,
     "metadata": {},
     "output_type": "execute_result"
    }
   ],
   "source": [
    "np.array([[coord for coord in entry] for entry in val_electronics[val_electronics['image_id']==464476]['bbox']]).reshape(1,2,4)"
   ]
  },
  {
   "cell_type": "code",
   "execution_count": 117,
   "metadata": {},
   "outputs": [
    {
     "ename": "ValueError",
     "evalue": "cannot reshape array of size 2 into shape (1,2,4)",
     "output_type": "error",
     "traceback": [
      "\u001b[0;31m---------------------------------------------------------------------------\u001b[0m",
      "\u001b[0;31mValueError\u001b[0m                                Traceback (most recent call last)",
      "\u001b[0;32m<ipython-input-117-583d4d357f66>\u001b[0m in \u001b[0;36m<module>\u001b[0;34m\u001b[0m\n\u001b[0;32m----> 1\u001b[0;31m \u001b[0mnp\u001b[0m\u001b[0;34m.\u001b[0m\u001b[0marray\u001b[0m\u001b[0;34m(\u001b[0m\u001b[0mval_electronics\u001b[0m\u001b[0;34m[\u001b[0m\u001b[0mval_electronics\u001b[0m\u001b[0;34m[\u001b[0m\u001b[0;34m'image_id'\u001b[0m\u001b[0;34m]\u001b[0m\u001b[0;34m==\u001b[0m\u001b[0;36m464476\u001b[0m\u001b[0;34m]\u001b[0m\u001b[0;34m[\u001b[0m\u001b[0;34m'bbox'\u001b[0m\u001b[0;34m]\u001b[0m\u001b[0;34m.\u001b[0m\u001b[0mapply\u001b[0m\u001b[0;34m(\u001b[0m\u001b[0mnp\u001b[0m\u001b[0;34m.\u001b[0m\u001b[0marray\u001b[0m\u001b[0;34m)\u001b[0m\u001b[0;34m)\u001b[0m\u001b[0;34m.\u001b[0m\u001b[0mreshape\u001b[0m\u001b[0;34m(\u001b[0m\u001b[0;36m1\u001b[0m\u001b[0;34m,\u001b[0m\u001b[0;36m2\u001b[0m\u001b[0;34m,\u001b[0m\u001b[0;36m4\u001b[0m\u001b[0;34m)\u001b[0m\u001b[0;34m\u001b[0m\u001b[0;34m\u001b[0m\u001b[0m\n\u001b[0m",
      "\u001b[0;31mValueError\u001b[0m: cannot reshape array of size 2 into shape (1,2,4)"
     ]
    }
   ],
   "source": [
    "np.array(val_electronics[val_electronics['image_id']==464476]['bbox'].apply(np.array)).reshape(1,2,4)"
   ]
  },
  {
   "cell_type": "code",
   "execution_count": 131,
   "metadata": {},
   "outputs": [
    {
     "data": {
      "text/plain": [
       "array([[72, 72]])"
      ]
     },
     "execution_count": 131,
     "metadata": {},
     "output_type": "execute_result"
    }
   ],
   "source": [
    "val_electronics[val_electronics['image_id']==464476]['category_id']\n",
    "np.array([entry for entry in val_electronics[val_electronics['image_id']==464476]['category_id']]).reshape(1,2)"
   ]
  },
  {
   "cell_type": "code",
   "execution_count": 9,
   "metadata": {},
   "outputs": [],
   "source": [
    "#extract electronics IDs in each image\n",
    "eIDs_in_images = val_electronics.groupby('image_id')['category_id'].apply(list).to_dict()\n",
    "#select all images that contain electronics\n",
    "train_images_with_electronics = list(pd.Series(train_electronics['image_id']).unique())\n",
    "val_images_with_electronics = list(pd.Series(val_electronics['image_id']).unique())"
   ]
  },
  {
   "cell_type": "code",
   "execution_count": 98,
   "metadata": {},
   "outputs": [
    {
     "ename": "AttributeError",
     "evalue": "'dict' object has no attribute 'head'",
     "output_type": "error",
     "traceback": [
      "\u001b[0;31m---------------------------------------------------------------------------\u001b[0m",
      "\u001b[0;31mAttributeError\u001b[0m                            Traceback (most recent call last)",
      "\u001b[0;32m<ipython-input-98-d71e68e1902a>\u001b[0m in \u001b[0;36m<module>\u001b[0;34m\u001b[0m\n\u001b[0;32m----> 1\u001b[0;31m \u001b[0meIDs_in_images\u001b[0m\u001b[0;34m.\u001b[0m\u001b[0mhead\u001b[0m\u001b[0;34m(\u001b[0m\u001b[0;34m)\u001b[0m\u001b[0;34m\u001b[0m\u001b[0;34m\u001b[0m\u001b[0m\n\u001b[0m",
      "\u001b[0;31mAttributeError\u001b[0m: 'dict' object has no attribute 'head'"
     ]
    }
   ],
   "source": [
    "#val_electronics"
   ]
  },
  {
   "cell_type": "code",
   "execution_count": 97,
   "metadata": {},
   "outputs": [
    {
     "data": {
      "text/plain": [
       "[464476, 68833, 433915, 149222, 17379, 361586, 127987, 186632, 440475, 368900]"
      ]
     },
     "execution_count": 97,
     "metadata": {},
     "output_type": "execute_result"
    }
   ],
   "source": [
    "#val_images_with_electronics[:10]"
   ]
  },
  {
   "cell_type": "code",
   "execution_count": 11,
   "metadata": {},
   "outputs": [
    {
     "data": {
      "text/plain": [
       "597"
      ]
     },
     "execution_count": 11,
     "metadata": {},
     "output_type": "execute_result"
    }
   ],
   "source": [
    "len(val_images_with_electronics)"
   ]
  },
  {
   "cell_type": "code",
   "execution_count": null,
   "metadata": {},
   "outputs": [],
   "source": []
  },
  {
   "cell_type": "markdown",
   "metadata": {},
   "source": [
    "# get the validation images with electronics"
   ]
  },
  {
   "cell_type": "code",
   "execution_count": 12,
   "metadata": {},
   "outputs": [],
   "source": [
    "val_folder_name = '/mnt/muthderd/MIDS/W210/data/val2017/'\n",
    "all_val_filenames = os.listdir(val_folder_name)"
   ]
  },
  {
   "cell_type": "code",
   "execution_count": 13,
   "metadata": {},
   "outputs": [],
   "source": [
    "max_file_id_length = len(all_val_filenames[0]) - 4#subtract 4 for the '.jpg' suffix"
   ]
  },
  {
   "cell_type": "code",
   "execution_count": 14,
   "metadata": {},
   "outputs": [],
   "source": [
    "files_to_open = []\n",
    "for image_id in val_images_with_electronics:\n",
    "    file_id = str(image_id)\n",
    "    zeros_to_add = max_file_id_length-len(file_id)\n",
    "    filename = ('0'*zeros_to_add) + file_id + '.jpg'\n",
    "    files_to_open.append(filename)"
   ]
  },
  {
   "cell_type": "code",
   "execution_count": 15,
   "metadata": {},
   "outputs": [],
   "source": [
    "#files_to_open[:10]"
   ]
  },
  {
   "cell_type": "code",
   "execution_count": 95,
   "metadata": {},
   "outputs": [],
   "source": [
    "map_object = gutils.metrics.VOCMApMetric()"
   ]
  },
  {
   "cell_type": "code",
   "execution_count": 135,
   "metadata": {},
   "outputs": [
    {
     "data": {
      "text/plain": [
       "(1, 2)"
      ]
     },
     "execution_count": 135,
     "metadata": {},
     "output_type": "execute_result"
    }
   ],
   "source": [
    "gt_labels.shape"
   ]
  },
  {
   "cell_type": "markdown",
   "metadata": {},
   "source": [
    "# test models"
   ]
  },
  {
   "cell_type": "code",
   "execution_count": 132,
   "metadata": {},
   "outputs": [
    {
     "ename": "ValueError",
     "evalue": "zero-dimensional arrays cannot be concatenated",
     "output_type": "error",
     "traceback": [
      "\u001b[0;31m---------------------------------------------------------------------------\u001b[0m",
      "\u001b[0;31mValueError\u001b[0m                                Traceback (most recent call last)",
      "\u001b[0;32m<ipython-input-132-2377aef7d699>\u001b[0m in \u001b[0;36m<module>\u001b[0;34m\u001b[0m\n\u001b[1;32m     43\u001b[0m     \u001b[0;31m#gt_labels = np.array(labels['category_id'].apply(np.array))\u001b[0m\u001b[0;34m\u001b[0m\u001b[0;34m\u001b[0m\u001b[0;34m\u001b[0m\u001b[0m\n\u001b[1;32m     44\u001b[0m \u001b[0;34m\u001b[0m\u001b[0m\n\u001b[0;32m---> 45\u001b[0;31m     \u001b[0mmap_object\u001b[0m\u001b[0;34m.\u001b[0m\u001b[0mupdate\u001b[0m\u001b[0;34m(\u001b[0m\u001b[0mbounding_boxes\u001b[0m\u001b[0;34m,\u001b[0m \u001b[0mclass_ids\u001b[0m\u001b[0;34m,\u001b[0m \u001b[0mscores\u001b[0m\u001b[0;34m,\u001b[0m \u001b[0mgt_bboxes\u001b[0m\u001b[0;34m,\u001b[0m \u001b[0mgt_labels\u001b[0m\u001b[0;34m)\u001b[0m\u001b[0;34m\u001b[0m\u001b[0;34m\u001b[0m\u001b[0m\n\u001b[0m\u001b[1;32m     46\u001b[0m \u001b[0;34m\u001b[0m\u001b[0m\n\u001b[1;32m     47\u001b[0m \u001b[0mprint\u001b[0m\u001b[0;34m(\u001b[0m\u001b[0;34m\"Total Annotations: \"\u001b[0m\u001b[0;34m,\u001b[0m \u001b[0mstr\u001b[0m\u001b[0;34m(\u001b[0m\u001b[0mlen\u001b[0m\u001b[0;34m(\u001b[0m\u001b[0mall_test_annotations\u001b[0m\u001b[0;34m)\u001b[0m\u001b[0;34m)\u001b[0m\u001b[0;34m)\u001b[0m\u001b[0;34m\u001b[0m\u001b[0;34m\u001b[0m\u001b[0m\n",
      "\u001b[0;32m~/.local/lib/python3.7/site-packages/gluoncv/utils/metrics/voc_detection.py\u001b[0m in \u001b[0;36mupdate\u001b[0;34m(self, pred_bboxes, pred_labels, pred_scores, gt_bboxes, gt_labels, gt_difficults)\u001b[0m\n\u001b[1;32m    105\u001b[0m         for pred_bbox, pred_label, pred_score, gt_bbox, gt_label, gt_difficult in zip(\n\u001b[1;32m    106\u001b[0m                 *[as_numpy(x) for x in [pred_bboxes, pred_labels, pred_scores,\n\u001b[0;32m--> 107\u001b[0;31m                                         gt_bboxes, gt_labels, gt_difficults]]):\n\u001b[0m\u001b[1;32m    108\u001b[0m             \u001b[0;31m# strip padding -1 for pred and gt\u001b[0m\u001b[0;34m\u001b[0m\u001b[0;34m\u001b[0m\u001b[0;34m\u001b[0m\u001b[0m\n\u001b[1;32m    109\u001b[0m             \u001b[0mvalid_pred\u001b[0m \u001b[0;34m=\u001b[0m \u001b[0mnp\u001b[0m\u001b[0;34m.\u001b[0m\u001b[0mwhere\u001b[0m\u001b[0;34m(\u001b[0m\u001b[0mpred_label\u001b[0m\u001b[0;34m.\u001b[0m\u001b[0mflat\u001b[0m \u001b[0;34m>=\u001b[0m \u001b[0;36m0\u001b[0m\u001b[0;34m)\u001b[0m\u001b[0;34m[\u001b[0m\u001b[0;36m0\u001b[0m\u001b[0;34m]\u001b[0m\u001b[0;34m\u001b[0m\u001b[0;34m\u001b[0m\u001b[0m\n",
      "\u001b[0;32m~/.local/lib/python3.7/site-packages/gluoncv/utils/metrics/voc_detection.py\u001b[0m in \u001b[0;36m<listcomp>\u001b[0;34m(.0)\u001b[0m\n\u001b[1;32m    104\u001b[0m \u001b[0;34m\u001b[0m\u001b[0m\n\u001b[1;32m    105\u001b[0m         for pred_bbox, pred_label, pred_score, gt_bbox, gt_label, gt_difficult in zip(\n\u001b[0;32m--> 106\u001b[0;31m                 *[as_numpy(x) for x in [pred_bboxes, pred_labels, pred_scores,\n\u001b[0m\u001b[1;32m    107\u001b[0m                                         gt_bboxes, gt_labels, gt_difficults]]):\n\u001b[1;32m    108\u001b[0m             \u001b[0;31m# strip padding -1 for pred and gt\u001b[0m\u001b[0;34m\u001b[0m\u001b[0;34m\u001b[0m\u001b[0;34m\u001b[0m\u001b[0m\n",
      "\u001b[0;32m~/.local/lib/python3.7/site-packages/gluoncv/utils/metrics/voc_detection.py\u001b[0m in \u001b[0;36mas_numpy\u001b[0;34m(a)\u001b[0m\n\u001b[1;32m     95\u001b[0m                 \u001b[0mout\u001b[0m \u001b[0;34m=\u001b[0m \u001b[0;34m[\u001b[0m\u001b[0mx\u001b[0m\u001b[0;34m.\u001b[0m\u001b[0masnumpy\u001b[0m\u001b[0;34m(\u001b[0m\u001b[0;34m)\u001b[0m \u001b[0;32mif\u001b[0m \u001b[0misinstance\u001b[0m\u001b[0;34m(\u001b[0m\u001b[0mx\u001b[0m\u001b[0;34m,\u001b[0m \u001b[0mmx\u001b[0m\u001b[0;34m.\u001b[0m\u001b[0mnd\u001b[0m\u001b[0;34m.\u001b[0m\u001b[0mNDArray\u001b[0m\u001b[0;34m)\u001b[0m \u001b[0;32melse\u001b[0m \u001b[0mx\u001b[0m \u001b[0;32mfor\u001b[0m \u001b[0mx\u001b[0m \u001b[0;32min\u001b[0m \u001b[0ma\u001b[0m\u001b[0;34m]\u001b[0m\u001b[0;34m\u001b[0m\u001b[0;34m\u001b[0m\u001b[0m\n\u001b[1;32m     96\u001b[0m                 \u001b[0mout\u001b[0m \u001b[0;34m=\u001b[0m \u001b[0mnp\u001b[0m\u001b[0;34m.\u001b[0m\u001b[0marray\u001b[0m\u001b[0;34m(\u001b[0m\u001b[0mout\u001b[0m\u001b[0;34m)\u001b[0m\u001b[0;34m\u001b[0m\u001b[0;34m\u001b[0m\u001b[0m\n\u001b[0;32m---> 97\u001b[0;31m                 \u001b[0;32mreturn\u001b[0m \u001b[0mnp\u001b[0m\u001b[0;34m.\u001b[0m\u001b[0mconcatenate\u001b[0m\u001b[0;34m(\u001b[0m\u001b[0mout\u001b[0m\u001b[0;34m,\u001b[0m \u001b[0maxis\u001b[0m\u001b[0;34m=\u001b[0m\u001b[0;36m0\u001b[0m\u001b[0;34m)\u001b[0m\u001b[0;34m\u001b[0m\u001b[0;34m\u001b[0m\u001b[0m\n\u001b[0m\u001b[1;32m     98\u001b[0m             \u001b[0;32melif\u001b[0m \u001b[0misinstance\u001b[0m\u001b[0;34m(\u001b[0m\u001b[0ma\u001b[0m\u001b[0;34m,\u001b[0m \u001b[0mmx\u001b[0m\u001b[0;34m.\u001b[0m\u001b[0mnd\u001b[0m\u001b[0;34m.\u001b[0m\u001b[0mNDArray\u001b[0m\u001b[0;34m)\u001b[0m\u001b[0;34m:\u001b[0m\u001b[0;34m\u001b[0m\u001b[0;34m\u001b[0m\u001b[0m\n\u001b[1;32m     99\u001b[0m                 \u001b[0ma\u001b[0m \u001b[0;34m=\u001b[0m \u001b[0ma\u001b[0m\u001b[0;34m.\u001b[0m\u001b[0masnumpy\u001b[0m\u001b[0;34m(\u001b[0m\u001b[0;34m)\u001b[0m\u001b[0;34m\u001b[0m\u001b[0;34m\u001b[0m\u001b[0m\n",
      "\u001b[0;31mValueError\u001b[0m: zero-dimensional arrays cannot be concatenated"
     ]
    }
   ],
   "source": [
    "%%capture\n",
    "\n",
    "\n",
    "\n",
    "#results_folder = '/mnt/muthderd/MIDS/W210/data/val_results_2/'\n",
    "results_folder = '/mnt/muthderd/MIDS/W210/data/val_results/'\n",
    "data_folder = '/mnt/muthderd/MIDS/W210/data/val2017/'\n",
    "\n",
    "#test_filenames = os.listdir(data_folder)\n",
    "test_filenames = files_to_open[:25]\n",
    "\n",
    "all_test_annotations = pd.DataFrame(columns=['image_id', 'class_id', 'scores', 1, 2, 3, 4])\n",
    "\n",
    "#baseline_model = baseline.BaselineClassifier(model='faster_rcnn_resnet101_v1d_coco')\n",
    "baseline_model = baseline.BaselineClassifier(model='yolo3_darknet53_coco')\n",
    "\n",
    "pred_start = time.time()\n",
    "\n",
    "for image in test_filenames:\n",
    "    class_ids, scores, bounding_boxes = baseline_model.classify_objects(image, data_folder, results_folder)\n",
    "    \n",
    "    class_id_series = pd.Series(class_ids[0].asnumpy().reshape(len(class_ids[0]),))\n",
    "    score_series = pd.Series(scores[0].asnumpy().reshape(len(scores[0]),))\n",
    "    b_box_DF = pd.DataFrame(bounding_boxes[0].asnumpy().reshape(len(bounding_boxes[0]),4), columns=[1,2,3,4])\n",
    "    \n",
    "    class_id_series[class_id_series>-1]\n",
    "    score_series[class_id_series>-1]\n",
    "    b_box_DF[class_id_series>-1]\n",
    "    \n",
    "    test_annotations = b_box_DF[class_id_series>-1]\n",
    "    test_annotations['class_id'] = class_id_series[class_id_series>-1]\n",
    "    test_annotations['scores'] = score_series[class_id_series>-1]\n",
    "    \n",
    "    test_annotations['image_id'] = [image[:-4]]*len(test_annotations)\n",
    "    test_annotations = test_annotations[['image_id', 'class_id', 'scores', 1, 2, 3, 4]]\n",
    "    \n",
    "    all_test_annotations = pd.concat([all_test_annotations, test_annotations], ignore_index=True)\n",
    "    \n",
    "    image_id = int(image[:-4])\n",
    "    labels = val_electronics[val_electronics['image_id']==image_id]\n",
    "    gt_bboxes = np.array([[coord for coord in entry] for entry in labels['bbox']]).reshape(1,len(labels),4)\n",
    "    #gt_bboxes = np.array(labels['bbox'].apply(np.array))\n",
    "    gt_labels = np.array([entry for entry in labels['category_id']]).reshape(1,len(labels))\n",
    "    #gt_labels = np.array(labels['category_id'].apply(np.array))\n",
    "    \n",
    "    map_object.update(bounding_boxes, class_ids, scores, gt_bboxes, gt_labels)\n",
    "    \n",
    "print(\"Total Annotations: \", str(len(all_test_annotations)))\n",
    "\n",
    "pred_end = time.time()\n",
    "pred_duration = pred_end - pred_start"
   ]
  },
  {
   "cell_type": "code",
   "execution_count": 128,
   "metadata": {},
   "outputs": [
    {
     "ename": "ValueError",
     "evalue": "max() arg is an empty sequence",
     "output_type": "error",
     "traceback": [
      "\u001b[0;31m---------------------------------------------------------------------------\u001b[0m",
      "\u001b[0;31mValueError\u001b[0m                                Traceback (most recent call last)",
      "\u001b[0;32m<ipython-input-128-9a3795a2edd2>\u001b[0m in \u001b[0;36m<module>\u001b[0;34m\u001b[0m\n\u001b[0;32m----> 1\u001b[0;31m \u001b[0mmap_object\u001b[0m\u001b[0;34m.\u001b[0m\u001b[0mget\u001b[0m\u001b[0;34m(\u001b[0m\u001b[0;34m)\u001b[0m\u001b[0;34m\u001b[0m\u001b[0;34m\u001b[0m\u001b[0m\n\u001b[0m",
      "\u001b[0;32m~/.local/lib/python3.7/site-packages/gluoncv/utils/metrics/voc_detection.py\u001b[0m in \u001b[0;36mget\u001b[0;34m(self)\u001b[0m\n\u001b[1;32m     55\u001b[0m            \u001b[0mValue\u001b[0m \u001b[0mof\u001b[0m \u001b[0mthe\u001b[0m \u001b[0mevaluation\u001b[0m\u001b[0;34m.\u001b[0m\u001b[0;34m\u001b[0m\u001b[0;34m\u001b[0m\u001b[0m\n\u001b[1;32m     56\u001b[0m         \"\"\"\n\u001b[0;32m---> 57\u001b[0;31m         \u001b[0mself\u001b[0m\u001b[0;34m.\u001b[0m\u001b[0m_update\u001b[0m\u001b[0;34m(\u001b[0m\u001b[0;34m)\u001b[0m  \u001b[0;31m# update metric at this time\u001b[0m\u001b[0;34m\u001b[0m\u001b[0;34m\u001b[0m\u001b[0m\n\u001b[0m\u001b[1;32m     58\u001b[0m         \u001b[0;32mif\u001b[0m \u001b[0mself\u001b[0m\u001b[0;34m.\u001b[0m\u001b[0mnum\u001b[0m \u001b[0;32mis\u001b[0m \u001b[0;32mNone\u001b[0m\u001b[0;34m:\u001b[0m\u001b[0;34m\u001b[0m\u001b[0;34m\u001b[0m\u001b[0m\n\u001b[1;32m     59\u001b[0m             \u001b[0;32mif\u001b[0m \u001b[0mself\u001b[0m\u001b[0;34m.\u001b[0m\u001b[0mnum_inst\u001b[0m \u001b[0;34m==\u001b[0m \u001b[0;36m0\u001b[0m\u001b[0;34m:\u001b[0m\u001b[0;34m\u001b[0m\u001b[0;34m\u001b[0m\u001b[0m\n",
      "\u001b[0;32m~/.local/lib/python3.7/site-packages/gluoncv/utils/metrics/voc_detection.py\u001b[0m in \u001b[0;36m_update\u001b[0;34m(self)\u001b[0m\n\u001b[1;32m    170\u001b[0m         \u001b[0;34m\"\"\" update num_inst and sum_metric \"\"\"\u001b[0m\u001b[0;34m\u001b[0m\u001b[0;34m\u001b[0m\u001b[0m\n\u001b[1;32m    171\u001b[0m         \u001b[0maps\u001b[0m \u001b[0;34m=\u001b[0m \u001b[0;34m[\u001b[0m\u001b[0;34m]\u001b[0m\u001b[0;34m\u001b[0m\u001b[0;34m\u001b[0m\u001b[0m\n\u001b[0;32m--> 172\u001b[0;31m         \u001b[0mrecall\u001b[0m\u001b[0;34m,\u001b[0m \u001b[0mprecs\u001b[0m \u001b[0;34m=\u001b[0m \u001b[0mself\u001b[0m\u001b[0;34m.\u001b[0m\u001b[0m_recall_prec\u001b[0m\u001b[0;34m(\u001b[0m\u001b[0;34m)\u001b[0m\u001b[0;34m\u001b[0m\u001b[0;34m\u001b[0m\u001b[0m\n\u001b[0m\u001b[1;32m    173\u001b[0m         \u001b[0;32mfor\u001b[0m \u001b[0ml\u001b[0m\u001b[0;34m,\u001b[0m \u001b[0mrec\u001b[0m\u001b[0;34m,\u001b[0m \u001b[0mprec\u001b[0m \u001b[0;32min\u001b[0m \u001b[0mzip\u001b[0m\u001b[0;34m(\u001b[0m\u001b[0mrange\u001b[0m\u001b[0;34m(\u001b[0m\u001b[0mlen\u001b[0m\u001b[0;34m(\u001b[0m\u001b[0mprecs\u001b[0m\u001b[0;34m)\u001b[0m\u001b[0;34m)\u001b[0m\u001b[0;34m,\u001b[0m \u001b[0mrecall\u001b[0m\u001b[0;34m,\u001b[0m \u001b[0mprecs\u001b[0m\u001b[0;34m)\u001b[0m\u001b[0;34m:\u001b[0m\u001b[0;34m\u001b[0m\u001b[0;34m\u001b[0m\u001b[0m\n\u001b[1;32m    174\u001b[0m             \u001b[0map\u001b[0m \u001b[0;34m=\u001b[0m \u001b[0mself\u001b[0m\u001b[0;34m.\u001b[0m\u001b[0m_average_precision\u001b[0m\u001b[0;34m(\u001b[0m\u001b[0mrec\u001b[0m\u001b[0;34m,\u001b[0m \u001b[0mprec\u001b[0m\u001b[0;34m)\u001b[0m\u001b[0;34m\u001b[0m\u001b[0;34m\u001b[0m\u001b[0m\n",
      "\u001b[0;32m~/.local/lib/python3.7/site-packages/gluoncv/utils/metrics/voc_detection.py\u001b[0m in \u001b[0;36m_recall_prec\u001b[0;34m(self)\u001b[0m\n\u001b[1;32m    186\u001b[0m     \u001b[0;32mdef\u001b[0m \u001b[0m_recall_prec\u001b[0m\u001b[0;34m(\u001b[0m\u001b[0mself\u001b[0m\u001b[0;34m)\u001b[0m\u001b[0;34m:\u001b[0m\u001b[0;34m\u001b[0m\u001b[0;34m\u001b[0m\u001b[0m\n\u001b[1;32m    187\u001b[0m         \u001b[0;34m\"\"\" get recall and precision from internal records \"\"\"\u001b[0m\u001b[0;34m\u001b[0m\u001b[0;34m\u001b[0m\u001b[0m\n\u001b[0;32m--> 188\u001b[0;31m         \u001b[0mn_fg_class\u001b[0m \u001b[0;34m=\u001b[0m \u001b[0mmax\u001b[0m\u001b[0;34m(\u001b[0m\u001b[0mself\u001b[0m\u001b[0;34m.\u001b[0m\u001b[0m_n_pos\u001b[0m\u001b[0;34m.\u001b[0m\u001b[0mkeys\u001b[0m\u001b[0;34m(\u001b[0m\u001b[0;34m)\u001b[0m\u001b[0;34m)\u001b[0m \u001b[0;34m+\u001b[0m \u001b[0;36m1\u001b[0m\u001b[0;34m\u001b[0m\u001b[0;34m\u001b[0m\u001b[0m\n\u001b[0m\u001b[1;32m    189\u001b[0m         \u001b[0mprec\u001b[0m \u001b[0;34m=\u001b[0m \u001b[0;34m[\u001b[0m\u001b[0;32mNone\u001b[0m\u001b[0;34m]\u001b[0m \u001b[0;34m*\u001b[0m \u001b[0mn_fg_class\u001b[0m\u001b[0;34m\u001b[0m\u001b[0;34m\u001b[0m\u001b[0m\n\u001b[1;32m    190\u001b[0m         \u001b[0mrec\u001b[0m \u001b[0;34m=\u001b[0m \u001b[0;34m[\u001b[0m\u001b[0;32mNone\u001b[0m\u001b[0;34m]\u001b[0m \u001b[0;34m*\u001b[0m \u001b[0mn_fg_class\u001b[0m\u001b[0;34m\u001b[0m\u001b[0;34m\u001b[0m\u001b[0m\n",
      "\u001b[0;31mValueError\u001b[0m: max() arg is an empty sequence"
     ]
    }
   ],
   "source": [
    "map_object.get()"
   ]
  },
  {
   "cell_type": "code",
   "execution_count": 17,
   "metadata": {},
   "outputs": [
    {
     "data": {
      "text/plain": [
       "27.521580457687378"
      ]
     },
     "execution_count": 17,
     "metadata": {},
     "output_type": "execute_result"
    }
   ],
   "source": [
    "pred_duration"
   ]
  },
  {
   "cell_type": "code",
   "execution_count": 100,
   "metadata": {},
   "outputs": [
    {
     "data": {
      "text/html": [
       "<div>\n",
       "<style scoped>\n",
       "    .dataframe tbody tr th:only-of-type {\n",
       "        vertical-align: middle;\n",
       "    }\n",
       "\n",
       "    .dataframe tbody tr th {\n",
       "        vertical-align: top;\n",
       "    }\n",
       "\n",
       "    .dataframe thead th {\n",
       "        text-align: right;\n",
       "    }\n",
       "</style>\n",
       "<table border=\"1\" class=\"dataframe\">\n",
       "  <thead>\n",
       "    <tr style=\"text-align: right;\">\n",
       "      <th></th>\n",
       "      <th>image_id</th>\n",
       "      <th>class_id</th>\n",
       "      <th>scores</th>\n",
       "      <th>1</th>\n",
       "      <th>2</th>\n",
       "      <th>3</th>\n",
       "      <th>4</th>\n",
       "    </tr>\n",
       "  </thead>\n",
       "  <tbody>\n",
       "    <tr>\n",
       "      <th>0</th>\n",
       "      <td>000000464476</td>\n",
       "      <td>0.0</td>\n",
       "      <td>0.927936</td>\n",
       "      <td>70.859024</td>\n",
       "      <td>81.128845</td>\n",
       "      <td>162.252640</td>\n",
       "      <td>329.081268</td>\n",
       "    </tr>\n",
       "    <tr>\n",
       "      <th>1</th>\n",
       "      <td>000000464476</td>\n",
       "      <td>63.0</td>\n",
       "      <td>0.692063</td>\n",
       "      <td>376.342072</td>\n",
       "      <td>282.334595</td>\n",
       "      <td>660.263550</td>\n",
       "      <td>518.431458</td>\n",
       "    </tr>\n",
       "    <tr>\n",
       "      <th>2</th>\n",
       "      <td>000000464476</td>\n",
       "      <td>62.0</td>\n",
       "      <td>0.356848</td>\n",
       "      <td>376.498962</td>\n",
       "      <td>289.023132</td>\n",
       "      <td>657.539246</td>\n",
       "      <td>509.743530</td>\n",
       "    </tr>\n",
       "    <tr>\n",
       "      <th>3</th>\n",
       "      <td>000000464476</td>\n",
       "      <td>7.0</td>\n",
       "      <td>0.326432</td>\n",
       "      <td>194.305130</td>\n",
       "      <td>31.842560</td>\n",
       "      <td>372.927612</td>\n",
       "      <td>205.119370</td>\n",
       "    </tr>\n",
       "    <tr>\n",
       "      <th>4</th>\n",
       "      <td>000000464476</td>\n",
       "      <td>6.0</td>\n",
       "      <td>0.145672</td>\n",
       "      <td>194.305130</td>\n",
       "      <td>31.842560</td>\n",
       "      <td>372.927612</td>\n",
       "      <td>205.119370</td>\n",
       "    </tr>\n",
       "  </tbody>\n",
       "</table>\n",
       "</div>"
      ],
      "text/plain": [
       "       image_id  class_id    scores           1           2           3  \\\n",
       "0  000000464476       0.0  0.927936   70.859024   81.128845  162.252640   \n",
       "1  000000464476      63.0  0.692063  376.342072  282.334595  660.263550   \n",
       "2  000000464476      62.0  0.356848  376.498962  289.023132  657.539246   \n",
       "3  000000464476       7.0  0.326432  194.305130   31.842560  372.927612   \n",
       "4  000000464476       6.0  0.145672  194.305130   31.842560  372.927612   \n",
       "\n",
       "            4  \n",
       "0  329.081268  \n",
       "1  518.431458  \n",
       "2  509.743530  \n",
       "3  205.119370  \n",
       "4  205.119370  "
      ]
     },
     "execution_count": 100,
     "metadata": {},
     "output_type": "execute_result"
    }
   ],
   "source": [
    "all_test_annotations.head()"
   ]
  },
  {
   "cell_type": "code",
   "execution_count": 19,
   "metadata": {},
   "outputs": [],
   "source": [
    "#all_test_annotations.to_csv('val_result_annotations_2.csv')\n",
    "all_test_annotations.to_csv('val_result_annotations.csv')"
   ]
  },
  {
   "cell_type": "code",
   "execution_count": 20,
   "metadata": {
    "scrolled": true
   },
   "outputs": [],
   "source": [
    "pred_prob_threshold = 0.5\n",
    "result_annotations = all_test_annotations[all_test_annotations['scores']>pred_prob_threshold]\n",
    "eIDs_in_results = result_annotations.groupby('image_id')['class_id'].apply(list).to_dict()\n",
    "#eIDs_in_results"
   ]
  },
  {
   "cell_type": "code",
   "execution_count": 21,
   "metadata": {},
   "outputs": [],
   "source": [
    "#quick hack to deal with the fact that the class IDs predicted by the baseline model are 10 lower than those in the annotation file\n",
    "#and to throw out non electronics identified\n",
    "predicted_eIDs = {}\n",
    "for image_id in eIDs_in_results.keys():\n",
    "    corrected_IDs = np.add(eIDs_in_results[image_id],10).astype(int)\n",
    "    llimit = corrected_IDs >= 72\n",
    "    ulimit = corrected_IDs <=77\n",
    "    #print(llimit & ulimit)\n",
    "    corrected_IDs = corrected_IDs[llimit & ulimit]\n",
    "    #eIDs_in_results[image_id] = list(corrected_IDs)\n",
    "    predicted_eIDs[int(image_id)] = list(corrected_IDs)\n",
    "#predicted_eIDs"
   ]
  },
  {
   "cell_type": "code",
   "execution_count": 22,
   "metadata": {},
   "outputs": [],
   "source": [
    "total_pred_counts = []#[0, 0, 0, 0, 0, 0]#can use a smarter structure here\n",
    "total_label_counts = []#[0, 0, 0, 0, 0, 0]\n",
    "#detection_accuracies = []#[0, 0, 0, 0, 0, 0]\n",
    "#detection_accuracies_by_class = []\n",
    "num_labels_detected = []\n",
    "num_labels = []\n",
    "unique_labels_by_image = []\n",
    "unique_preds_by_image = []\n",
    "#current counting method will not take into account false positives\n",
    "for image_id in predicted_eIDs.keys():\n",
    "    current_unique_preds = [0, 0, 0, 0, 0, 0]\n",
    "    current_unique_labels = [0, 0, 0, 0, 0, 0]\n",
    "    pred_counts = [0, 0, 0, 0, 0, 0]#can use a smarter structure here\n",
    "    label_counts = [0, 0, 0, 0, 0, 0]\n",
    "    \n",
    "    labels = eIDs_in_images[image_id]\n",
    "    for label in labels:\n",
    "        label_counts[label-72] += 1\n",
    "    preds = predicted_eIDs[image_id]\n",
    "    for pred in preds:\n",
    "        pred_counts[pred-72] += 1\n",
    "    \n",
    "    unique_labels = list(set(labels))\n",
    "    unique_preds = list(set(preds))\n",
    "    unique_label_count = len(unique_labels)\n",
    "    unique_labels_detected = 0\n",
    "    for label in unique_labels:\n",
    "        #label_counts[label-72] += 1\n",
    "        current_unique_labels[label-72] += 1\n",
    "        if label in unique_preds:\n",
    "            unique_labels_detected += 1\n",
    "    for pred in unique_preds:\n",
    "        #pred_counts[pred-72] += 1\n",
    "        current_unique_preds[pred-72] += 1\n",
    "    \n",
    "    #new method: count instances of each id to take FP into account\n",
    "    \n",
    "    #new method: tally accuracy for each image separately\n",
    "    \n",
    "    #store counts of each label and pred for each image\n",
    "    total_pred_counts.append(pred_counts)\n",
    "    total_label_counts.append(label_counts)\n",
    "    \n",
    "    #store unique labels and preds\n",
    "    unique_labels_by_image.append(current_unique_labels)\n",
    "    unique_preds_by_image.append(current_unique_preds)\n",
    "    \n",
    "    #counts of unique labels and preds\n",
    "    num_labels.append(unique_label_count)\n",
    "    num_labels_detected.append(unique_labels_detected)\n",
    "    \n",
    "    #detection_accuracies.append(num_labels_detected/num_labels)\n",
    "    #detection_accuracies_by_class.append(list(np.divide(current_pred_counts, current_label_counts)))"
   ]
  },
  {
   "cell_type": "code",
   "execution_count": 38,
   "metadata": {},
   "outputs": [],
   "source": [
    "pred_counts = pd.DataFrame(total_pred_counts)\n",
    "label_counts = pd.DataFrame(total_label_counts)\n",
    "pred_counts[6] = pred_counts.sum(axis=1)\n",
    "label_counts[6] = label_counts.sum(axis=1)"
   ]
  },
  {
   "cell_type": "code",
   "execution_count": 42,
   "metadata": {},
   "outputs": [
    {
     "data": {
      "text/html": [
       "<div>\n",
       "<style scoped>\n",
       "    .dataframe tbody tr th:only-of-type {\n",
       "        vertical-align: middle;\n",
       "    }\n",
       "\n",
       "    .dataframe tbody tr th {\n",
       "        vertical-align: top;\n",
       "    }\n",
       "\n",
       "    .dataframe thead th {\n",
       "        text-align: right;\n",
       "    }\n",
       "</style>\n",
       "<table border=\"1\" class=\"dataframe\">\n",
       "  <thead>\n",
       "    <tr style=\"text-align: right;\">\n",
       "      <th></th>\n",
       "      <th>0</th>\n",
       "      <th>1</th>\n",
       "      <th>2</th>\n",
       "      <th>3</th>\n",
       "      <th>4</th>\n",
       "      <th>5</th>\n",
       "      <th>6</th>\n",
       "    </tr>\n",
       "  </thead>\n",
       "  <tbody>\n",
       "    <tr>\n",
       "      <th>0</th>\n",
       "      <td>1</td>\n",
       "      <td>0</td>\n",
       "      <td>0</td>\n",
       "      <td>0</td>\n",
       "      <td>0</td>\n",
       "      <td>0</td>\n",
       "      <td>1</td>\n",
       "    </tr>\n",
       "    <tr>\n",
       "      <th>1</th>\n",
       "      <td>1</td>\n",
       "      <td>0</td>\n",
       "      <td>0</td>\n",
       "      <td>0</td>\n",
       "      <td>0</td>\n",
       "      <td>0</td>\n",
       "      <td>1</td>\n",
       "    </tr>\n",
       "    <tr>\n",
       "      <th>2</th>\n",
       "      <td>1</td>\n",
       "      <td>0</td>\n",
       "      <td>0</td>\n",
       "      <td>0</td>\n",
       "      <td>0</td>\n",
       "      <td>0</td>\n",
       "      <td>1</td>\n",
       "    </tr>\n",
       "    <tr>\n",
       "      <th>3</th>\n",
       "      <td>1</td>\n",
       "      <td>0</td>\n",
       "      <td>0</td>\n",
       "      <td>0</td>\n",
       "      <td>0</td>\n",
       "      <td>0</td>\n",
       "      <td>1</td>\n",
       "    </tr>\n",
       "    <tr>\n",
       "      <th>4</th>\n",
       "      <td>2</td>\n",
       "      <td>0</td>\n",
       "      <td>0</td>\n",
       "      <td>0</td>\n",
       "      <td>1</td>\n",
       "      <td>0</td>\n",
       "      <td>3</td>\n",
       "    </tr>\n",
       "  </tbody>\n",
       "</table>\n",
       "</div>"
      ],
      "text/plain": [
       "   0  1  2  3  4  5  6\n",
       "0  1  0  0  0  0  0  1\n",
       "1  1  0  0  0  0  0  1\n",
       "2  1  0  0  0  0  0  1\n",
       "3  1  0  0  0  0  0  1\n",
       "4  2  0  0  0  1  0  3"
      ]
     },
     "execution_count": 42,
     "metadata": {},
     "output_type": "execute_result"
    }
   ],
   "source": [
    "label_counts.head()"
   ]
  },
  {
   "cell_type": "code",
   "execution_count": 43,
   "metadata": {},
   "outputs": [],
   "source": [
    "errors = label_counts.subtract(pred_counts).abs()\n",
    "error_rate_by_class = errors.sum(axis=0).divide(label_counts.sum(axis=0))\n",
    "error_rate_by_class"
   ]
  },
  {
   "cell_type": "code",
   "execution_count": 46,
   "metadata": {},
   "outputs": [
    {
     "data": {
      "text/plain": [
       "0    0.52\n",
       "1    0.50\n",
       "2    0.00\n",
       "3    0.00\n",
       "4    0.25\n",
       "5    0.50\n",
       "6    0.40\n",
       "dtype: float64"
      ]
     },
     "execution_count": 46,
     "metadata": {},
     "output_type": "execute_result"
    }
   ],
   "source": []
  },
  {
   "cell_type": "code",
   "execution_count": 47,
   "metadata": {},
   "outputs": [
    {
     "data": {
      "text/plain": [
       "array([1. , 1. , 0. , 1. , 0.5, 1. , 1. , 1. , 1. , 1. , 1. , 0. , 1. ,\n",
       "       1. , 0. , 0. , 0. , 0. , 1. , 1. , 1. , 0. , 1. , 1. ])"
      ]
     },
     "execution_count": 47,
     "metadata": {},
     "output_type": "execute_result"
    }
   ],
   "source": [
    "#np.divide(num_labels_detected, num_labels)"
   ]
  },
  {
   "cell_type": "code",
   "execution_count": 29,
   "metadata": {},
   "outputs": [
    {
     "data": {
      "text/plain": [
       "0.6875"
      ]
     },
     "execution_count": 29,
     "metadata": {},
     "output_type": "execute_result"
    }
   ],
   "source": [
    "#average percentage of unique electronics labels identified in a picture\n",
    "np.mean(np.divide(num_labels_detected, num_labels))"
   ]
  },
  {
   "cell_type": "code",
   "execution_count": 51,
   "metadata": {},
   "outputs": [
    {
     "data": {
      "text/plain": [
       "24"
      ]
     },
     "execution_count": 51,
     "metadata": {},
     "output_type": "execute_result"
    }
   ],
   "source": [
    "num_images = len(num_labels)\n",
    "num_images"
   ]
  },
  {
   "cell_type": "code",
   "execution_count": 73,
   "metadata": {},
   "outputs": [
    {
     "data": {
      "text/plain": [
       "0    11\n",
       "1     2\n",
       "2     2\n",
       "3     1\n",
       "4     3\n",
       "5     4\n",
       "dtype: int64"
      ]
     },
     "execution_count": 73,
     "metadata": {},
     "output_type": "execute_result"
    }
   ],
   "source": [
    "#which of the unique labels were predicted?\n",
    "unique_labels_detected = (pd.DataFrame(unique_labels_by_image).astype(bool) & pd.DataFrame(unique_preds_by_image).astype(bool)).multiply(1).astype(int)\n",
    "unique_labels_detected.sum(axis=0)"
   ]
  },
  {
   "cell_type": "code",
   "execution_count": 74,
   "metadata": {},
   "outputs": [
    {
     "data": {
      "text/plain": [
       "0    17\n",
       "1     2\n",
       "2     2\n",
       "3     1\n",
       "4     3\n",
       "5     6\n",
       "dtype: int64"
      ]
     },
     "execution_count": 74,
     "metadata": {},
     "output_type": "execute_result"
    }
   ],
   "source": [
    "num_images_labeled = pd.DataFrame(unique_labels_by_image).sum(axis=0)\n",
    "num_images_labeled"
   ]
  },
  {
   "cell_type": "code",
   "execution_count": 79,
   "metadata": {},
   "outputs": [
    {
     "data": {
      "text/plain": [
       "0.7419354838709677"
      ]
     },
     "execution_count": 79,
     "metadata": {},
     "output_type": "execute_result"
    }
   ],
   "source": [
    "#overall rate of detecting that a label is present\n",
    "unique_labels_detected.sum(axis=0).sum()/num_images_labeled.sum()"
   ]
  },
  {
   "cell_type": "code",
   "execution_count": 76,
   "metadata": {},
   "outputs": [
    {
     "data": {
      "text/plain": [
       "0    0.647059\n",
       "1    1.000000\n",
       "2    1.000000\n",
       "3    1.000000\n",
       "4    1.000000\n",
       "5    0.666667\n",
       "dtype: float64"
      ]
     },
     "execution_count": 76,
     "metadata": {},
     "output_type": "execute_result"
    }
   ],
   "source": [
    "#for each class, what fraction of images containing that class are predicted to contain that class?\n",
    "unique_labels_detected.sum(axis=0).divide(num_images_labeled)"
   ]
  },
  {
   "cell_type": "code",
   "execution_count": 77,
   "metadata": {},
   "outputs": [
    {
     "data": {
      "text/plain": [
       "0.8856209150326797"
      ]
     },
     "execution_count": 77,
     "metadata": {},
     "output_type": "execute_result"
    }
   ],
   "source": [
    "#average rate of detecting presence of a label, by class\n",
    "unique_labels_detected.sum(axis=0).divide(num_images_labeled).mean()"
   ]
  },
  {
   "cell_type": "code",
   "execution_count": 89,
   "metadata": {},
   "outputs": [],
   "source": [
    "from gluoncv import data as gdata\n",
    "from gluoncv import utils as gutils"
   ]
  },
  {
   "cell_type": "code",
   "execution_count": 84,
   "metadata": {},
   "outputs": [
    {
     "name": "stdout",
     "output_type": "stream",
     "text": [
      "loading annotations into memory...\n",
      "Done (t=0.34s)\n",
      "creating index...\n",
      "index created!\n"
     ]
    }
   ],
   "source": [
    "map_data = gdata.COCODetection(root='/mnt/muthderd/MIDS/W210/data/', splits='/mnt/muthderd/MIDS/W210/data/annotations_trainval2017/annotations/instances_val2017')"
   ]
  },
  {
   "cell_type": "code",
   "execution_count": 85,
   "metadata": {},
   "outputs": [
    {
     "data": {
      "text/plain": [
       "['CLASSES',\n",
       " '__class__',\n",
       " '__delattr__',\n",
       " '__dict__',\n",
       " '__dir__',\n",
       " '__doc__',\n",
       " '__eq__',\n",
       " '__format__',\n",
       " '__ge__',\n",
       " '__getattribute__',\n",
       " '__getitem__',\n",
       " '__gt__',\n",
       " '__hash__',\n",
       " '__init__',\n",
       " '__init_subclass__',\n",
       " '__le__',\n",
       " '__len__',\n",
       " '__lt__',\n",
       " '__module__',\n",
       " '__ne__',\n",
       " '__new__',\n",
       " '__reduce__',\n",
       " '__reduce_ex__',\n",
       " '__repr__',\n",
       " '__setattr__',\n",
       " '__sizeof__',\n",
       " '__str__',\n",
       " '__subclasshook__',\n",
       " '__weakref__',\n",
       " '_check_load_bbox',\n",
       " '_coco',\n",
       " '_items',\n",
       " '_labels',\n",
       " '_load_jsons',\n",
       " '_min_object_area',\n",
       " '_root',\n",
       " '_skip_empty',\n",
       " '_splits',\n",
       " '_transform',\n",
       " '_use_crowd',\n",
       " 'classes',\n",
       " 'coco',\n",
       " 'contiguous_id_to_json',\n",
       " 'index_map',\n",
       " 'json_id_to_contiguous',\n",
       " 'num_class',\n",
       " 'transform',\n",
       " 'transform_first']"
      ]
     },
     "execution_count": 85,
     "metadata": {},
     "output_type": "execute_result"
    }
   ],
   "source": [
    "dir(map_data)"
   ]
  },
  {
   "cell_type": "code",
   "execution_count": 88,
   "metadata": {},
   "outputs": [
    {
     "data": {
      "text/plain": [
       "gluoncv.data.mscoco.detection.COCODetection"
      ]
     },
     "execution_count": 88,
     "metadata": {},
     "output_type": "execute_result"
    }
   ],
   "source": [
    "type(map_data)"
   ]
  },
  {
   "cell_type": "code",
   "execution_count": 91,
   "metadata": {},
   "outputs": [],
   "source": [
    "coco_metric = gutils.metrics.COCODetectionMetric(map_data, save_prefix='/mnt/muthderd/MIDS/W210/data/annotations_trainval2017/annotations/instances_val2017')"
   ]
  },
  {
   "cell_type": "code",
   "execution_count": 94,
   "metadata": {},
   "outputs": [
    {
     "name": "stdout",
     "output_type": "stream",
     "text": [
      "Loading and preparing results...\n"
     ]
    },
    {
     "ename": "IndexError",
     "evalue": "list index out of range",
     "output_type": "error",
     "traceback": [
      "\u001b[0;31m---------------------------------------------------------------------------\u001b[0m",
      "\u001b[0;31mIndexError\u001b[0m                                Traceback (most recent call last)",
      "\u001b[0;32m<ipython-input-94-eb52d17655ad>\u001b[0m in \u001b[0;36m<module>\u001b[0;34m\u001b[0m\n\u001b[0;32m----> 1\u001b[0;31m \u001b[0mcoco_metric\u001b[0m\u001b[0;34m.\u001b[0m\u001b[0mget\u001b[0m\u001b[0;34m(\u001b[0m\u001b[0;34m)\u001b[0m\u001b[0;34m\u001b[0m\u001b[0;34m\u001b[0m\u001b[0m\n\u001b[0m",
      "\u001b[0;32m~/.local/lib/python3.7/site-packages/gluoncv/utils/metrics/coco_detection.py\u001b[0m in \u001b[0;36mget\u001b[0;34m(self)\u001b[0m\n\u001b[1;32m    114\u001b[0m \u001b[0;34m\u001b[0m\u001b[0m\n\u001b[1;32m    115\u001b[0m         \u001b[0;31m# call real update\u001b[0m\u001b[0;34m\u001b[0m\u001b[0;34m\u001b[0m\u001b[0;34m\u001b[0m\u001b[0m\n\u001b[0;32m--> 116\u001b[0;31m         \u001b[0mcoco_eval\u001b[0m \u001b[0;34m=\u001b[0m \u001b[0mself\u001b[0m\u001b[0;34m.\u001b[0m\u001b[0m_update\u001b[0m\u001b[0;34m(\u001b[0m\u001b[0;34m)\u001b[0m\u001b[0;34m\u001b[0m\u001b[0;34m\u001b[0m\u001b[0m\n\u001b[0m\u001b[1;32m    117\u001b[0m \u001b[0;34m\u001b[0m\u001b[0m\n\u001b[1;32m    118\u001b[0m         \u001b[0mIoU_lo_thresh\u001b[0m \u001b[0;34m=\u001b[0m \u001b[0;36m0.5\u001b[0m\u001b[0;34m\u001b[0m\u001b[0;34m\u001b[0m\u001b[0m\n",
      "\u001b[0;32m~/.local/lib/python3.7/site-packages/gluoncv/utils/metrics/coco_detection.py\u001b[0m in \u001b[0;36m_update\u001b[0;34m(self)\u001b[0m\n\u001b[1;32m     92\u001b[0m             \u001b[0;32mraise\u001b[0m \u001b[0mRuntimeError\u001b[0m\u001b[0;34m(\u001b[0m\u001b[0;34m\"Unable to dump json file, ignored. What(): {}\"\u001b[0m\u001b[0;34m.\u001b[0m\u001b[0mformat\u001b[0m\u001b[0;34m(\u001b[0m\u001b[0mstr\u001b[0m\u001b[0;34m(\u001b[0m\u001b[0me\u001b[0m\u001b[0;34m)\u001b[0m\u001b[0;34m)\u001b[0m\u001b[0;34m)\u001b[0m\u001b[0;34m\u001b[0m\u001b[0;34m\u001b[0m\u001b[0m\n\u001b[1;32m     93\u001b[0m \u001b[0;34m\u001b[0m\u001b[0m\n\u001b[0;32m---> 94\u001b[0;31m         \u001b[0mpred\u001b[0m \u001b[0;34m=\u001b[0m \u001b[0mself\u001b[0m\u001b[0;34m.\u001b[0m\u001b[0mdataset\u001b[0m\u001b[0;34m.\u001b[0m\u001b[0mcoco\u001b[0m\u001b[0;34m.\u001b[0m\u001b[0mloadRes\u001b[0m\u001b[0;34m(\u001b[0m\u001b[0mself\u001b[0m\u001b[0;34m.\u001b[0m\u001b[0m_filename\u001b[0m\u001b[0;34m)\u001b[0m\u001b[0;34m\u001b[0m\u001b[0;34m\u001b[0m\u001b[0m\n\u001b[0m\u001b[1;32m     95\u001b[0m         \u001b[0mgt\u001b[0m \u001b[0;34m=\u001b[0m \u001b[0mself\u001b[0m\u001b[0;34m.\u001b[0m\u001b[0mdataset\u001b[0m\u001b[0;34m.\u001b[0m\u001b[0mcoco\u001b[0m\u001b[0;34m\u001b[0m\u001b[0;34m\u001b[0m\u001b[0m\n\u001b[1;32m     96\u001b[0m         \u001b[0;31m# lazy import pycocotools\u001b[0m\u001b[0;34m\u001b[0m\u001b[0;34m\u001b[0m\u001b[0;34m\u001b[0m\u001b[0m\n",
      "\u001b[0;32m~/.local/lib/python3.7/site-packages/pycocotools/coco.py\u001b[0m in \u001b[0;36mloadRes\u001b[0;34m(self, resFile)\u001b[0m\n\u001b[1;32m    316\u001b[0m         \u001b[0;32massert\u001b[0m \u001b[0mset\u001b[0m\u001b[0;34m(\u001b[0m\u001b[0mannsImgIds\u001b[0m\u001b[0;34m)\u001b[0m \u001b[0;34m==\u001b[0m \u001b[0;34m(\u001b[0m\u001b[0mset\u001b[0m\u001b[0;34m(\u001b[0m\u001b[0mannsImgIds\u001b[0m\u001b[0;34m)\u001b[0m \u001b[0;34m&\u001b[0m \u001b[0mset\u001b[0m\u001b[0;34m(\u001b[0m\u001b[0mself\u001b[0m\u001b[0;34m.\u001b[0m\u001b[0mgetImgIds\u001b[0m\u001b[0;34m(\u001b[0m\u001b[0;34m)\u001b[0m\u001b[0;34m)\u001b[0m\u001b[0;34m)\u001b[0m\u001b[0;34m,\u001b[0m\u001b[0;31m \u001b[0m\u001b[0;31m\\\u001b[0m\u001b[0;34m\u001b[0m\u001b[0;34m\u001b[0m\u001b[0m\n\u001b[1;32m    317\u001b[0m                \u001b[0;34m'Results do not correspond to current coco set'\u001b[0m\u001b[0;34m\u001b[0m\u001b[0;34m\u001b[0m\u001b[0m\n\u001b[0;32m--> 318\u001b[0;31m         \u001b[0;32mif\u001b[0m \u001b[0;34m'caption'\u001b[0m \u001b[0;32min\u001b[0m \u001b[0manns\u001b[0m\u001b[0;34m[\u001b[0m\u001b[0;36m0\u001b[0m\u001b[0;34m]\u001b[0m\u001b[0;34m:\u001b[0m\u001b[0;34m\u001b[0m\u001b[0;34m\u001b[0m\u001b[0m\n\u001b[0m\u001b[1;32m    319\u001b[0m             \u001b[0mimgIds\u001b[0m \u001b[0;34m=\u001b[0m \u001b[0mset\u001b[0m\u001b[0;34m(\u001b[0m\u001b[0;34m[\u001b[0m\u001b[0mimg\u001b[0m\u001b[0;34m[\u001b[0m\u001b[0;34m'id'\u001b[0m\u001b[0;34m]\u001b[0m \u001b[0;32mfor\u001b[0m \u001b[0mimg\u001b[0m \u001b[0;32min\u001b[0m \u001b[0mres\u001b[0m\u001b[0;34m.\u001b[0m\u001b[0mdataset\u001b[0m\u001b[0;34m[\u001b[0m\u001b[0;34m'images'\u001b[0m\u001b[0;34m]\u001b[0m\u001b[0;34m]\u001b[0m\u001b[0;34m)\u001b[0m \u001b[0;34m&\u001b[0m \u001b[0mset\u001b[0m\u001b[0;34m(\u001b[0m\u001b[0;34m[\u001b[0m\u001b[0mann\u001b[0m\u001b[0;34m[\u001b[0m\u001b[0;34m'image_id'\u001b[0m\u001b[0;34m]\u001b[0m \u001b[0;32mfor\u001b[0m \u001b[0mann\u001b[0m \u001b[0;32min\u001b[0m \u001b[0manns\u001b[0m\u001b[0;34m]\u001b[0m\u001b[0;34m)\u001b[0m\u001b[0;34m\u001b[0m\u001b[0;34m\u001b[0m\u001b[0m\n\u001b[1;32m    320\u001b[0m             \u001b[0mres\u001b[0m\u001b[0;34m.\u001b[0m\u001b[0mdataset\u001b[0m\u001b[0;34m[\u001b[0m\u001b[0;34m'images'\u001b[0m\u001b[0;34m]\u001b[0m \u001b[0;34m=\u001b[0m \u001b[0;34m[\u001b[0m\u001b[0mimg\u001b[0m \u001b[0;32mfor\u001b[0m \u001b[0mimg\u001b[0m \u001b[0;32min\u001b[0m \u001b[0mres\u001b[0m\u001b[0;34m.\u001b[0m\u001b[0mdataset\u001b[0m\u001b[0;34m[\u001b[0m\u001b[0;34m'images'\u001b[0m\u001b[0;34m]\u001b[0m \u001b[0;32mif\u001b[0m \u001b[0mimg\u001b[0m\u001b[0;34m[\u001b[0m\u001b[0;34m'id'\u001b[0m\u001b[0;34m]\u001b[0m \u001b[0;32min\u001b[0m \u001b[0mimgIds\u001b[0m\u001b[0;34m]\u001b[0m\u001b[0;34m\u001b[0m\u001b[0;34m\u001b[0m\u001b[0m\n",
      "\u001b[0;31mIndexError\u001b[0m: list index out of range"
     ]
    }
   ],
   "source": [
    "coco_metric.get()"
   ]
  },
  {
   "cell_type": "code",
   "execution_count": null,
   "metadata": {},
   "outputs": [],
   "source": []
  },
  {
   "cell_type": "code",
   "execution_count": 75,
   "metadata": {},
   "outputs": [
    {
     "data": {
      "text/plain": [
       "0    11\n",
       "1     3\n",
       "2     2\n",
       "3     1\n",
       "4     3\n",
       "5     4\n",
       "dtype: int64"
      ]
     },
     "execution_count": 75,
     "metadata": {},
     "output_type": "execute_result"
    }
   ],
   "source": [
    "num_images_detected = pd.DataFrame(unique_preds_by_image).sum(axis=0)\n",
    "num_images_detected"
   ]
  },
  {
   "cell_type": "code",
   "execution_count": 62,
   "metadata": {},
   "outputs": [
    {
     "data": {
      "text/plain": [
       "0    0.647059\n",
       "1    1.500000\n",
       "2    1.000000\n",
       "3    1.000000\n",
       "4    1.000000\n",
       "5    0.666667\n",
       "dtype: float64"
      ]
     },
     "execution_count": 62,
     "metadata": {},
     "output_type": "execute_result"
    }
   ],
   "source": [
    "np.divide(num_images_detected, num_images_labeled)"
   ]
  },
  {
   "cell_type": "code",
   "execution_count": 63,
   "metadata": {},
   "outputs": [
    {
     "data": {
      "text/plain": [
       "31"
      ]
     },
     "execution_count": 63,
     "metadata": {},
     "output_type": "execute_result"
    }
   ],
   "source": [
    "num_images_labeled.sum()"
   ]
  },
  {
   "cell_type": "code",
   "execution_count": null,
   "metadata": {},
   "outputs": [],
   "source": []
  },
  {
   "cell_type": "code",
   "execution_count": null,
   "metadata": {},
   "outputs": [],
   "source": []
  },
  {
   "cell_type": "code",
   "execution_count": null,
   "metadata": {},
   "outputs": [],
   "source": []
  },
  {
   "cell_type": "code",
   "execution_count": null,
   "metadata": {},
   "outputs": [],
   "source": []
  },
  {
   "cell_type": "code",
   "execution_count": 31,
   "metadata": {},
   "outputs": [],
   "source": [
    "%%capture\n",
    "\n",
    "results_folder = '/mnt/muthderd/MIDS/W210/data/val_results_3/'\n",
    "data_folder = '/mnt/muthderd/MIDS/W210/data/val2017/'\n",
    "\n",
    "#test_filenames = os.listdir(data_folder)\n",
    "test_filenames = files_to_open#[:25]\n",
    "\n",
    "all_test_annotations = pd.DataFrame(columns=['image_id', 'class_id', 'scores', 1, 2, 3, 4])\n",
    "\n",
    "baseline_model = baseline.BaselineClassifier(model='ssd_512_resnet50_v1_coco')\n",
    "\n",
    "pred_start = time.time()\n",
    "\n",
    "for image in test_filenames:\n",
    "    class_ids, scores, bounding_boxes = baseline_model.classify_objects(image, data_folder, results_folder)\n",
    "    \n",
    "    class_id_series = pd.Series(class_ids[0].asnumpy().reshape(len(class_ids[0]),))\n",
    "    score_series = pd.Series(scores[0].asnumpy().reshape(len(scores[0]),))\n",
    "    b_box_DF = pd.DataFrame(bounding_boxes[0].asnumpy().reshape(len(bounding_boxes[0]),4), columns=[1,2,3,4])\n",
    "    \n",
    "    class_id_series[class_id_series>-1]\n",
    "    score_series[class_id_series>-1]\n",
    "    b_box_DF[class_id_series>-1]\n",
    "    \n",
    "    test_annotations = b_box_DF[class_id_series>-1]\n",
    "    test_annotations['class_id'] = class_id_series[class_id_series>-1]\n",
    "    test_annotations['scores'] = score_series[class_id_series>-1]\n",
    "    \n",
    "    test_annotations['image_id'] = [image[:-4]]*len(test_annotations)\n",
    "    test_annotations = test_annotations[['image_id', 'class_id', 'scores', 1, 2, 3, 4]]\n",
    "    \n",
    "    all_test_annotations = pd.concat([all_test_annotations, test_annotations], ignore_index=True)\n",
    "    \n",
    "print(\"Total Annotations: \", str(len(all_test_annotations)))\n",
    "\n",
    "pred_end = time.time()\n",
    "pred_duration = pred_end - pred_start"
   ]
  },
  {
   "cell_type": "code",
   "execution_count": 32,
   "metadata": {},
   "outputs": [
    {
     "data": {
      "text/plain": [
       "564.4249608516693"
      ]
     },
     "execution_count": 32,
     "metadata": {},
     "output_type": "execute_result"
    }
   ],
   "source": [
    "pred_duration"
   ]
  },
  {
   "cell_type": "code",
   "execution_count": 33,
   "metadata": {},
   "outputs": [
    {
     "data": {
      "text/html": [
       "<div>\n",
       "<style scoped>\n",
       "    .dataframe tbody tr th:only-of-type {\n",
       "        vertical-align: middle;\n",
       "    }\n",
       "\n",
       "    .dataframe tbody tr th {\n",
       "        vertical-align: top;\n",
       "    }\n",
       "\n",
       "    .dataframe thead th {\n",
       "        text-align: right;\n",
       "    }\n",
       "</style>\n",
       "<table border=\"1\" class=\"dataframe\">\n",
       "  <thead>\n",
       "    <tr style=\"text-align: right;\">\n",
       "      <th></th>\n",
       "      <th>image_id</th>\n",
       "      <th>class_id</th>\n",
       "      <th>scores</th>\n",
       "      <th>1</th>\n",
       "      <th>2</th>\n",
       "      <th>3</th>\n",
       "      <th>4</th>\n",
       "    </tr>\n",
       "  </thead>\n",
       "  <tbody>\n",
       "    <tr>\n",
       "      <th>0</th>\n",
       "      <td>000000464476</td>\n",
       "      <td>62.0</td>\n",
       "      <td>0.994084</td>\n",
       "      <td>377.621948</td>\n",
       "      <td>288.606720</td>\n",
       "      <td>652.204346</td>\n",
       "      <td>508.373383</td>\n",
       "    </tr>\n",
       "    <tr>\n",
       "      <th>1</th>\n",
       "      <td>000000464476</td>\n",
       "      <td>0.0</td>\n",
       "      <td>0.991716</td>\n",
       "      <td>69.142776</td>\n",
       "      <td>77.343102</td>\n",
       "      <td>159.968185</td>\n",
       "      <td>331.558929</td>\n",
       "    </tr>\n",
       "    <tr>\n",
       "      <th>2</th>\n",
       "      <td>000000464476</td>\n",
       "      <td>62.0</td>\n",
       "      <td>0.315119</td>\n",
       "      <td>367.770813</td>\n",
       "      <td>51.634697</td>\n",
       "      <td>624.718262</td>\n",
       "      <td>280.566498</td>\n",
       "    </tr>\n",
       "    <tr>\n",
       "      <th>3</th>\n",
       "      <td>000000464476</td>\n",
       "      <td>6.0</td>\n",
       "      <td>0.197120</td>\n",
       "      <td>195.155273</td>\n",
       "      <td>32.164742</td>\n",
       "      <td>373.132996</td>\n",
       "      <td>200.863678</td>\n",
       "    </tr>\n",
       "    <tr>\n",
       "      <th>4</th>\n",
       "      <td>000000464476</td>\n",
       "      <td>0.0</td>\n",
       "      <td>0.105416</td>\n",
       "      <td>527.026184</td>\n",
       "      <td>351.558197</td>\n",
       "      <td>537.178528</td>\n",
       "      <td>362.751556</td>\n",
       "    </tr>\n",
       "    <tr>\n",
       "      <th>5</th>\n",
       "      <td>000000464476</td>\n",
       "      <td>0.0</td>\n",
       "      <td>0.098738</td>\n",
       "      <td>520.610962</td>\n",
       "      <td>352.366943</td>\n",
       "      <td>528.946655</td>\n",
       "      <td>362.981628</td>\n",
       "    </tr>\n",
       "    <tr>\n",
       "      <th>6</th>\n",
       "      <td>000000464476</td>\n",
       "      <td>0.0</td>\n",
       "      <td>0.096872</td>\n",
       "      <td>530.714355</td>\n",
       "      <td>351.537720</td>\n",
       "      <td>541.468994</td>\n",
       "      <td>362.626953</td>\n",
       "    </tr>\n",
       "    <tr>\n",
       "      <th>7</th>\n",
       "      <td>000000464476</td>\n",
       "      <td>0.0</td>\n",
       "      <td>0.090418</td>\n",
       "      <td>548.727539</td>\n",
       "      <td>353.481445</td>\n",
       "      <td>557.438843</td>\n",
       "      <td>363.910278</td>\n",
       "    </tr>\n",
       "    <tr>\n",
       "      <th>8</th>\n",
       "      <td>000000464476</td>\n",
       "      <td>62.0</td>\n",
       "      <td>0.084859</td>\n",
       "      <td>195.168060</td>\n",
       "      <td>31.367561</td>\n",
       "      <td>373.370697</td>\n",
       "      <td>204.342865</td>\n",
       "    </tr>\n",
       "    <tr>\n",
       "      <th>9</th>\n",
       "      <td>000000464476</td>\n",
       "      <td>62.0</td>\n",
       "      <td>0.081976</td>\n",
       "      <td>363.247223</td>\n",
       "      <td>109.605972</td>\n",
       "      <td>589.127808</td>\n",
       "      <td>501.856873</td>\n",
       "    </tr>\n",
       "  </tbody>\n",
       "</table>\n",
       "</div>"
      ],
      "text/plain": [
       "       image_id  class_id    scores           1           2           3  \\\n",
       "0  000000464476      62.0  0.994084  377.621948  288.606720  652.204346   \n",
       "1  000000464476       0.0  0.991716   69.142776   77.343102  159.968185   \n",
       "2  000000464476      62.0  0.315119  367.770813   51.634697  624.718262   \n",
       "3  000000464476       6.0  0.197120  195.155273   32.164742  373.132996   \n",
       "4  000000464476       0.0  0.105416  527.026184  351.558197  537.178528   \n",
       "5  000000464476       0.0  0.098738  520.610962  352.366943  528.946655   \n",
       "6  000000464476       0.0  0.096872  530.714355  351.537720  541.468994   \n",
       "7  000000464476       0.0  0.090418  548.727539  353.481445  557.438843   \n",
       "8  000000464476      62.0  0.084859  195.168060   31.367561  373.370697   \n",
       "9  000000464476      62.0  0.081976  363.247223  109.605972  589.127808   \n",
       "\n",
       "            4  \n",
       "0  508.373383  \n",
       "1  331.558929  \n",
       "2  280.566498  \n",
       "3  200.863678  \n",
       "4  362.751556  \n",
       "5  362.981628  \n",
       "6  362.626953  \n",
       "7  363.910278  \n",
       "8  204.342865  \n",
       "9  501.856873  "
      ]
     },
     "execution_count": 33,
     "metadata": {},
     "output_type": "execute_result"
    }
   ],
   "source": [
    "all_test_annotations[:10]"
   ]
  },
  {
   "cell_type": "code",
   "execution_count": 34,
   "metadata": {},
   "outputs": [],
   "source": [
    "all_test_annotations.to_csv('val_result_annotations_3.csv')"
   ]
  },
  {
   "cell_type": "code",
   "execution_count": 35,
   "metadata": {
    "scrolled": true
   },
   "outputs": [],
   "source": [
    "pred_prob_threshold = 0.5\n",
    "result_annotations = all_test_annotations[all_test_annotations['scores']>pred_prob_threshold]\n",
    "eIDs_in_results = result_annotations.groupby('image_id')['class_id'].apply(list).to_dict()\n",
    "#eIDs_in_results"
   ]
  },
  {
   "cell_type": "code",
   "execution_count": 36,
   "metadata": {},
   "outputs": [],
   "source": [
    "#quick hack to deal with the fact that the class IDs predicted by the baseline model are 10 lower than those in the annotation file\n",
    "#and to throw out non electronics identified\n",
    "predicted_eIDs = {}\n",
    "for image_id in eIDs_in_results.keys():\n",
    "    corrected_IDs = np.add(eIDs_in_results[image_id],10).astype(int)\n",
    "    llimit = corrected_IDs >= 72\n",
    "    ulimit = corrected_IDs <=77\n",
    "    #print(llimit & ulimit)\n",
    "    corrected_IDs = corrected_IDs[llimit & ulimit]\n",
    "    #eIDs_in_results[image_id] = list(corrected_IDs)\n",
    "    predicted_eIDs[int(image_id)] = list(corrected_IDs)\n",
    "#predicted_eIDs"
   ]
  },
  {
   "cell_type": "code",
   "execution_count": 37,
   "metadata": {},
   "outputs": [],
   "source": [
    "total_pred_counts = [0, 0, 0, 0, 0, 0]#can use a smarter structure here\n",
    "total_label_counts = [0, 0, 0, 0, 0, 0]\n",
    "pred_counts = [0, 0, 0, 0, 0, 0]#can use a smarter structure here\n",
    "label_counts = [0, 0, 0, 0, 0, 0]\n",
    "#current counting method will not take into account false positives\n",
    "for image_id in predicted_eIDs.keys():\n",
    "    labels = eIDs_in_images[image_id]\n",
    "    for label in labels:\n",
    "        total_label_counts[label-72] += 1\n",
    "    preds = predicted_eIDs[image_id]\n",
    "    for pred in preds:\n",
    "        total_pred_counts[pred-72] += 1\n",
    "    \n",
    "    unique_labels = list(set(labels))\n",
    "    unique_preds = list(set(preds))\n",
    "    for label in unique_labels:\n",
    "        label_counts[label-72] += 1\n",
    "    for pred in unique_preds:\n",
    "        pred_counts[pred-72] += 1"
   ]
  },
  {
   "cell_type": "code",
   "execution_count": 38,
   "metadata": {},
   "outputs": [
    {
     "data": {
      "text/plain": [
       "[212, 190, 76, 90, 98, 113]"
      ]
     },
     "execution_count": 38,
     "metadata": {},
     "output_type": "execute_result"
    }
   ],
   "source": [
    "total_pred_counts"
   ]
  },
  {
   "cell_type": "code",
   "execution_count": 39,
   "metadata": {},
   "outputs": [
    {
     "data": {
      "text/plain": [
       "[288, 230, 106, 282, 153, 259]"
      ]
     },
     "execution_count": 39,
     "metadata": {},
     "output_type": "execute_result"
    }
   ],
   "source": [
    "total_label_counts"
   ]
  },
  {
   "cell_type": "code",
   "execution_count": 40,
   "metadata": {},
   "outputs": [
    {
     "data": {
      "text/plain": [
       "array([0.73611111, 0.82608696, 0.71698113, 0.31914894, 0.64052288,\n",
       "       0.43629344])"
      ]
     },
     "execution_count": 40,
     "metadata": {},
     "output_type": "execute_result"
    }
   ],
   "source": [
    "np.divide(total_pred_counts, total_label_counts)"
   ]
  },
  {
   "cell_type": "code",
   "execution_count": 41,
   "metadata": {},
   "outputs": [
    {
     "data": {
      "text/plain": [
       "[172, 156, 62, 62, 78, 96]"
      ]
     },
     "execution_count": 41,
     "metadata": {},
     "output_type": "execute_result"
    }
   ],
   "source": [
    "pred_counts"
   ]
  },
  {
   "cell_type": "code",
   "execution_count": 42,
   "metadata": {},
   "outputs": [
    {
     "data": {
      "text/plain": [
       "[207, 182, 88, 144, 106, 211]"
      ]
     },
     "execution_count": 42,
     "metadata": {},
     "output_type": "execute_result"
    }
   ],
   "source": [
    "label_counts"
   ]
  },
  {
   "cell_type": "code",
   "execution_count": 43,
   "metadata": {},
   "outputs": [
    {
     "data": {
      "text/plain": [
       "array([0.83091787, 0.85714286, 0.70454545, 0.43055556, 0.73584906,\n",
       "       0.4549763 ])"
      ]
     },
     "execution_count": 43,
     "metadata": {},
     "output_type": "execute_result"
    }
   ],
   "source": [
    "np.divide(pred_counts, label_counts)"
   ]
  },
  {
   "cell_type": "code",
   "execution_count": 44,
   "metadata": {},
   "outputs": [
    {
     "data": {
      "text/plain": [
       "0.6673773987206824"
      ]
     },
     "execution_count": 44,
     "metadata": {},
     "output_type": "execute_result"
    }
   ],
   "source": [
    "sum(pred_counts)/sum(label_counts)"
   ]
  },
  {
   "cell_type": "code",
   "execution_count": null,
   "metadata": {},
   "outputs": [],
   "source": []
  },
  {
   "cell_type": "code",
   "execution_count": null,
   "metadata": {},
   "outputs": [],
   "source": []
  },
  {
   "cell_type": "code",
   "execution_count": null,
   "metadata": {},
   "outputs": [],
   "source": []
  },
  {
   "cell_type": "code",
   "execution_count": null,
   "metadata": {},
   "outputs": [],
   "source": []
  }
 ],
 "metadata": {
  "kernelspec": {
   "display_name": "Python 3",
   "language": "python",
   "name": "python3"
  },
  "language_info": {
   "codemirror_mode": {
    "name": "ipython",
    "version": 3
   },
   "file_extension": ".py",
   "mimetype": "text/x-python",
   "name": "python",
   "nbconvert_exporter": "python",
   "pygments_lexer": "ipython3",
   "version": "3.7.1"
  },
  "varInspector": {
   "cols": {
    "lenName": 16,
    "lenType": 16,
    "lenVar": 40
   },
   "kernels_config": {
    "python": {
     "delete_cmd_postfix": "",
     "delete_cmd_prefix": "del ",
     "library": "var_list.py",
     "varRefreshCmd": "print(var_dic_list())"
    },
    "r": {
     "delete_cmd_postfix": ") ",
     "delete_cmd_prefix": "rm(",
     "library": "var_list.r",
     "varRefreshCmd": "cat(var_dic_list()) "
    }
   },
   "types_to_exclude": [
    "module",
    "function",
    "builtin_function_or_method",
    "instance",
    "_Feature"
   ],
   "window_display": true
  }
 },
 "nbformat": 4,
 "nbformat_minor": 2
}
